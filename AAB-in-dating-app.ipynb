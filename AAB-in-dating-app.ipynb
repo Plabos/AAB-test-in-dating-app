{
 "cells": [
  {
   "cell_type": "markdown",
   "metadata": {},
   "source": [
    "## Задание "
   ]
  },
  {
   "cell_type": "markdown",
   "metadata": {},
   "source": [
    "Представьте, что вы работаете в крупном дейтинговом приложении.\n",
    "\n",
    "Помимо базовых функций, в приложении также имеется премиум-подписка, которая дает доступ к ряду важных дополнительных возможностей. Был проведен A/B тест, в рамках которого для новых пользователей из нескольких стран была изменена стоимость премиум-подписки* при покупке через две новые платежные системы. При этом стоимость пробного периода оставалась прежней.\n",
    "\n",
    "Проверьте: Был ли эксперимент успешен в целом.\n",
    "\n",
    "*Деньги за подписку списываются ежемесячно до тех пор, пока пользователь её не отменит.\n",
    "\n",
    "Всего есть три группы: тестовая (test), контрольная 1 (control_1) и контрольная 2 (control_2). Для каждой из них:\n",
    "\n",
    "users_*.csv – информация о пользователях\n",
    "\n",
    "transactions_*.csv – информация о платежах пользователей"
   ]
  },
  {
   "cell_type": "markdown",
   "metadata": {},
   "source": [
    "#### Общие размышления "
   ]
  },
  {
   "cell_type": "markdown",
   "metadata": {},
   "source": [
    "Мы имеем три группы, две из которых являются контрольными. Две контрольные группы могут использоваться для того, чтобы определить, что мы разбили наших пользователей равноценно и они не отличаются по каким-либо показателям. К тому же время выравнивания показателей в контрольных группах поможет в будущем предполагать время, которое будет занимать эксперимент.\n",
    "\n",
    "Опишем процедуру проведения a/b теста в случае двух контрольных групп:\n",
    "\n",
    "1) Формируем гипотезу.\n",
    "\n",
    "2) Определяем ключевую метрику(и).\n",
    "\n",
    "3) Делим пользователей на группы.\n",
    "\n",
    "4) Проводим a/a тестирование( определяем, что пользователи в контрольных группах не отличаются по тем показателям, которые не являются ключевыми )\n",
    "\n",
    "5) Выбираем стат. тест для проверки ключевых метрик\n",
    "\n",
    "6) Проводим эксперимент на всех трех группах( контрольные группы можно объединить, если будет показано, что они не отличаются по не ключевым показателям)\n",
    "\n",
    "7) На основания результатов теста делаем вывод о результатах эксперимента"
   ]
  },
  {
   "cell_type": "markdown",
   "metadata": {},
   "source": [
    "В данном случае тест уже проведен. Пункт 1,3 и 6 уже выполнены. Наша задача - показать, что 3 и остальные пункты были проведены корректно, выбрать самостоятельно метрики и, смотря на метрики, определить результат эксперимента."
   ]
  },
  {
   "cell_type": "markdown",
   "metadata": {},
   "source": [
    "Сейчас мы выступаем на стороне бизнеса, поэтому оценивать результат будем с точки зрения бизнеса. Сама суть бизнеса в том, чтобы зарабатывать деньги и, в теории, все его действия направлены на то, чтобы поддерживать и увеличивать финансовые показатели прямо или косвенно. \n",
    "\n",
    "В условии сказано, что стоимость подписки была изменена( направление изменения не указано). На что в поведении пользователей могло влиять изменение цены подписки? При этом важно, что данное поведение должно быть полезным бизнесу(судя по описанию данных не только покупатели подписки приносят бизнесу деньги).\n",
    "\n",
    "1) Больше(меньше) пользователей могли приобретать подписку после введения изменения. Похоже на конверсию.\n",
    "\n",
    "2) Теперь платящий за подписку пользователь в среднем приносит больше(меньше) денег.\n",
    "\n",
    "3) Косвенным образом меняется количество денег в среднем на пользователя\n",
    "\n",
    "Показатель 2 - arppu, а 3 - arpu. Быть может мы добавим еще метрики, если увидим внутри приложения взаимосвязь премиум-подписки с другими показателями."
   ]
  },
  {
   "cell_type": "markdown",
   "metadata": {},
   "source": [
    "Итак, общее направление действий определено. Теперь стоит приступить к изучению таблиц и взаимосвязей в них"
   ]
  },
  {
   "cell_type": "markdown",
   "metadata": {},
   "source": [
    "### Импорт библиотек"
   ]
  },
  {
   "cell_type": "code",
   "execution_count": 2,
   "metadata": {},
   "outputs": [],
   "source": [
    "import pandas as pd\n",
    "import requests as r\n",
    "import pingouin as pg"
   ]
  },
  {
   "cell_type": "markdown",
   "metadata": {},
   "source": [
    "### Считывание файлов \n"
   ]
  },
  {
   "cell_type": "code",
   "execution_count": 3,
   "metadata": {},
   "outputs": [],
   "source": [
    "# нам предстоит проделать одинаковую операцию(считывания файла) 6 раз, поэтому будет лучше написать функцию.\n",
    "# Функция принимает ссылку на файл и параметр, который сообщает, есть ли в файле колонки с типом дата(по умолчанию нет)\n",
    "def reading_file(link, have_dates=0):\n",
    "    file = r.get(f'https://cloud-api.yandex.net/v1/disk/public/resources?public_key={link}').json()['file']\n",
    "    \n",
    "    if have_dates:\n",
    "        df = pd.read_csv(file, sep=';', parse_dates=[2, 3])\n",
    "    else:\n",
    "        df = pd.read_csv(file, sep=';')\n",
    "        # здесь разделитель ; - это связано с особенностью данных в одной из колонок\n",
    "        \n",
    "    return df"
   ]
  },
  {
   "cell_type": "code",
   "execution_count": 4,
   "metadata": {},
   "outputs": [],
   "source": [
    "users_test = reading_file('https://disk.yandex.ru/d/4XXIME4osGrMRA')\n",
    "users_control_1 = reading_file('https://disk.yandex.ru/d/yJFydMNNGkEKfg')\n",
    "users_control_2 = reading_file('https://disk.yandex.ru/d/br6KkQupzzTGoQ')\n",
    "transactions_test = reading_file('https://disk.yandex.ru/d/gvCWpZ55ODzs2g', 1)\n",
    "transactions_control_1 = reading_file('https://disk.yandex.ru/d/VY5W0keMX5TZBQ', 1)\n",
    "transactions_control_2 = reading_file('https://disk.yandex.ru/d/th5GL0mGOc-qzg', 1)"
   ]
  },
  {
   "cell_type": "markdown",
   "metadata": {},
   "source": [
    "# Разведочный анализ данных"
   ]
  },
  {
   "cell_type": "markdown",
   "metadata": {},
   "source": [
    "По условию, мы видим, что файлы о трех группах организованы схожим образом. Было бы удобно изучить информацию о них разом."
   ]
  },
  {
   "cell_type": "markdown",
   "metadata": {},
   "source": [
    "### Файлы users "
   ]
  },
  {
   "cell_type": "code",
   "execution_count": 5,
   "metadata": {},
   "outputs": [
    {
     "data": {
      "text/html": [
       "<div>\n",
       "<style scoped>\n",
       "    .dataframe tbody tr th:only-of-type {\n",
       "        vertical-align: middle;\n",
       "    }\n",
       "\n",
       "    .dataframe tbody tr th {\n",
       "        vertical-align: top;\n",
       "    }\n",
       "\n",
       "    .dataframe thead th {\n",
       "        text-align: right;\n",
       "    }\n",
       "</style>\n",
       "<table border=\"1\" class=\"dataframe\">\n",
       "  <thead>\n",
       "    <tr style=\"text-align: right;\">\n",
       "      <th></th>\n",
       "      <th>uid</th>\n",
       "      <th>age</th>\n",
       "      <th>attraction_coeff</th>\n",
       "      <th>coins</th>\n",
       "      <th>country</th>\n",
       "      <th>visit_days</th>\n",
       "      <th>gender</th>\n",
       "      <th>age_filter_start</th>\n",
       "      <th>age_filter_end</th>\n",
       "      <th>views_count</th>\n",
       "      <th>was_premium</th>\n",
       "      <th>is_premium</th>\n",
       "      <th>total_revenue</th>\n",
       "    </tr>\n",
       "  </thead>\n",
       "  <tbody>\n",
       "    <tr>\n",
       "      <th>0</th>\n",
       "      <td>892309896</td>\n",
       "      <td>27</td>\n",
       "      <td>685</td>\n",
       "      <td>NaN</td>\n",
       "      <td>United States of America</td>\n",
       "      <td>1,2,3,4,5,6,7,8,9,10,11,12,16,17</td>\n",
       "      <td>1</td>\n",
       "      <td>24</td>\n",
       "      <td>30</td>\n",
       "      <td>89</td>\n",
       "      <td>NaN</td>\n",
       "      <td>NaN</td>\n",
       "      <td>0</td>\n",
       "    </tr>\n",
       "    <tr>\n",
       "      <th>1</th>\n",
       "      <td>892044516</td>\n",
       "      <td>27</td>\n",
       "      <td>0</td>\n",
       "      <td>NaN</td>\n",
       "      <td>Germany</td>\n",
       "      <td>NaN</td>\n",
       "      <td>1</td>\n",
       "      <td>24</td>\n",
       "      <td>30</td>\n",
       "      <td>0</td>\n",
       "      <td>NaN</td>\n",
       "      <td>NaN</td>\n",
       "      <td>0</td>\n",
       "    </tr>\n",
       "    <tr>\n",
       "      <th>2</th>\n",
       "      <td>892185708</td>\n",
       "      <td>45</td>\n",
       "      <td>44</td>\n",
       "      <td>NaN</td>\n",
       "      <td>Israel</td>\n",
       "      <td>1,3,4,6,7,8,10,11,12,13,14,15,16,17,18,19,20,2...</td>\n",
       "      <td>1</td>\n",
       "      <td>42</td>\n",
       "      <td>48</td>\n",
       "      <td>68</td>\n",
       "      <td>NaN</td>\n",
       "      <td>NaN</td>\n",
       "      <td>0</td>\n",
       "    </tr>\n",
       "    <tr>\n",
       "      <th>3</th>\n",
       "      <td>892130292</td>\n",
       "      <td>32</td>\n",
       "      <td>0</td>\n",
       "      <td>NaN</td>\n",
       "      <td>United States of America</td>\n",
       "      <td>1,2,3,4,5,6,7,8,9,10,11,12</td>\n",
       "      <td>1</td>\n",
       "      <td>29</td>\n",
       "      <td>35</td>\n",
       "      <td>0</td>\n",
       "      <td>NaN</td>\n",
       "      <td>NaN</td>\n",
       "      <td>0</td>\n",
       "    </tr>\n",
       "    <tr>\n",
       "      <th>4</th>\n",
       "      <td>891406035</td>\n",
       "      <td>27</td>\n",
       "      <td>1000</td>\n",
       "      <td>NaN</td>\n",
       "      <td>France</td>\n",
       "      <td>NaN</td>\n",
       "      <td>1</td>\n",
       "      <td>24</td>\n",
       "      <td>30</td>\n",
       "      <td>1</td>\n",
       "      <td>1.0</td>\n",
       "      <td>NaN</td>\n",
       "      <td>0</td>\n",
       "    </tr>\n",
       "  </tbody>\n",
       "</table>\n",
       "</div>"
      ],
      "text/plain": [
       "         uid  age  attraction_coeff  coins                   country  \\\n",
       "0  892309896   27               685    NaN  United States of America   \n",
       "1  892044516   27                 0    NaN                   Germany   \n",
       "2  892185708   45                44    NaN                    Israel   \n",
       "3  892130292   32                 0    NaN  United States of America   \n",
       "4  891406035   27              1000    NaN                    France   \n",
       "\n",
       "                                          visit_days  gender  \\\n",
       "0                   1,2,3,4,5,6,7,8,9,10,11,12,16,17       1   \n",
       "1                                                NaN       1   \n",
       "2  1,3,4,6,7,8,10,11,12,13,14,15,16,17,18,19,20,2...       1   \n",
       "3                         1,2,3,4,5,6,7,8,9,10,11,12       1   \n",
       "4                                                NaN       1   \n",
       "\n",
       "   age_filter_start  age_filter_end  views_count  was_premium  is_premium  \\\n",
       "0                24              30           89          NaN         NaN   \n",
       "1                24              30            0          NaN         NaN   \n",
       "2                42              48           68          NaN         NaN   \n",
       "3                29              35            0          NaN         NaN   \n",
       "4                24              30            1          1.0         NaN   \n",
       "\n",
       "   total_revenue  \n",
       "0              0  \n",
       "1              0  \n",
       "2              0  \n",
       "3              0  \n",
       "4              0  "
      ]
     },
     "execution_count": 5,
     "metadata": {},
     "output_type": "execute_result"
    }
   ],
   "source": [
    "users_test.head()"
   ]
  },
  {
   "cell_type": "markdown",
   "metadata": {},
   "source": [
    "Кроме того, мы знаем, что изменение вводилось на новых пользователях, в некоторых странах, стоимость подписки менялась при покупке через 2 новые платежные системы. Из всей этой информации здесь можно оценить только информацию о странах.\n",
    "Также мы можем в первом приближении посмотреть на количество премиум-клиентов и выручку в каждой группе."
   ]
  },
  {
   "cell_type": "code",
   "execution_count": 6,
   "metadata": {},
   "outputs": [],
   "source": [
    "\"\"\"Функция для выведения информации о группе пользователей\n",
    "На вход подается таблица с данными о пользователях и название этой таблицы,\n",
    "чтобы потом отобразить его при выведении информации\"\"\"\n",
    "\n",
    "def data_tale(df, df_name):\n",
    "    result = pd.DataFrame([[df.shape[0]],\n",
    "                           [df.columns[df.isna().any()].tolist()],\n",
    "                           [df.uid.nunique()], \n",
    "                           [df.duplicated().sum()],\n",
    "                           [df.country.nunique()],\n",
    "                           [df.was_premium.sum()],\n",
    "                           [df.is_premium.sum()],\n",
    "                           [df.age.min()],\n",
    "                           [df.age.max()],\n",
    "                           [df.age.mean()],\n",
    "                           [df.total_revenue.mean()],\n",
    "                           [df.total_revenue.sum()]],\n",
    "                          index=['Number_of_users', \n",
    "                                 'Columns_with_gaps', \n",
    "                                 'Unique_users', \n",
    "                                 'Duplicate_lines', \n",
    "                                 'Unique_countries', \n",
    "                                 'Number_of_was_premium', \n",
    "                                 'Number_of_is_premium', \n",
    "                                 'Min_age', \n",
    "                                 'Max_age', \n",
    "                                 'Average_age', \n",
    "                                 'Average_revenue', \n",
    "                                 'Sum_revenue'], \n",
    "                          columns=[df_name])\n",
    "                                                         \n",
    "    return result"
   ]
  },
  {
   "cell_type": "code",
   "execution_count": 7,
   "metadata": {},
   "outputs": [
    {
     "data": {
      "text/html": [
       "<div>\n",
       "<style scoped>\n",
       "    .dataframe tbody tr th:only-of-type {\n",
       "        vertical-align: middle;\n",
       "    }\n",
       "\n",
       "    .dataframe tbody tr th {\n",
       "        vertical-align: top;\n",
       "    }\n",
       "\n",
       "    .dataframe thead th {\n",
       "        text-align: right;\n",
       "    }\n",
       "</style>\n",
       "<table border=\"1\" class=\"dataframe\">\n",
       "  <thead>\n",
       "    <tr style=\"text-align: right;\">\n",
       "      <th></th>\n",
       "      <th>test</th>\n",
       "      <th>control_1</th>\n",
       "      <th>control_2</th>\n",
       "      <th>explanation</th>\n",
       "    </tr>\n",
       "  </thead>\n",
       "  <tbody>\n",
       "    <tr>\n",
       "      <th>Number_of_users</th>\n",
       "      <td>4308</td>\n",
       "      <td>4340</td>\n",
       "      <td>4264</td>\n",
       "      <td>Количество записей</td>\n",
       "    </tr>\n",
       "    <tr>\n",
       "      <th>Columns_with_gaps</th>\n",
       "      <td>[coins, visit_days, was_premium, is_premium]</td>\n",
       "      <td>[coins, visit_days, was_premium, is_premium]</td>\n",
       "      <td>[coins, visit_days, was_premium, is_premium]</td>\n",
       "      <td>Колонки с пропусками</td>\n",
       "    </tr>\n",
       "    <tr>\n",
       "      <th>Unique_users</th>\n",
       "      <td>4308</td>\n",
       "      <td>4340</td>\n",
       "      <td>4264</td>\n",
       "      <td>Уникальные пользователи</td>\n",
       "    </tr>\n",
       "    <tr>\n",
       "      <th>Duplicate_lines</th>\n",
       "      <td>0</td>\n",
       "      <td>0</td>\n",
       "      <td>0</td>\n",
       "      <td>Повторяющиеся строки</td>\n",
       "    </tr>\n",
       "    <tr>\n",
       "      <th>Unique_countries</th>\n",
       "      <td>51</td>\n",
       "      <td>40</td>\n",
       "      <td>45</td>\n",
       "      <td>Страны в этой группе</td>\n",
       "    </tr>\n",
       "    <tr>\n",
       "      <th>Number_of_was_premium</th>\n",
       "      <td>408</td>\n",
       "      <td>436</td>\n",
       "      <td>411</td>\n",
       "      <td>Количество was_premium</td>\n",
       "    </tr>\n",
       "    <tr>\n",
       "      <th>Number_of_is_premium</th>\n",
       "      <td>157</td>\n",
       "      <td>192</td>\n",
       "      <td>191</td>\n",
       "      <td>Количество is_premium</td>\n",
       "    </tr>\n",
       "    <tr>\n",
       "      <th>Min_age</th>\n",
       "      <td>16</td>\n",
       "      <td>16</td>\n",
       "      <td>16</td>\n",
       "      <td>Минимальный возраст</td>\n",
       "    </tr>\n",
       "    <tr>\n",
       "      <th>Max_age</th>\n",
       "      <td>99</td>\n",
       "      <td>99</td>\n",
       "      <td>99</td>\n",
       "      <td>Максимальный возраст</td>\n",
       "    </tr>\n",
       "    <tr>\n",
       "      <th>Average_age</th>\n",
       "      <td>31.8893</td>\n",
       "      <td>32.0954</td>\n",
       "      <td>32.0462</td>\n",
       "      <td>Средний возраст</td>\n",
       "    </tr>\n",
       "    <tr>\n",
       "      <th>Average_revenue</th>\n",
       "      <td>534.08</td>\n",
       "      <td>594.762</td>\n",
       "      <td>450.384</td>\n",
       "      <td>Средняя выручка</td>\n",
       "    </tr>\n",
       "    <tr>\n",
       "      <th>Sum_revenue</th>\n",
       "      <td>2300818</td>\n",
       "      <td>2581267</td>\n",
       "      <td>1920438</td>\n",
       "      <td>Общая выручка</td>\n",
       "    </tr>\n",
       "  </tbody>\n",
       "</table>\n",
       "</div>"
      ],
      "text/plain": [
       "                                                               test  \\\n",
       "Number_of_users                                                4308   \n",
       "Columns_with_gaps      [coins, visit_days, was_premium, is_premium]   \n",
       "Unique_users                                                   4308   \n",
       "Duplicate_lines                                                   0   \n",
       "Unique_countries                                                 51   \n",
       "Number_of_was_premium                                           408   \n",
       "Number_of_is_premium                                            157   \n",
       "Min_age                                                          16   \n",
       "Max_age                                                          99   \n",
       "Average_age                                                 31.8893   \n",
       "Average_revenue                                              534.08   \n",
       "Sum_revenue                                                 2300818   \n",
       "\n",
       "                                                          control_1  \\\n",
       "Number_of_users                                                4340   \n",
       "Columns_with_gaps      [coins, visit_days, was_premium, is_premium]   \n",
       "Unique_users                                                   4340   \n",
       "Duplicate_lines                                                   0   \n",
       "Unique_countries                                                 40   \n",
       "Number_of_was_premium                                           436   \n",
       "Number_of_is_premium                                            192   \n",
       "Min_age                                                          16   \n",
       "Max_age                                                          99   \n",
       "Average_age                                                 32.0954   \n",
       "Average_revenue                                             594.762   \n",
       "Sum_revenue                                                 2581267   \n",
       "\n",
       "                                                          control_2  \\\n",
       "Number_of_users                                                4264   \n",
       "Columns_with_gaps      [coins, visit_days, was_premium, is_premium]   \n",
       "Unique_users                                                   4264   \n",
       "Duplicate_lines                                                   0   \n",
       "Unique_countries                                                 45   \n",
       "Number_of_was_premium                                           411   \n",
       "Number_of_is_premium                                            191   \n",
       "Min_age                                                          16   \n",
       "Max_age                                                          99   \n",
       "Average_age                                                 32.0462   \n",
       "Average_revenue                                             450.384   \n",
       "Sum_revenue                                                 1920438   \n",
       "\n",
       "                                   explanation  \n",
       "Number_of_users             Количество записей  \n",
       "Columns_with_gaps         Колонки с пропусками  \n",
       "Unique_users           Уникальные пользователи  \n",
       "Duplicate_lines           Повторяющиеся строки  \n",
       "Unique_countries          Страны в этой группе  \n",
       "Number_of_was_premium   Количество was_premium  \n",
       "Number_of_is_premium     Количество is_premium  \n",
       "Min_age                    Минимальный возраст  \n",
       "Max_age                   Максимальный возраст  \n",
       "Average_age                    Средний возраст  \n",
       "Average_revenue                Средняя выручка  \n",
       "Sum_revenue                      Общая выручка  "
      ]
     },
     "execution_count": 7,
     "metadata": {},
     "output_type": "execute_result"
    }
   ],
   "source": [
    "\"\"\"\"Для каждой из таблиц, мы обращаемся к функции, а потом все 3 полученных столбца соединяем в один \n",
    "датафрейм, в котором можно удобно оценить показатели всех 3 таблиц\"\"\"\n",
    "\n",
    "users_data_tale = data_tale(users_test, 'test')\n",
    "users_data_tale['control_1'] = data_tale(users_control_1, 'control_1')\n",
    "users_data_tale['control_2'] = data_tale(users_control_2, 'control_2')\n",
    "users_data_tale['explanation'] = pd.DataFrame([['Количество записей'],\n",
    "                                               ['Колонки с пропусками'],\n",
    "                                               ['Уникальные пользователи'],\n",
    "                                               ['Повторяющиеся строки'],\n",
    "                                               ['Страны в этой группе'],\n",
    "                                               ['Количество was_premium'],\n",
    "                                               ['Количество is_premium'],\n",
    "                                               ['Минимальный возраст'],\n",
    "                                               ['Максимальный возраст'],\n",
    "                                               ['Средний возраст'],\n",
    "                                               ['Средняя выручка'],\n",
    "                                               ['Общая выручка']],\n",
    "                                              index=['Number_of_users', \n",
    "                                                     'Columns_with_gaps', \n",
    "                                                     'Unique_users', \n",
    "                                                     'Duplicate_lines', \n",
    "                                                     'Unique_countries', \n",
    "                                                     'Number_of_was_premium', \n",
    "                                                     'Number_of_is_premium', \n",
    "                                                     'Min_age', \n",
    "                                                     'Max_age', \n",
    "                                                     'Average_age', \n",
    "                                                     'Average_revenue', \n",
    "                                                     'Sum_revenue'])\n",
    "\n",
    "users_data_tale"
   ]
  },
  {
   "cell_type": "markdown",
   "metadata": {},
   "source": [
    "#### Выводы по сводной таблице users "
   ]
  },
  {
   "cell_type": "markdown",
   "metadata": {},
   "source": [
    "Внутри каждой таблицы пользователи уникальны и их количество различается не более чем на 80 человек при среднем числе пользователей 4304.\n",
    "\n",
    "Во всех 3 таблицах одни и те же столбцы содержат пропущенные значения, а дубликатов нет.\n",
    "\n",
    "Количество стран в группах разнится, но на данный момент - это не беда. Позднее нужно будет сделать список стран единообразным, чтобы следовать концепции эксперимента.\n",
    "\n",
    "Количество тех, кто был премиум различается. При среднем 418.3 количество пользователей в тестовой группе различается максимально на 28 человек, что составляет 7% от среднего числа таких пользователей среди всех групп.\n",
    "\n",
    "Для тех, кто является премиум ситуация отличается. При среднем 180, количество пользователей в тестовой группе отличается максимально на 35 человек, что составляет 19% от среднего количества.\n",
    "\n",
    "Минимальный, максимальный возраст пользователей одинаковы, средний отличиается, но различие не кажется значительным.\n",
    "\n",
    "Средняя выручка на пользователя и общая выручка различаются во всех группах"
   ]
  },
  {
   "cell_type": "code",
   "execution_count": 8,
   "metadata": {},
   "outputs": [
    {
     "data": {
      "text/html": [
       "<div>\n",
       "<style scoped>\n",
       "    .dataframe tbody tr th:only-of-type {\n",
       "        vertical-align: middle;\n",
       "    }\n",
       "\n",
       "    .dataframe tbody tr th {\n",
       "        vertical-align: top;\n",
       "    }\n",
       "\n",
       "    .dataframe thead th {\n",
       "        text-align: right;\n",
       "    }\n",
       "</style>\n",
       "<table border=\"1\" class=\"dataframe\">\n",
       "  <thead>\n",
       "    <tr style=\"text-align: right;\">\n",
       "      <th></th>\n",
       "      <th>users_test</th>\n",
       "      <th>users_control_1</th>\n",
       "      <th>users_control_2</th>\n",
       "    </tr>\n",
       "  </thead>\n",
       "  <tbody>\n",
       "    <tr>\n",
       "      <th>uid</th>\n",
       "      <td>int64</td>\n",
       "      <td>int64</td>\n",
       "      <td>int64</td>\n",
       "    </tr>\n",
       "    <tr>\n",
       "      <th>age</th>\n",
       "      <td>int64</td>\n",
       "      <td>int64</td>\n",
       "      <td>int64</td>\n",
       "    </tr>\n",
       "    <tr>\n",
       "      <th>attraction_coeff</th>\n",
       "      <td>int64</td>\n",
       "      <td>int64</td>\n",
       "      <td>int64</td>\n",
       "    </tr>\n",
       "    <tr>\n",
       "      <th>coins</th>\n",
       "      <td>float64</td>\n",
       "      <td>float64</td>\n",
       "      <td>float64</td>\n",
       "    </tr>\n",
       "    <tr>\n",
       "      <th>country</th>\n",
       "      <td>object</td>\n",
       "      <td>object</td>\n",
       "      <td>object</td>\n",
       "    </tr>\n",
       "    <tr>\n",
       "      <th>visit_days</th>\n",
       "      <td>object</td>\n",
       "      <td>object</td>\n",
       "      <td>object</td>\n",
       "    </tr>\n",
       "    <tr>\n",
       "      <th>gender</th>\n",
       "      <td>int64</td>\n",
       "      <td>int64</td>\n",
       "      <td>int64</td>\n",
       "    </tr>\n",
       "    <tr>\n",
       "      <th>age_filter_start</th>\n",
       "      <td>int64</td>\n",
       "      <td>int64</td>\n",
       "      <td>int64</td>\n",
       "    </tr>\n",
       "    <tr>\n",
       "      <th>age_filter_end</th>\n",
       "      <td>int64</td>\n",
       "      <td>int64</td>\n",
       "      <td>int64</td>\n",
       "    </tr>\n",
       "    <tr>\n",
       "      <th>views_count</th>\n",
       "      <td>int64</td>\n",
       "      <td>int64</td>\n",
       "      <td>int64</td>\n",
       "    </tr>\n",
       "    <tr>\n",
       "      <th>was_premium</th>\n",
       "      <td>float64</td>\n",
       "      <td>float64</td>\n",
       "      <td>float64</td>\n",
       "    </tr>\n",
       "    <tr>\n",
       "      <th>is_premium</th>\n",
       "      <td>float64</td>\n",
       "      <td>float64</td>\n",
       "      <td>float64</td>\n",
       "    </tr>\n",
       "    <tr>\n",
       "      <th>total_revenue</th>\n",
       "      <td>int64</td>\n",
       "      <td>int64</td>\n",
       "      <td>int64</td>\n",
       "    </tr>\n",
       "  </tbody>\n",
       "</table>\n",
       "</div>"
      ],
      "text/plain": [
       "                 users_test users_control_1 users_control_2\n",
       "uid                   int64           int64           int64\n",
       "age                   int64           int64           int64\n",
       "attraction_coeff      int64           int64           int64\n",
       "coins               float64         float64         float64\n",
       "country              object          object          object\n",
       "visit_days           object          object          object\n",
       "gender                int64           int64           int64\n",
       "age_filter_start      int64           int64           int64\n",
       "age_filter_end        int64           int64           int64\n",
       "views_count           int64           int64           int64\n",
       "was_premium         float64         float64         float64\n",
       "is_premium          float64         float64         float64\n",
       "total_revenue         int64           int64           int64"
      ]
     },
     "execution_count": 8,
     "metadata": {},
     "output_type": "execute_result"
    }
   ],
   "source": [
    "# Соберем информацию о типах данных в таблицах о пользователях и представим ее в одном месте\n",
    "users_dtypes = users_test.dtypes.to_frame().rename(columns={0: 'users_test'})\n",
    "users_dtypes['users_control_1'] = users_control_1.dtypes\n",
    "users_dtypes['users_control_2'] = users_control_2.dtypes\n",
    "\n",
    "users_dtypes"
   ]
  },
  {
   "cell_type": "markdown",
   "metadata": {},
   "source": [
    "Количество колонок небольшое и мы можем визуально оценить, что типы данных в каждой из таблиц совпадают."
   ]
  },
  {
   "cell_type": "markdown",
   "metadata": {},
   "source": [
    "Сейчас я вижу два возможных варианта продолжения исследования данных:\n",
    "\n",
    "1) Подробнее заняться исследованием колонок, заполнение пропусков, взаимосвязями между колонками и выручкой, а потом перейти к поэтапному исследованию таблиц с транзакциями\n",
    "\n",
    "2) Сделать первичный обзор transactions и их типов данных, а потом приступать к заполнению пропусков и поисков взаимосвязей в внутри users и transactions, а также между ними."
   ]
  },
  {
   "cell_type": "markdown",
   "metadata": {},
   "source": [
    "В данном случае я выберу второй вариант, так как природа пропусков и взаимосвязей с общей выручкой может раскрыться, если посмотреть файлы с записями о выручке с каждого конкретного пользователя"
   ]
  },
  {
   "cell_type": "markdown",
   "metadata": {},
   "source": [
    "### Файлы transactions "
   ]
  },
  {
   "cell_type": "code",
   "execution_count": 9,
   "metadata": {},
   "outputs": [
    {
     "data": {
      "text/html": [
       "<div>\n",
       "<style scoped>\n",
       "    .dataframe tbody tr th:only-of-type {\n",
       "        vertical-align: middle;\n",
       "    }\n",
       "\n",
       "    .dataframe tbody tr th {\n",
       "        vertical-align: top;\n",
       "    }\n",
       "\n",
       "    .dataframe thead th {\n",
       "        text-align: right;\n",
       "    }\n",
       "</style>\n",
       "<table border=\"1\" class=\"dataframe\">\n",
       "  <thead>\n",
       "    <tr style=\"text-align: right;\">\n",
       "      <th></th>\n",
       "      <th>uid</th>\n",
       "      <th>country</th>\n",
       "      <th>joined_at</th>\n",
       "      <th>paid_at</th>\n",
       "      <th>revenue</th>\n",
       "      <th>payment_id</th>\n",
       "      <th>from_page</th>\n",
       "      <th>product_type</th>\n",
       "    </tr>\n",
       "  </thead>\n",
       "  <tbody>\n",
       "    <tr>\n",
       "      <th>0</th>\n",
       "      <td>891345942</td>\n",
       "      <td>Italy</td>\n",
       "      <td>2017-05-11 13:00:00</td>\n",
       "      <td>2017-11-13 15:04:00</td>\n",
       "      <td>12909</td>\n",
       "      <td>147</td>\n",
       "      <td>trial_vip_popup</td>\n",
       "      <td>trial_premium</td>\n",
       "    </tr>\n",
       "    <tr>\n",
       "      <th>1</th>\n",
       "      <td>892054251</td>\n",
       "      <td>United States of America</td>\n",
       "      <td>2017-10-22 00:33:00</td>\n",
       "      <td>2017-10-30 01:37:00</td>\n",
       "      <td>13923</td>\n",
       "      <td>147</td>\n",
       "      <td>trial_vip_popup</td>\n",
       "      <td>trial_premium</td>\n",
       "    </tr>\n",
       "    <tr>\n",
       "      <th>2</th>\n",
       "      <td>892236423</td>\n",
       "      <td>United States of America</td>\n",
       "      <td>2017-10-18 01:09:00</td>\n",
       "      <td>2017-10-23 00:15:00</td>\n",
       "      <td>3783</td>\n",
       "      <td>67</td>\n",
       "      <td>menu</td>\n",
       "      <td>other_type</td>\n",
       "    </tr>\n",
       "    <tr>\n",
       "      <th>3</th>\n",
       "      <td>892236423</td>\n",
       "      <td>United States of America</td>\n",
       "      <td>2017-10-18 01:09:00</td>\n",
       "      <td>2017-10-27 22:38:00</td>\n",
       "      <td>3783</td>\n",
       "      <td>67</td>\n",
       "      <td>menu</td>\n",
       "      <td>other_type</td>\n",
       "    </tr>\n",
       "    <tr>\n",
       "      <th>4</th>\n",
       "      <td>892168170</td>\n",
       "      <td>United States of America</td>\n",
       "      <td>2017-10-19 17:10:00</td>\n",
       "      <td>2017-10-27 19:10:00</td>\n",
       "      <td>9087</td>\n",
       "      <td>147</td>\n",
       "      <td>trial_vip_popup</td>\n",
       "      <td>trial_premium</td>\n",
       "    </tr>\n",
       "  </tbody>\n",
       "</table>\n",
       "</div>"
      ],
      "text/plain": [
       "         uid                   country           joined_at  \\\n",
       "0  891345942                     Italy 2017-05-11 13:00:00   \n",
       "1  892054251  United States of America 2017-10-22 00:33:00   \n",
       "2  892236423  United States of America 2017-10-18 01:09:00   \n",
       "3  892236423  United States of America 2017-10-18 01:09:00   \n",
       "4  892168170  United States of America 2017-10-19 17:10:00   \n",
       "\n",
       "              paid_at  revenue  payment_id        from_page   product_type  \n",
       "0 2017-11-13 15:04:00    12909         147  trial_vip_popup  trial_premium  \n",
       "1 2017-10-30 01:37:00    13923         147  trial_vip_popup  trial_premium  \n",
       "2 2017-10-23 00:15:00     3783          67             menu     other_type  \n",
       "3 2017-10-27 22:38:00     3783          67             menu     other_type  \n",
       "4 2017-10-27 19:10:00     9087         147  trial_vip_popup  trial_premium  "
      ]
     },
     "execution_count": 9,
     "metadata": {},
     "output_type": "execute_result"
    }
   ],
   "source": [
    "transactions_test.head()"
   ]
  },
  {
   "cell_type": "markdown",
   "metadata": {},
   "source": [
    "В этих таблицах есть информация о дате регистрации и датах платежей пользователей( думаю, поможет нам определить понятие нового пользователя);\n",
    "\n",
    "также есть информация о странах, что точнее позволит нам определить список стран, в которых были введены изменения;\n",
    "\n",
    "есть информация об идентификаторе платежа( возможно, это позволит выйти на платежные системы и те 2 из них, которые новые);\n",
    "\n",
    "revenue в совокупности с product_type позволит нам оценить стоимость новой подписки; "
   ]
  },
  {
   "cell_type": "code",
   "execution_count": 10,
   "metadata": {},
   "outputs": [],
   "source": [
    "# Функция для выведения информации о транзакциях\n",
    "\n",
    "def data_tale_transactions(df, df_name):\n",
    "    result = pd.DataFrame([[df.shape[0]],\n",
    "                           [df.uid.nunique()],\n",
    "                           [df.columns[df.isna().any()].tolist()],\n",
    "                           [df.duplicated().sum()],\n",
    "                           [df.country.nunique()],\n",
    "                           [df.joined_at.min().strftime(\"%Y-%m-%d\")],\n",
    "                           [df.joined_at.max().strftime(\"%Y-%m-%d\")],\n",
    "                           [df.paid_at.min().strftime(\"%Y-%m-%d\")],\n",
    "                           [df.paid_at.max().strftime(\"%Y-%m-%d\")],\n",
    "                           [(df.joined_at >= df.paid_at).any()],\n",
    "                           [df.query('revenue <= 0').revenue.any()],\n",
    "                           [df.revenue.sum()],\n",
    "                           [df.payment_id.nunique()],\n",
    "                           [df.product_type.nunique()]], \n",
    "                          index=['Number_of_transactions', \n",
    "                                 'Unique_users', \n",
    "                                 'Columns_with_gaps', \n",
    "                                 'Duplicate_lines', \n",
    "                                 'Unique_countries', \n",
    "                                 'Min_joined_date', \n",
    "                                 'Max_joined_date', \n",
    "                                 'Min_paid_date', \n",
    "                                 'Max_paid_date', \n",
    "                                 'Error_in_dates', \n",
    "                                 'Not_positive_revenue', \n",
    "                                 'Sum_revenue', \n",
    "                                 'Number_of_ids', \n",
    "                                 'Number_of_products'], \n",
    "                          columns=[df_name])\n",
    "                                                         \n",
    "    return result"
   ]
  },
  {
   "cell_type": "code",
   "execution_count": 11,
   "metadata": {},
   "outputs": [
    {
     "data": {
      "text/html": [
       "<div>\n",
       "<style scoped>\n",
       "    .dataframe tbody tr th:only-of-type {\n",
       "        vertical-align: middle;\n",
       "    }\n",
       "\n",
       "    .dataframe tbody tr th {\n",
       "        vertical-align: top;\n",
       "    }\n",
       "\n",
       "    .dataframe thead th {\n",
       "        text-align: right;\n",
       "    }\n",
       "</style>\n",
       "<table border=\"1\" class=\"dataframe\">\n",
       "  <thead>\n",
       "    <tr style=\"text-align: right;\">\n",
       "      <th></th>\n",
       "      <th>test</th>\n",
       "      <th>control_1</th>\n",
       "      <th>control_2</th>\n",
       "      <th>explanation</th>\n",
       "    </tr>\n",
       "  </thead>\n",
       "  <tbody>\n",
       "    <tr>\n",
       "      <th>Number_of_transactions</th>\n",
       "      <td>273</td>\n",
       "      <td>1007</td>\n",
       "      <td>328</td>\n",
       "      <td>Размер таблицы</td>\n",
       "    </tr>\n",
       "    <tr>\n",
       "      <th>Unique_users</th>\n",
       "      <td>146</td>\n",
       "      <td>193</td>\n",
       "      <td>187</td>\n",
       "      <td>Уникальные пользователи</td>\n",
       "    </tr>\n",
       "  </tbody>\n",
       "</table>\n",
       "</div>"
      ],
      "text/plain": [
       "                       test control_1 control_2              explanation\n",
       "Number_of_transactions  273      1007       328           Размер таблицы\n",
       "Unique_users            146       193       187  Уникальные пользователи"
      ]
     },
     "execution_count": 11,
     "metadata": {},
     "output_type": "execute_result"
    }
   ],
   "source": [
    "\"\"\"Для каждой из таблиц, мы обращаемся к функции, а потом все 3 полученных столбца соединяем в один \n",
    "датафрейм, в котором можно удобно оценить все показатели \"\"\"\n",
    "\n",
    "transactions_data_tale = data_tale_transactions(transactions_test, 'test')\n",
    "transactions_data_tale['control_1'] = data_tale_transactions(transactions_control_1, 'control_1')\n",
    "transactions_data_tale['control_2'] = data_tale_transactions(transactions_control_2, 'control_2')\n",
    "transactions_data_tale['explanation'] = pd.DataFrame([['Размер таблицы'], \n",
    "                                                      ['Уникальные пользователи'], \n",
    "                                                      ['Колонки с пропусками'], \n",
    "                                                      ['Повторяющиеся строки'], \n",
    "                                                      ['Страны'], \n",
    "                                                      ['Минимальная дата регистрации'], \n",
    "                                                      ['Последняя дата регистрации'], \n",
    "                                                      ['Минимальная дата платежа'], \n",
    "                                                      ['Последняя дата платежа'], \n",
    "                                                      ['Есть ошибка в датах?'], \n",
    "                                                      ['Нулевая или отрицательная выручка'], \n",
    "                                                      ['Общая выручка'], \n",
    "                                                      ['Идентификаторы платежа'], \n",
    "                                                      ['количество платных продуктов']], \n",
    "                                                     index=['Number_of_transactions',\n",
    "                                                            'Unique_users',\n",
    "                                                            'Columns_with_gaps',\n",
    "                                                            'Duplicate_lines',\n",
    "                                                            'Unique_countries',\n",
    "                                                            'Min_joined_date',\n",
    "                                                            'Max_joined_date',\n",
    "                                                            'Min_paid_date',\n",
    "                                                            'Max_paid_date',\n",
    "                                                            'Error_in_dates',\n",
    "                                                            'Not_positive_revenue',\n",
    "                                                            'Sum_revenue',\n",
    "                                                            'Number_of_ids',\n",
    "                                                            'Number_of_products'])\n",
    "\n",
    "\n",
    "transactions_data_tale.head(2)"
   ]
  },
  {
   "cell_type": "markdown",
   "metadata": {},
   "source": [
    "#### Выводы по сводной таблице transactions "
   ]
  },
  {
   "cell_type": "code",
   "execution_count": 12,
   "metadata": {},
   "outputs": [
    {
     "data": {
      "text/html": [
       "<div>\n",
       "<style scoped>\n",
       "    .dataframe tbody tr th:only-of-type {\n",
       "        vertical-align: middle;\n",
       "    }\n",
       "\n",
       "    .dataframe tbody tr th {\n",
       "        vertical-align: top;\n",
       "    }\n",
       "\n",
       "    .dataframe thead th {\n",
       "        text-align: right;\n",
       "    }\n",
       "</style>\n",
       "<table border=\"1\" class=\"dataframe\">\n",
       "  <thead>\n",
       "    <tr style=\"text-align: right;\">\n",
       "      <th></th>\n",
       "      <th>test</th>\n",
       "      <th>control_1</th>\n",
       "      <th>control_2</th>\n",
       "      <th>explanation</th>\n",
       "    </tr>\n",
       "  </thead>\n",
       "  <tbody>\n",
       "    <tr>\n",
       "      <th>Number_of_transactions</th>\n",
       "      <td>273</td>\n",
       "      <td>1007</td>\n",
       "      <td>328</td>\n",
       "      <td>Размер таблицы</td>\n",
       "    </tr>\n",
       "    <tr>\n",
       "      <th>Unique_users</th>\n",
       "      <td>146</td>\n",
       "      <td>193</td>\n",
       "      <td>187</td>\n",
       "      <td>Уникальные пользователи</td>\n",
       "    </tr>\n",
       "    <tr>\n",
       "      <th>Columns_with_gaps</th>\n",
       "      <td>[]</td>\n",
       "      <td>[uid, country, joined_at, paid_at, revenue, pa...</td>\n",
       "      <td>[]</td>\n",
       "      <td>Колонки с пропусками</td>\n",
       "    </tr>\n",
       "    <tr>\n",
       "      <th>Duplicate_lines</th>\n",
       "      <td>7</td>\n",
       "      <td>650</td>\n",
       "      <td>5</td>\n",
       "      <td>Повторяющиеся строки</td>\n",
       "    </tr>\n",
       "    <tr>\n",
       "      <th>Unique_countries</th>\n",
       "      <td>17</td>\n",
       "      <td>18</td>\n",
       "      <td>19</td>\n",
       "      <td>Страны</td>\n",
       "    </tr>\n",
       "  </tbody>\n",
       "</table>\n",
       "</div>"
      ],
      "text/plain": [
       "                       test  \\\n",
       "Number_of_transactions  273   \n",
       "Unique_users            146   \n",
       "Columns_with_gaps        []   \n",
       "Duplicate_lines           7   \n",
       "Unique_countries         17   \n",
       "\n",
       "                                                                control_1  \\\n",
       "Number_of_transactions                                               1007   \n",
       "Unique_users                                                          193   \n",
       "Columns_with_gaps       [uid, country, joined_at, paid_at, revenue, pa...   \n",
       "Duplicate_lines                                                       650   \n",
       "Unique_countries                                                       18   \n",
       "\n",
       "                       control_2              explanation  \n",
       "Number_of_transactions       328           Размер таблицы  \n",
       "Unique_users                 187  Уникальные пользователи  \n",
       "Columns_with_gaps             []     Колонки с пропусками  \n",
       "Duplicate_lines                5     Повторяющиеся строки  \n",
       "Unique_countries              19                   Страны  "
      ]
     },
     "execution_count": 12,
     "metadata": {},
     "output_type": "execute_result"
    }
   ],
   "source": [
    "# Для удобства выводим данные по частям\n",
    "transactions_data_tale.iloc[:5]"
   ]
  },
  {
   "cell_type": "markdown",
   "metadata": {},
   "source": [
    "1) **Number_of_transactions** Количество транзакций в первой контрольной группе(1007) значительно больше, чем во второй(328), на 207%.\n",
    "\n",
    "2) **Unique_users** Уникальных пользователей в каждой таблице меньше числа записей. При этом в тестовой группе мы видим, что их на 27% меньше, чем в среднем по все группам.\n",
    "\n",
    "3) **Columns_with_gaps** В первой контрольной группе есть несколько столбцов,в которых наблюдаются пропущенные значения, в то время как две другие таблицы пропусков не имеют. Пропуски есть в uid, что само по себе уменьшает количество пригодных для анализ записей\n",
    "\n",
    "4) **Duplicate_lines** Во всех таблицах есть дубликаты, а это значит, что с точностью до минут повторяется информация о транзацкии. Быть может, конечно, пользователи в некоторых случаях часто совершали некоторые действия.\n",
    "\n",
    "5) **Unique_countries** В тестовой группе мы наблюдаем всего лишь 17 уникальных стран. Для чистоты эксперимента нам следует:\n",
    "а) оставить страны, которые наблюдаются во всех 3 группах, б) в таблицах users оставить записи с набором стран из подпункта а."
   ]
  },
  {
   "cell_type": "code",
   "execution_count": 13,
   "metadata": {},
   "outputs": [
    {
     "data": {
      "text/html": [
       "<div>\n",
       "<style scoped>\n",
       "    .dataframe tbody tr th:only-of-type {\n",
       "        vertical-align: middle;\n",
       "    }\n",
       "\n",
       "    .dataframe tbody tr th {\n",
       "        vertical-align: top;\n",
       "    }\n",
       "\n",
       "    .dataframe thead th {\n",
       "        text-align: right;\n",
       "    }\n",
       "</style>\n",
       "<table border=\"1\" class=\"dataframe\">\n",
       "  <thead>\n",
       "    <tr style=\"text-align: right;\">\n",
       "      <th></th>\n",
       "      <th>test</th>\n",
       "      <th>control_1</th>\n",
       "      <th>control_2</th>\n",
       "      <th>explanation</th>\n",
       "    </tr>\n",
       "  </thead>\n",
       "  <tbody>\n",
       "    <tr>\n",
       "      <th>Min_joined_date</th>\n",
       "      <td>2017-01-11</td>\n",
       "      <td>2015-01-19</td>\n",
       "      <td>2017-01-11</td>\n",
       "      <td>Минимальная дата регистрации</td>\n",
       "    </tr>\n",
       "    <tr>\n",
       "      <th>Max_joined_date</th>\n",
       "      <td>2017-10-31</td>\n",
       "      <td>2017-10-31</td>\n",
       "      <td>2017-10-31</td>\n",
       "      <td>Последняя дата регистрации</td>\n",
       "    </tr>\n",
       "    <tr>\n",
       "      <th>Min_paid_date</th>\n",
       "      <td>2017-01-11</td>\n",
       "      <td>2016-12-14</td>\n",
       "      <td>2017-01-11</td>\n",
       "      <td>Минимальная дата платежа</td>\n",
       "    </tr>\n",
       "    <tr>\n",
       "      <th>Max_paid_date</th>\n",
       "      <td>2017-12-11</td>\n",
       "      <td>2017-12-11</td>\n",
       "      <td>2017-12-11</td>\n",
       "      <td>Последняя дата платежа</td>\n",
       "    </tr>\n",
       "    <tr>\n",
       "      <th>Error_in_dates</th>\n",
       "      <td>True</td>\n",
       "      <td>True</td>\n",
       "      <td>True</td>\n",
       "      <td>Есть ошибка в датах?</td>\n",
       "    </tr>\n",
       "  </tbody>\n",
       "</table>\n",
       "</div>"
      ],
      "text/plain": [
       "                       test   control_1   control_2  \\\n",
       "Min_joined_date  2017-01-11  2015-01-19  2017-01-11   \n",
       "Max_joined_date  2017-10-31  2017-10-31  2017-10-31   \n",
       "Min_paid_date    2017-01-11  2016-12-14  2017-01-11   \n",
       "Max_paid_date    2017-12-11  2017-12-11  2017-12-11   \n",
       "Error_in_dates         True        True        True   \n",
       "\n",
       "                                  explanation  \n",
       "Min_joined_date  Минимальная дата регистрации  \n",
       "Max_joined_date    Последняя дата регистрации  \n",
       "Min_paid_date        Минимальная дата платежа  \n",
       "Max_paid_date          Последняя дата платежа  \n",
       "Error_in_dates           Есть ошибка в датах?  "
      ]
     },
     "execution_count": 13,
     "metadata": {},
     "output_type": "execute_result"
    }
   ],
   "source": [
    "transactions_data_tale.iloc[5:10]"
   ]
  },
  {
   "cell_type": "markdown",
   "metadata": {},
   "source": [
    "6) **Min_joined_date** Вновь во второй контрольной группе мы наблюдаем, что первая дата регистрации отличается на 2 года от дат в тестовой и второй контрольной группах. Кроме этого периоды дат регистрации совпадают полностью во всех группах.\n",
    "\n",
    "7) **Min_paid_date** Аналогичная ситуация с датами оплат.\n",
    "\n",
    "8) Пожалуй, мы можем утверждать, что новые пользователи - это те, кто зарегистрировался в период 2017-01-11 - 2017-10-31 и при этом совершал оплату в период 2017-01-11 - 2017-12-11\n",
    "\n",
    "9) Колонка **error_in_dates** говорит нам о том, есть ли в сведениях о датах логическая ошибка, когда оплата происходила раньше, чем регистрация. Ошибка наблюдается повсеместно, но при этом максимальные даты регистрации везде одинаковы и везде не превосходят максимальные даты оплат. "
   ]
  },
  {
   "cell_type": "code",
   "execution_count": 14,
   "metadata": {},
   "outputs": [
    {
     "data": {
      "text/html": [
       "<div>\n",
       "<style scoped>\n",
       "    .dataframe tbody tr th:only-of-type {\n",
       "        vertical-align: middle;\n",
       "    }\n",
       "\n",
       "    .dataframe tbody tr th {\n",
       "        vertical-align: top;\n",
       "    }\n",
       "\n",
       "    .dataframe thead th {\n",
       "        text-align: right;\n",
       "    }\n",
       "</style>\n",
       "<table border=\"1\" class=\"dataframe\">\n",
       "  <thead>\n",
       "    <tr style=\"text-align: right;\">\n",
       "      <th></th>\n",
       "      <th>test</th>\n",
       "      <th>control_1</th>\n",
       "      <th>control_2</th>\n",
       "      <th>explanation</th>\n",
       "    </tr>\n",
       "  </thead>\n",
       "  <tbody>\n",
       "    <tr>\n",
       "      <th>Not_positive_revenue</th>\n",
       "      <td>False</td>\n",
       "      <td>False</td>\n",
       "      <td>False</td>\n",
       "      <td>Нулевая или отрицательная выручка</td>\n",
       "    </tr>\n",
       "    <tr>\n",
       "      <th>Sum_revenue</th>\n",
       "      <td>2344901</td>\n",
       "      <td>2.61231e+06</td>\n",
       "      <td>1920438</td>\n",
       "      <td>Общая выручка</td>\n",
       "    </tr>\n",
       "    <tr>\n",
       "      <th>Number_of_ids</th>\n",
       "      <td>6</td>\n",
       "      <td>7</td>\n",
       "      <td>6</td>\n",
       "      <td>Идентификаторы платежа</td>\n",
       "    </tr>\n",
       "    <tr>\n",
       "      <th>Number_of_products</th>\n",
       "      <td>4</td>\n",
       "      <td>4</td>\n",
       "      <td>4</td>\n",
       "      <td>количество платных продуктов</td>\n",
       "    </tr>\n",
       "  </tbody>\n",
       "</table>\n",
       "</div>"
      ],
      "text/plain": [
       "                         test    control_1 control_2  \\\n",
       "Not_positive_revenue    False        False     False   \n",
       "Sum_revenue           2344901  2.61231e+06   1920438   \n",
       "Number_of_ids               6            7         6   \n",
       "Number_of_products          4            4         4   \n",
       "\n",
       "                                            explanation  \n",
       "Not_positive_revenue  Нулевая или отрицательная выручка  \n",
       "Sum_revenue                               Общая выручка  \n",
       "Number_of_ids                    Идентификаторы платежа  \n",
       "Number_of_products         количество платных продуктов  "
      ]
     },
     "execution_count": 14,
     "metadata": {},
     "output_type": "execute_result"
    }
   ],
   "source": [
    "transactions_data_tale.iloc[10:]"
   ]
  },
  {
   "cell_type": "markdown",
   "metadata": {},
   "source": [
    "9) Все значения revenue в записях строго положительны\n",
    "\n",
    "10) **Number_of_ids** Мы не наблюдаем, что в тестовой группе есть на два способа оплаты больше, чем в других; при этом в первой контрольной группе способов оплаты даже на один больше. Значит будем иначе искать те платформы, на которых теперь другая стоимость оплаты.\n",
    "\n",
    "11) Количество продуктов везде одинаково."
   ]
  },
  {
   "cell_type": "code",
   "execution_count": 15,
   "metadata": {},
   "outputs": [
    {
     "data": {
      "text/html": [
       "<div>\n",
       "<style scoped>\n",
       "    .dataframe tbody tr th:only-of-type {\n",
       "        vertical-align: middle;\n",
       "    }\n",
       "\n",
       "    .dataframe tbody tr th {\n",
       "        vertical-align: top;\n",
       "    }\n",
       "\n",
       "    .dataframe thead th {\n",
       "        text-align: right;\n",
       "    }\n",
       "</style>\n",
       "<table border=\"1\" class=\"dataframe\">\n",
       "  <thead>\n",
       "    <tr style=\"text-align: right;\">\n",
       "      <th></th>\n",
       "      <th>test</th>\n",
       "      <th>control_1</th>\n",
       "      <th>control_2</th>\n",
       "      <th>explanation</th>\n",
       "    </tr>\n",
       "  </thead>\n",
       "  <tbody>\n",
       "    <tr>\n",
       "      <th>0</th>\n",
       "      <td>2300818</td>\n",
       "      <td>2581267</td>\n",
       "      <td>1920438</td>\n",
       "      <td>Общая выручка</td>\n",
       "    </tr>\n",
       "    <tr>\n",
       "      <th>1</th>\n",
       "      <td>2344901</td>\n",
       "      <td>2.61231e+06</td>\n",
       "      <td>1920438</td>\n",
       "      <td>Общая выручка</td>\n",
       "    </tr>\n",
       "  </tbody>\n",
       "</table>\n",
       "</div>"
      ],
      "text/plain": [
       "      test    control_1 control_2    explanation\n",
       "0  2300818      2581267   1920438  Общая выручка\n",
       "1  2344901  2.61231e+06   1920438  Общая выручка"
      ]
     },
     "execution_count": 15,
     "metadata": {},
     "output_type": "execute_result"
    }
   ],
   "source": [
    "# Сравним общие выручки по группам из файлов users(строка 0) и transactions(1)\n",
    "a = users_data_tale.loc[users_data_tale.index == 'Sum_revenue']\n",
    "b = transactions_data_tale.loc[transactions_data_tale.index == 'Sum_revenue']\n",
    "\n",
    "pd.concat([a, b], ignore_index=True)"
   ]
  },
  {
   "cell_type": "markdown",
   "metadata": {},
   "source": [
    "Общие суммы выручки совпадают лишь в случае 2 контрольной группы."
   ]
  },
  {
   "cell_type": "code",
   "execution_count": 16,
   "metadata": {},
   "outputs": [
    {
     "data": {
      "text/html": [
       "<div>\n",
       "<style scoped>\n",
       "    .dataframe tbody tr th:only-of-type {\n",
       "        vertical-align: middle;\n",
       "    }\n",
       "\n",
       "    .dataframe tbody tr th {\n",
       "        vertical-align: top;\n",
       "    }\n",
       "\n",
       "    .dataframe thead th {\n",
       "        text-align: right;\n",
       "    }\n",
       "</style>\n",
       "<table border=\"1\" class=\"dataframe\">\n",
       "  <thead>\n",
       "    <tr style=\"text-align: right;\">\n",
       "      <th></th>\n",
       "      <th>test</th>\n",
       "      <th>control_1</th>\n",
       "      <th>control_2</th>\n",
       "    </tr>\n",
       "  </thead>\n",
       "  <tbody>\n",
       "    <tr>\n",
       "      <th>uid</th>\n",
       "      <td>int64</td>\n",
       "      <td>float64</td>\n",
       "      <td>int64</td>\n",
       "    </tr>\n",
       "    <tr>\n",
       "      <th>country</th>\n",
       "      <td>object</td>\n",
       "      <td>object</td>\n",
       "      <td>object</td>\n",
       "    </tr>\n",
       "    <tr>\n",
       "      <th>joined_at</th>\n",
       "      <td>datetime64[ns]</td>\n",
       "      <td>datetime64[ns]</td>\n",
       "      <td>datetime64[ns]</td>\n",
       "    </tr>\n",
       "    <tr>\n",
       "      <th>paid_at</th>\n",
       "      <td>datetime64[ns]</td>\n",
       "      <td>datetime64[ns]</td>\n",
       "      <td>datetime64[ns]</td>\n",
       "    </tr>\n",
       "    <tr>\n",
       "      <th>revenue</th>\n",
       "      <td>int64</td>\n",
       "      <td>float64</td>\n",
       "      <td>int64</td>\n",
       "    </tr>\n",
       "    <tr>\n",
       "      <th>payment_id</th>\n",
       "      <td>int64</td>\n",
       "      <td>float64</td>\n",
       "      <td>int64</td>\n",
       "    </tr>\n",
       "    <tr>\n",
       "      <th>from_page</th>\n",
       "      <td>object</td>\n",
       "      <td>object</td>\n",
       "      <td>object</td>\n",
       "    </tr>\n",
       "    <tr>\n",
       "      <th>product_type</th>\n",
       "      <td>object</td>\n",
       "      <td>object</td>\n",
       "      <td>object</td>\n",
       "    </tr>\n",
       "  </tbody>\n",
       "</table>\n",
       "</div>"
      ],
      "text/plain": [
       "                        test       control_1       control_2\n",
       "uid                    int64         float64           int64\n",
       "country               object          object          object\n",
       "joined_at     datetime64[ns]  datetime64[ns]  datetime64[ns]\n",
       "paid_at       datetime64[ns]  datetime64[ns]  datetime64[ns]\n",
       "revenue                int64         float64           int64\n",
       "payment_id             int64         float64           int64\n",
       "from_page             object          object          object\n",
       "product_type          object          object          object"
      ]
     },
     "execution_count": 16,
     "metadata": {},
     "output_type": "execute_result"
    }
   ],
   "source": [
    "# Соберем информацию о типах данных в таблицах о транзакициях в одну таблицу\n",
    "\n",
    "transactions_dtypes = transactions_test.dtypes.to_frame().rename(columns={0: 'test'})\n",
    "transactions_dtypes['control_1'] = transactions_control_1.dtypes\n",
    "transactions_dtypes['control_2'] = transactions_control_2.dtypes\n",
    "\n",
    "transactions_dtypes"
   ]
  },
  {
   "cell_type": "markdown",
   "metadata": {},
   "source": [
    "Есть изменения в колонках uid, revenue и payment_id. Подобная ситуация в числовых колонках возникает, если в них есть пустые значения. При необходимости, приведем указанные колонки к нужному нам типу данных."
   ]
  },
  {
   "cell_type": "markdown",
   "metadata": {},
   "source": [
    "### Предварительная обработка данных. Users"
   ]
  },
  {
   "cell_type": "code",
   "execution_count": 17,
   "metadata": {},
   "outputs": [
    {
     "data": {
      "text/plain": [
       "uid                    0\n",
       "age                    0\n",
       "attraction_coeff       0\n",
       "coins               4259\n",
       "country                0\n",
       "visit_days          1330\n",
       "gender                 0\n",
       "age_filter_start       0\n",
       "age_filter_end         0\n",
       "views_count            0\n",
       "was_premium         3900\n",
       "is_premium          4151\n",
       "total_revenue          0\n",
       "dtype: int64"
      ]
     },
     "execution_count": 17,
     "metadata": {},
     "output_type": "execute_result"
    }
   ],
   "source": [
    "users_test.isna().sum()"
   ]
  },
  {
   "cell_type": "markdown",
   "metadata": {},
   "source": [
    "В файлах users мы наблюдали одни и те же 4 колонки с пропущенными значениями. Количество пропусков велико, мы не можем их удалить."
   ]
  },
  {
   "cell_type": "code",
   "execution_count": 18,
   "metadata": {},
   "outputs": [
    {
     "data": {
      "text/html": [
       "<div>\n",
       "<style scoped>\n",
       "    .dataframe tbody tr th:only-of-type {\n",
       "        vertical-align: middle;\n",
       "    }\n",
       "\n",
       "    .dataframe tbody tr th {\n",
       "        vertical-align: top;\n",
       "    }\n",
       "\n",
       "    .dataframe thead th {\n",
       "        text-align: right;\n",
       "    }\n",
       "</style>\n",
       "<table border=\"1\" class=\"dataframe\">\n",
       "  <thead>\n",
       "    <tr style=\"text-align: right;\">\n",
       "      <th></th>\n",
       "      <th>uid</th>\n",
       "      <th>age</th>\n",
       "      <th>attraction_coeff</th>\n",
       "      <th>coins</th>\n",
       "      <th>country</th>\n",
       "      <th>visit_days</th>\n",
       "      <th>gender</th>\n",
       "      <th>age_filter_start</th>\n",
       "      <th>age_filter_end</th>\n",
       "      <th>views_count</th>\n",
       "      <th>was_premium</th>\n",
       "      <th>is_premium</th>\n",
       "      <th>total_revenue</th>\n",
       "    </tr>\n",
       "  </thead>\n",
       "  <tbody>\n",
       "    <tr>\n",
       "      <th>35</th>\n",
       "      <td>892333656</td>\n",
       "      <td>50</td>\n",
       "      <td>436</td>\n",
       "      <td>4.0</td>\n",
       "      <td>United States of America</td>\n",
       "      <td>1,2,3,4</td>\n",
       "      <td>1</td>\n",
       "      <td>47</td>\n",
       "      <td>53</td>\n",
       "      <td>126</td>\n",
       "      <td>NaN</td>\n",
       "      <td>NaN</td>\n",
       "      <td>897</td>\n",
       "    </tr>\n",
       "    <tr>\n",
       "      <th>44</th>\n",
       "      <td>891589239</td>\n",
       "      <td>21</td>\n",
       "      <td>303</td>\n",
       "      <td>37.0</td>\n",
       "      <td>Italy</td>\n",
       "      <td>1,2,3,4,5,6,7,8,9</td>\n",
       "      <td>1</td>\n",
       "      <td>18</td>\n",
       "      <td>24</td>\n",
       "      <td>181</td>\n",
       "      <td>1.0</td>\n",
       "      <td>1.0</td>\n",
       "      <td>37817</td>\n",
       "    </tr>\n",
       "    <tr>\n",
       "      <th>100</th>\n",
       "      <td>891343671</td>\n",
       "      <td>26</td>\n",
       "      <td>0</td>\n",
       "      <td>24.0</td>\n",
       "      <td>France</td>\n",
       "      <td>1,2,3,4,5,6,7,8,9</td>\n",
       "      <td>1</td>\n",
       "      <td>23</td>\n",
       "      <td>35</td>\n",
       "      <td>37</td>\n",
       "      <td>1.0</td>\n",
       "      <td>1.0</td>\n",
       "      <td>21580</td>\n",
       "    </tr>\n",
       "  </tbody>\n",
       "</table>\n",
       "</div>"
      ],
      "text/plain": [
       "           uid  age  attraction_coeff  coins                   country  \\\n",
       "35   892333656   50               436    4.0  United States of America   \n",
       "44   891589239   21               303   37.0                     Italy   \n",
       "100  891343671   26                 0   24.0                    France   \n",
       "\n",
       "            visit_days  gender  age_filter_start  age_filter_end  views_count  \\\n",
       "35             1,2,3,4       1                47              53          126   \n",
       "44   1,2,3,4,5,6,7,8,9       1                18              24          181   \n",
       "100  1,2,3,4,5,6,7,8,9       1                23              35           37   \n",
       "\n",
       "     was_premium  is_premium  total_revenue  \n",
       "35           NaN         NaN            897  \n",
       "44           1.0         1.0          37817  \n",
       "100          1.0         1.0          21580  "
      ]
     },
     "execution_count": 18,
     "metadata": {},
     "output_type": "execute_result"
    }
   ],
   "source": [
    "users_test.loc[users_test.coins.notna()].head(3)"
   ]
  },
  {
   "cell_type": "markdown",
   "metadata": {},
   "source": [
    "Мы видим, что монетки есть и у обладателей премиум, и у тех, у кого нет данных о таком статусе. Будем считать, что если нет записей о монетках, то их число равно 0. "
   ]
  },
  {
   "cell_type": "markdown",
   "metadata": {},
   "source": [
    "Проверим, есть ли такие ситуации, когда was_premium не было, но при этом премиум активен сейчас"
   ]
  },
  {
   "cell_type": "code",
   "execution_count": 19,
   "metadata": {},
   "outputs": [
    {
     "data": {
      "text/plain": [
       "0"
      ]
     },
     "execution_count": 19,
     "metadata": {},
     "output_type": "execute_result"
    }
   ],
   "source": [
    "users_test.query('was_premium != 1 and is_premium == 1').shape[0]"
   ]
  },
  {
   "cell_type": "code",
   "execution_count": 20,
   "metadata": {},
   "outputs": [
    {
     "data": {
      "text/plain": [
       "251"
      ]
     },
     "execution_count": 20,
     "metadata": {},
     "output_type": "execute_result"
    }
   ],
   "source": [
    "users_test.query('was_premium == 1 and is_premium != 1').shape[0]"
   ]
  },
  {
   "cell_type": "markdown",
   "metadata": {},
   "source": [
    "Имеется 251 запись, когда пользователь был премиум, но теперь не является и 0 записей, когда премиум активек, но was_premium пуст. Кажется, система записи работает так, как этого ожидаешь. Будем ставить 0, если пользователь не имеет и/или не имел премиум статуса."
   ]
  },
  {
   "cell_type": "code",
   "execution_count": 21,
   "metadata": {},
   "outputs": [
    {
     "data": {
      "text/html": [
       "<div>\n",
       "<style scoped>\n",
       "    .dataframe tbody tr th:only-of-type {\n",
       "        vertical-align: middle;\n",
       "    }\n",
       "\n",
       "    .dataframe tbody tr th {\n",
       "        vertical-align: top;\n",
       "    }\n",
       "\n",
       "    .dataframe thead th {\n",
       "        text-align: right;\n",
       "    }\n",
       "</style>\n",
       "<table border=\"1\" class=\"dataframe\">\n",
       "  <thead>\n",
       "    <tr style=\"text-align: right;\">\n",
       "      <th></th>\n",
       "      <th>uid</th>\n",
       "      <th>age</th>\n",
       "      <th>attraction_coeff</th>\n",
       "      <th>coins</th>\n",
       "      <th>country</th>\n",
       "      <th>visit_days</th>\n",
       "      <th>gender</th>\n",
       "      <th>age_filter_start</th>\n",
       "      <th>age_filter_end</th>\n",
       "      <th>views_count</th>\n",
       "      <th>was_premium</th>\n",
       "      <th>is_premium</th>\n",
       "      <th>total_revenue</th>\n",
       "    </tr>\n",
       "  </thead>\n",
       "  <tbody>\n",
       "    <tr>\n",
       "      <th>1</th>\n",
       "      <td>892044516</td>\n",
       "      <td>27</td>\n",
       "      <td>0</td>\n",
       "      <td>NaN</td>\n",
       "      <td>Germany</td>\n",
       "      <td>NaN</td>\n",
       "      <td>1</td>\n",
       "      <td>24</td>\n",
       "      <td>30</td>\n",
       "      <td>0</td>\n",
       "      <td>NaN</td>\n",
       "      <td>NaN</td>\n",
       "      <td>0</td>\n",
       "    </tr>\n",
       "    <tr>\n",
       "      <th>4</th>\n",
       "      <td>891406035</td>\n",
       "      <td>27</td>\n",
       "      <td>1000</td>\n",
       "      <td>NaN</td>\n",
       "      <td>France</td>\n",
       "      <td>NaN</td>\n",
       "      <td>1</td>\n",
       "      <td>24</td>\n",
       "      <td>30</td>\n",
       "      <td>1</td>\n",
       "      <td>1.0</td>\n",
       "      <td>NaN</td>\n",
       "      <td>0</td>\n",
       "    </tr>\n",
       "    <tr>\n",
       "      <th>6</th>\n",
       "      <td>891304281</td>\n",
       "      <td>39</td>\n",
       "      <td>0</td>\n",
       "      <td>NaN</td>\n",
       "      <td>France</td>\n",
       "      <td>NaN</td>\n",
       "      <td>1</td>\n",
       "      <td>36</td>\n",
       "      <td>42</td>\n",
       "      <td>0</td>\n",
       "      <td>NaN</td>\n",
       "      <td>NaN</td>\n",
       "      <td>0</td>\n",
       "    </tr>\n",
       "    <tr>\n",
       "      <th>7</th>\n",
       "      <td>892431420</td>\n",
       "      <td>21</td>\n",
       "      <td>909</td>\n",
       "      <td>NaN</td>\n",
       "      <td>Australia</td>\n",
       "      <td>NaN</td>\n",
       "      <td>1</td>\n",
       "      <td>18</td>\n",
       "      <td>24</td>\n",
       "      <td>11</td>\n",
       "      <td>NaN</td>\n",
       "      <td>NaN</td>\n",
       "      <td>0</td>\n",
       "    </tr>\n",
       "    <tr>\n",
       "      <th>13</th>\n",
       "      <td>891219699</td>\n",
       "      <td>30</td>\n",
       "      <td>1000</td>\n",
       "      <td>NaN</td>\n",
       "      <td>United States of America</td>\n",
       "      <td>NaN</td>\n",
       "      <td>1</td>\n",
       "      <td>27</td>\n",
       "      <td>33</td>\n",
       "      <td>1</td>\n",
       "      <td>1.0</td>\n",
       "      <td>NaN</td>\n",
       "      <td>0</td>\n",
       "    </tr>\n",
       "  </tbody>\n",
       "</table>\n",
       "</div>"
      ],
      "text/plain": [
       "          uid  age  attraction_coeff  coins                   country  \\\n",
       "1   892044516   27                 0    NaN                   Germany   \n",
       "4   891406035   27              1000    NaN                    France   \n",
       "6   891304281   39                 0    NaN                    France   \n",
       "7   892431420   21               909    NaN                 Australia   \n",
       "13  891219699   30              1000    NaN  United States of America   \n",
       "\n",
       "   visit_days  gender  age_filter_start  age_filter_end  views_count  \\\n",
       "1         NaN       1                24              30            0   \n",
       "4         NaN       1                24              30            1   \n",
       "6         NaN       1                36              42            0   \n",
       "7         NaN       1                18              24           11   \n",
       "13        NaN       1                27              33            1   \n",
       "\n",
       "    was_premium  is_premium  total_revenue  \n",
       "1           NaN         NaN              0  \n",
       "4           1.0         NaN              0  \n",
       "6           NaN         NaN              0  \n",
       "7           NaN         NaN              0  \n",
       "13          1.0         NaN              0  "
      ]
     },
     "execution_count": 21,
     "metadata": {},
     "output_type": "execute_result"
    }
   ],
   "source": [
    "# Посмотрим на записи, где есть пропуски в колонке visit_days\n",
    "users_test_passes = users_test.loc[users_test.visit_days.isna()]\n",
    "users_test_passes.head()"
   ]
  },
  {
   "cell_type": "markdown",
   "metadata": {},
   "source": [
    "С visit_days мы видим необычную ситуацию. Пользователь может иметь статус was_premium и при этом данные говорят, что он не заходил в приложение."
   ]
  },
  {
   "cell_type": "code",
   "execution_count": 23,
   "metadata": {},
   "outputs": [
    {
     "data": {
      "text/html": [
       "<div>\n",
       "<style scoped>\n",
       "    .dataframe tbody tr th:only-of-type {\n",
       "        vertical-align: middle;\n",
       "    }\n",
       "\n",
       "    .dataframe tbody tr th {\n",
       "        vertical-align: top;\n",
       "    }\n",
       "\n",
       "    .dataframe thead th {\n",
       "        text-align: right;\n",
       "    }\n",
       "</style>\n",
       "<table border=\"1\" class=\"dataframe\">\n",
       "  <thead>\n",
       "    <tr style=\"text-align: right;\">\n",
       "      <th></th>\n",
       "      <th>uid</th>\n",
       "      <th>age</th>\n",
       "      <th>attraction_coeff</th>\n",
       "      <th>coins</th>\n",
       "      <th>country</th>\n",
       "      <th>visit_days</th>\n",
       "      <th>gender</th>\n",
       "      <th>age_filter_start</th>\n",
       "      <th>age_filter_end</th>\n",
       "      <th>views_count</th>\n",
       "      <th>was_premium</th>\n",
       "      <th>is_premium</th>\n",
       "      <th>total_revenue</th>\n",
       "    </tr>\n",
       "  </thead>\n",
       "  <tbody>\n",
       "    <tr>\n",
       "      <th>134</th>\n",
       "      <td>891919368</td>\n",
       "      <td>29</td>\n",
       "      <td>250</td>\n",
       "      <td>NaN</td>\n",
       "      <td>France</td>\n",
       "      <td>NaN</td>\n",
       "      <td>1</td>\n",
       "      <td>26</td>\n",
       "      <td>32</td>\n",
       "      <td>4</td>\n",
       "      <td>1.0</td>\n",
       "      <td>1.0</td>\n",
       "      <td>16536</td>\n",
       "    </tr>\n",
       "  </tbody>\n",
       "</table>\n",
       "</div>"
      ],
      "text/plain": [
       "           uid  age  attraction_coeff  coins country visit_days  gender  \\\n",
       "134  891919368   29               250    NaN  France        NaN       1   \n",
       "\n",
       "     age_filter_start  age_filter_end  views_count  was_premium  is_premium  \\\n",
       "134                26              32            4          1.0         1.0   \n",
       "\n",
       "     total_revenue  \n",
       "134          16536  "
      ]
     },
     "execution_count": 23,
     "metadata": {},
     "output_type": "execute_result"
    }
   ],
   "source": [
    "\"\"\"Оценим, есть ли пользователи, которые расплачивались в приложении,\n",
    "но при этом у них нет записей о посещении приложения.\n",
    "Эти пользователи гарантированно посещали приложение\"\"\"\n",
    "\n",
    "passes_pays = users_test_passes.query('total_revenue > 0')\n",
    "passes_pays.head(1)"
   ]
  },
  {
   "cell_type": "markdown",
   "metadata": {},
   "source": [
    "Такие пользователи есть. Посмотрим как количество таких пользователей соотносится со всеми платящими пользователями"
   ]
  },
  {
   "cell_type": "code",
   "execution_count": 24,
   "metadata": {
    "scrolled": true
   },
   "outputs": [
    {
     "name": "stdout",
     "output_type": "stream",
     "text": [
      "Мы имеем 19 пользователей, которые якобы не заходили в приложение после регистрации,\n",
      "но при этом совершали оплату в приложении. Также в файле users_test у нас всего\n",
      "146 пользователей, которые совершали оплату. Таким образом 13 процентов платящих\n",
      "пользователей не имеют записи о том, что они заходили в приложение.\n"
     ]
    }
   ],
   "source": [
    "a = passes_pays.shape[0]\n",
    "b = users_test.query('total_revenue > 0').shape[0]\n",
    "\n",
    "print(f'Мы имеем {a} пользователей, которые якобы не заходили в приложение после регистрации,\\n\\\n",
    "но при этом совершали оплату в приложении. Также в файле users_test у нас всего\\n\\\n",
    "{b} пользователей, которые совершали оплату. Таким образом {round(a/b * 100)} процентов платящих\\n\\\n",
    "пользователей не имеют записи о том, что они заходили в приложение.')"
   ]
  },
  {
   "cell_type": "code",
   "execution_count": 25,
   "metadata": {},
   "outputs": [
    {
     "data": {
      "text/html": [
       "<div>\n",
       "<style scoped>\n",
       "    .dataframe tbody tr th:only-of-type {\n",
       "        vertical-align: middle;\n",
       "    }\n",
       "\n",
       "    .dataframe tbody tr th {\n",
       "        vertical-align: top;\n",
       "    }\n",
       "\n",
       "    .dataframe thead th {\n",
       "        text-align: right;\n",
       "    }\n",
       "</style>\n",
       "<table border=\"1\" class=\"dataframe\">\n",
       "  <thead>\n",
       "    <tr style=\"text-align: right;\">\n",
       "      <th></th>\n",
       "      <th>uid</th>\n",
       "      <th>joined_at</th>\n",
       "      <th>paid_at</th>\n",
       "    </tr>\n",
       "  </thead>\n",
       "  <tbody>\n",
       "    <tr>\n",
       "      <th>24</th>\n",
       "      <td>891786216</td>\n",
       "      <td>2017-10-27 18:20:00</td>\n",
       "      <td>2017-03-11 20:20:00</td>\n",
       "    </tr>\n",
       "    <tr>\n",
       "      <th>40</th>\n",
       "      <td>892093275</td>\n",
       "      <td>2017-10-21 09:18:00</td>\n",
       "      <td>2017-10-28 11:18:00</td>\n",
       "    </tr>\n",
       "    <tr>\n",
       "      <th>47</th>\n",
       "      <td>891640689</td>\n",
       "      <td>2017-10-30 13:47:00</td>\n",
       "      <td>2017-06-11 17:31:00</td>\n",
       "    </tr>\n",
       "    <tr>\n",
       "      <th>92</th>\n",
       "      <td>891904293</td>\n",
       "      <td>2017-10-25 06:16:00</td>\n",
       "      <td>2017-02-11 08:16:00</td>\n",
       "    </tr>\n",
       "    <tr>\n",
       "      <th>99</th>\n",
       "      <td>891231273</td>\n",
       "      <td>2017-07-11 03:39:00</td>\n",
       "      <td>2017-11-14 09:47:00</td>\n",
       "    </tr>\n",
       "  </tbody>\n",
       "</table>\n",
       "</div>"
      ],
      "text/plain": [
       "          uid           joined_at             paid_at\n",
       "24  891786216 2017-10-27 18:20:00 2017-03-11 20:20:00\n",
       "40  892093275 2017-10-21 09:18:00 2017-10-28 11:18:00\n",
       "47  891640689 2017-10-30 13:47:00 2017-06-11 17:31:00\n",
       "92  891904293 2017-10-25 06:16:00 2017-02-11 08:16:00\n",
       "99  891231273 2017-07-11 03:39:00 2017-11-14 09:47:00"
      ]
     },
     "execution_count": 25,
     "metadata": {},
     "output_type": "execute_result"
    }
   ],
   "source": [
    "# Возьмем uid пользователей, которые платили, но не заходили в приложение\n",
    "no_visit_uid = passes_pays.uid.to_list()\n",
    "\n",
    "# Посмотрим на информацию о времени регистрации и платежа таких пользователей\n",
    "no_visit_transactions = transactions_test.query('uid in @no_visit_uid')\n",
    "no_visit_transactions[['uid', 'joined_at', 'paid_at']].head()"
   ]
  },
  {
   "cell_type": "markdown",
   "metadata": {},
   "source": [
    "Есть пользователи, у которых есть ошибка, когда дата регистрации больше даты платежа, но есть и пользователи, у которых даты расположены в хронологическом порядке. \n",
    "\n",
    "Таким образом, платящие пользователи - единственные с пропусками в visit_days, у кого мы можем надежно установить, что они заходили в приложение. Тем не менее, их количество мало, поэтому мы не будем восстанавливать эти пропущенные значения. И все пропуски заполним нулями."
   ]
  },
  {
   "cell_type": "code",
   "execution_count": 26,
   "metadata": {},
   "outputs": [
    {
     "data": {
      "text/plain": [
       "1    4106\n",
       "0     202\n",
       "Name: gender, dtype: int64"
      ]
     },
     "execution_count": 26,
     "metadata": {},
     "output_type": "execute_result"
    }
   ],
   "source": [
    "# Посмотрим распредление пола в таблице\n",
    "users_test.gender.value_counts()"
   ]
  },
  {
   "cell_type": "markdown",
   "metadata": {},
   "source": [
    "Подавляющее большинство пользователи гендера 1, будем считать что это мужчины, следуя статье.\n",
    "\n",
    "https://en.wikipedia.org/wiki/Tinder_(app)#Users"
   ]
  },
  {
   "cell_type": "code",
   "execution_count": 27,
   "metadata": {},
   "outputs": [],
   "source": [
    "\"\"\"Эта функция позволит нам проделать с файлами users сразу несколько операций:\n",
    "1) Мы посчитаем для каждого пользователя сколько дней посещал приложение\n",
    "2) Мы поменяем обозначение пола в соответствующем столбце\n",
    "3) Создадим столбец, где будет записано что это за группа\n",
    "4) Заполним пропуски\"\"\"\n",
    "\n",
    "def processing_1(df, group_name):\n",
    "    \n",
    "    df['visit_days'] = df['visit_days'].str.split(',').str.len()\n",
    "    df['gender'] = df.gender.apply(lambda x: 'male' if x == 1 else 'female')\n",
    "    df['group'] = group_name\n",
    "    df.fillna(0, inplace=True)\n",
    "    \n",
    "    return df"
   ]
  },
  {
   "cell_type": "code",
   "execution_count": 28,
   "metadata": {},
   "outputs": [],
   "source": [
    "# Обратимся к функции, которая делает ряд преобразований с фалйлами users\n",
    "users_test = processing_1(users_test, 'test')\n",
    "users_control_1 = processing_1(users_control_1, 'control_1')\n",
    "users_control_2 = processing_1(users_control_2, 'control_2')"
   ]
  },
  {
   "cell_type": "markdown",
   "metadata": {},
   "source": [
    "##### Изменения в users\n",
    "\n",
    "1) Преобразована колонка visit_days. В каждом столбце теперь стоит количество дней, которое пользователь бывал в приложении.\n",
    "\n",
    "2) В колонке gender явным образом указан пол пользователей( опираемся на данные, которые предоставил tinder).\n",
    "\n",
    "3) Появилась колонка group, в которой есть информация о группе\n",
    "\n",
    "4) Все пропуски заполнены нулями"
   ]
  },
  {
   "cell_type": "markdown",
   "metadata": {},
   "source": [
    "### Предварительная обработка данных. Transactions "
   ]
  },
  {
   "cell_type": "markdown",
   "metadata": {},
   "source": [
    "##### Пропуски "
   ]
  },
  {
   "cell_type": "code",
   "execution_count": 29,
   "metadata": {},
   "outputs": [
    {
     "data": {
      "text/plain": [
       "uid             630\n",
       "country         630\n",
       "joined_at       630\n",
       "paid_at         630\n",
       "revenue         630\n",
       "payment_id      630\n",
       "from_page       630\n",
       "product_type    630\n",
       "dtype: int64"
      ]
     },
     "execution_count": 29,
     "metadata": {},
     "output_type": "execute_result"
    }
   ],
   "source": [
    "transactions_control_1.isna().sum()"
   ]
  },
  {
   "cell_type": "markdown",
   "metadata": {},
   "source": [
    "Похоже, мы имеем 630 пустых строк. Во всяком случае, если у строки нет uid, она становится бесполезной для нашего анализа. Удалим строки, где пропущен uid"
   ]
  },
  {
   "cell_type": "code",
   "execution_count": 30,
   "metadata": {},
   "outputs": [
    {
     "data": {
      "text/plain": [
       "uid             0\n",
       "country         0\n",
       "joined_at       0\n",
       "paid_at         0\n",
       "revenue         0\n",
       "payment_id      0\n",
       "from_page       0\n",
       "product_type    0\n",
       "dtype: int64"
      ]
     },
     "execution_count": 30,
     "metadata": {},
     "output_type": "execute_result"
    }
   ],
   "source": [
    "transactions_control_1.dropna(subset=['uid'], inplace=True)\n",
    "transactions_control_1.isna().sum()\n",
    "# Теперь все записи с пустыми значениями удалены"
   ]
  },
  {
   "cell_type": "markdown",
   "metadata": {},
   "source": [
    "В transactions_control_1 мы имели проблему с датами регистрации и оплаты, которые были раньше чем в двух других таблицах. Возьмем даты из двух других таблиц за эталонные и посмотрим какое количество записей выбиваются из промежутка, в котором проходил эксперимент."
   ]
  },
  {
   "cell_type": "code",
   "execution_count": 31,
   "metadata": {},
   "outputs": [
    {
     "data": {
      "text/html": [
       "<div>\n",
       "<style scoped>\n",
       "    .dataframe tbody tr th:only-of-type {\n",
       "        vertical-align: middle;\n",
       "    }\n",
       "\n",
       "    .dataframe tbody tr th {\n",
       "        vertical-align: top;\n",
       "    }\n",
       "\n",
       "    .dataframe thead th {\n",
       "        text-align: right;\n",
       "    }\n",
       "</style>\n",
       "<table border=\"1\" class=\"dataframe\">\n",
       "  <thead>\n",
       "    <tr style=\"text-align: right;\">\n",
       "      <th></th>\n",
       "      <th>uid</th>\n",
       "      <th>country</th>\n",
       "      <th>joined_at</th>\n",
       "      <th>paid_at</th>\n",
       "      <th>revenue</th>\n",
       "      <th>payment_id</th>\n",
       "      <th>from_page</th>\n",
       "      <th>product_type</th>\n",
       "    </tr>\n",
       "  </thead>\n",
       "  <tbody>\n",
       "    <tr>\n",
       "      <th>65</th>\n",
       "      <td>960936960.0</td>\n",
       "      <td>Russian Federation</td>\n",
       "      <td>2015-01-19 11:49:00</td>\n",
       "      <td>2016-12-14 17:30:00</td>\n",
       "      <td>26.0</td>\n",
       "      <td>0.0</td>\n",
       "      <td>refund_VP</td>\n",
       "      <td>other_type</td>\n",
       "    </tr>\n",
       "    <tr>\n",
       "      <th>101</th>\n",
       "      <td>960936960.0</td>\n",
       "      <td>Russian Federation</td>\n",
       "      <td>2015-01-19 11:49:00</td>\n",
       "      <td>2016-12-14 17:35:00</td>\n",
       "      <td>637.0</td>\n",
       "      <td>0.0</td>\n",
       "      <td>refung_AP</td>\n",
       "      <td>other_type</td>\n",
       "    </tr>\n",
       "    <tr>\n",
       "      <th>224</th>\n",
       "      <td>960936960.0</td>\n",
       "      <td>Russian Federation</td>\n",
       "      <td>2015-01-19 11:49:00</td>\n",
       "      <td>2016-12-14 16:16:00</td>\n",
       "      <td>143.0</td>\n",
       "      <td>0.0</td>\n",
       "      <td>refund_WP</td>\n",
       "      <td>other_type</td>\n",
       "    </tr>\n",
       "  </tbody>\n",
       "</table>\n",
       "</div>"
      ],
      "text/plain": [
       "             uid             country           joined_at             paid_at  \\\n",
       "65   960936960.0  Russian Federation 2015-01-19 11:49:00 2016-12-14 17:30:00   \n",
       "101  960936960.0  Russian Federation 2015-01-19 11:49:00 2016-12-14 17:35:00   \n",
       "224  960936960.0  Russian Federation 2015-01-19 11:49:00 2016-12-14 16:16:00   \n",
       "\n",
       "     revenue  payment_id  from_page product_type  \n",
       "65      26.0         0.0  refund_VP   other_type  \n",
       "101    637.0         0.0  refung_AP   other_type  \n",
       "224    143.0         0.0  refund_WP   other_type  "
      ]
     },
     "execution_count": 31,
     "metadata": {},
     "output_type": "execute_result"
    }
   ],
   "source": [
    "# Записи о регистрации из transactions_control_1, прошедшие раньше начала эксперимента\n",
    "min_joined_date = transactions_test.joined_at.min().date()\n",
    "error_joined_date = transactions_control_1.query('joined_at < @min_joined_date')\n",
    "error_joined_date"
   ]
  },
  {
   "cell_type": "code",
   "execution_count": 32,
   "metadata": {},
   "outputs": [
    {
     "data": {
      "text/html": [
       "<div>\n",
       "<style scoped>\n",
       "    .dataframe tbody tr th:only-of-type {\n",
       "        vertical-align: middle;\n",
       "    }\n",
       "\n",
       "    .dataframe tbody tr th {\n",
       "        vertical-align: top;\n",
       "    }\n",
       "\n",
       "    .dataframe thead th {\n",
       "        text-align: right;\n",
       "    }\n",
       "</style>\n",
       "<table border=\"1\" class=\"dataframe\">\n",
       "  <thead>\n",
       "    <tr style=\"text-align: right;\">\n",
       "      <th></th>\n",
       "      <th>uid</th>\n",
       "      <th>country</th>\n",
       "      <th>joined_at</th>\n",
       "      <th>paid_at</th>\n",
       "      <th>revenue</th>\n",
       "      <th>payment_id</th>\n",
       "      <th>from_page</th>\n",
       "      <th>product_type</th>\n",
       "    </tr>\n",
       "  </thead>\n",
       "  <tbody>\n",
       "    <tr>\n",
       "      <th>65</th>\n",
       "      <td>960936960.0</td>\n",
       "      <td>Russian Federation</td>\n",
       "      <td>2015-01-19 11:49:00</td>\n",
       "      <td>2016-12-14 17:30:00</td>\n",
       "      <td>26.0</td>\n",
       "      <td>0.0</td>\n",
       "      <td>refund_VP</td>\n",
       "      <td>other_type</td>\n",
       "    </tr>\n",
       "    <tr>\n",
       "      <th>101</th>\n",
       "      <td>960936960.0</td>\n",
       "      <td>Russian Federation</td>\n",
       "      <td>2015-01-19 11:49:00</td>\n",
       "      <td>2016-12-14 17:35:00</td>\n",
       "      <td>637.0</td>\n",
       "      <td>0.0</td>\n",
       "      <td>refung_AP</td>\n",
       "      <td>other_type</td>\n",
       "    </tr>\n",
       "    <tr>\n",
       "      <th>224</th>\n",
       "      <td>960936960.0</td>\n",
       "      <td>Russian Federation</td>\n",
       "      <td>2015-01-19 11:49:00</td>\n",
       "      <td>2016-12-14 16:16:00</td>\n",
       "      <td>143.0</td>\n",
       "      <td>0.0</td>\n",
       "      <td>refund_WP</td>\n",
       "      <td>other_type</td>\n",
       "    </tr>\n",
       "  </tbody>\n",
       "</table>\n",
       "</div>"
      ],
      "text/plain": [
       "             uid             country           joined_at             paid_at  \\\n",
       "65   960936960.0  Russian Federation 2015-01-19 11:49:00 2016-12-14 17:30:00   \n",
       "101  960936960.0  Russian Federation 2015-01-19 11:49:00 2016-12-14 17:35:00   \n",
       "224  960936960.0  Russian Federation 2015-01-19 11:49:00 2016-12-14 16:16:00   \n",
       "\n",
       "     revenue  payment_id  from_page product_type  \n",
       "65      26.0         0.0  refund_VP   other_type  \n",
       "101    637.0         0.0  refung_AP   other_type  \n",
       "224    143.0         0.0  refund_WP   other_type  "
      ]
     },
     "execution_count": 32,
     "metadata": {},
     "output_type": "execute_result"
    }
   ],
   "source": [
    "# Записи о платежах из transactions_control_1, прошедшие раньше начала эксперимента\n",
    "min_paid_date = transactions_test.paid_at.min().date()\n",
    "error_paid_date = transactions_control_1.query('paid_at < @min_paid_date')\n",
    "error_paid_date"
   ]
  },
  {
   "cell_type": "markdown",
   "metadata": {},
   "source": [
    "Три повторяющихся строки одного пользователя. Эти записи нарушают чистоту эксперимента, поэтому мы их удалим."
   ]
  },
  {
   "cell_type": "code",
   "execution_count": 33,
   "metadata": {},
   "outputs": [],
   "source": [
    "for_removing = error_joined_date.uid.to_list()\n",
    "transactions_control_1 = transactions_control_1.query('uid != @for_removing')"
   ]
  },
  {
   "cell_type": "markdown",
   "metadata": {},
   "source": [
    "Отберем страны, которые есть во всех трех таблицах."
   ]
  },
  {
   "cell_type": "code",
   "execution_count": 34,
   "metadata": {},
   "outputs": [
    {
     "data": {
      "text/plain": [
       "15"
      ]
     },
     "execution_count": 34,
     "metadata": {},
     "output_type": "execute_result"
    }
   ],
   "source": [
    "# Воспользуемся встроенной структурой данных - множеством, которое содержит лишь уникальные элементы.\n",
    "a_1 = set(transactions_test.country)\n",
    "b_1 = set(transactions_control_1.country)\n",
    "c_1 = set(transactions_control_2.country)\n",
    "\n",
    "# Пересечение множеств оставит страны, которые присутствуют в каждой из таблиц\n",
    "required_countries = list(a_1 & b_1 & c_1)\n",
    "\n",
    "\n",
    "# Отберем во всех файлах записи, страны в которых есть в каждом из файлов.\n",
    "users_test = users_test.query('country in @required_countries')\n",
    "users_control_1 = users_control_1.query('country in @required_countries')\n",
    "users_control_2 = users_control_2.query('country in @required_countries')\n",
    "\n",
    "transactions_test = transactions_test.query('country in @required_countries')\n",
    "transactions_control_1 = transactions_control_1.query('country in @required_countries')\n",
    "transactions_control_2 = transactions_control_2.query('country in @required_countries')\n",
    "\n",
    "# Выведем количество стран, которое теперь есть в файлах\n",
    "len(required_countries)"
   ]
  },
  {
   "cell_type": "markdown",
   "metadata": {},
   "source": [
    "##### Логическая ошибка в датах"
   ]
  },
  {
   "cell_type": "code",
   "execution_count": 35,
   "metadata": {},
   "outputs": [
    {
     "name": "stdout",
     "output_type": "stream",
     "text": [
      "Все записи эксперимента лежат в интервале от 2017-01-11 до 2017-12-11\n"
     ]
    }
   ],
   "source": [
    "# Отберем даты начала и конца эксперимента\n",
    "min_date = transactions_test.joined_at.min().date()\n",
    "max_date = transactions_test.paid_at.max().date()\n",
    "\n",
    "print(f'Все записи эксперимента лежат в интервале от {min_date} до {max_date}')"
   ]
  },
  {
   "cell_type": "code",
   "execution_count": 36,
   "metadata": {},
   "outputs": [
    {
     "data": {
      "text/html": [
       "<div>\n",
       "<style scoped>\n",
       "    .dataframe tbody tr th:only-of-type {\n",
       "        vertical-align: middle;\n",
       "    }\n",
       "\n",
       "    .dataframe tbody tr th {\n",
       "        vertical-align: top;\n",
       "    }\n",
       "\n",
       "    .dataframe thead th {\n",
       "        text-align: right;\n",
       "    }\n",
       "</style>\n",
       "<table border=\"1\" class=\"dataframe\">\n",
       "  <thead>\n",
       "    <tr style=\"text-align: right;\">\n",
       "      <th></th>\n",
       "      <th>joined_at</th>\n",
       "      <th>paid_at</th>\n",
       "    </tr>\n",
       "  </thead>\n",
       "  <tbody>\n",
       "    <tr>\n",
       "      <th>11</th>\n",
       "      <td>2017-10-26 02:55:00</td>\n",
       "      <td>2017-10-11 19:00:00</td>\n",
       "    </tr>\n",
       "    <tr>\n",
       "      <th>20</th>\n",
       "      <td>2017-10-27 08:56:00</td>\n",
       "      <td>2017-03-11 10:57:00</td>\n",
       "    </tr>\n",
       "    <tr>\n",
       "      <th>24</th>\n",
       "      <td>2017-10-27 18:20:00</td>\n",
       "      <td>2017-03-11 20:20:00</td>\n",
       "    </tr>\n",
       "    <tr>\n",
       "      <th>25</th>\n",
       "      <td>2017-10-21 23:15:00</td>\n",
       "      <td>2017-08-11 01:56:00</td>\n",
       "    </tr>\n",
       "    <tr>\n",
       "      <th>36</th>\n",
       "      <td>2017-10-31 14:16:00</td>\n",
       "      <td>2017-09-11 15:44:00</td>\n",
       "    </tr>\n",
       "  </tbody>\n",
       "</table>\n",
       "</div>"
      ],
      "text/plain": [
       "             joined_at             paid_at\n",
       "11 2017-10-26 02:55:00 2017-10-11 19:00:00\n",
       "20 2017-10-27 08:56:00 2017-03-11 10:57:00\n",
       "24 2017-10-27 18:20:00 2017-03-11 20:20:00\n",
       "25 2017-10-21 23:15:00 2017-08-11 01:56:00\n",
       "36 2017-10-31 14:16:00 2017-09-11 15:44:00"
      ]
     },
     "execution_count": 36,
     "metadata": {},
     "output_type": "execute_result"
    }
   ],
   "source": [
    "# Посмотрим как выглядят ошибочные записи\n",
    "error_date = transactions_test.query('joined_at > paid_at')[['joined_at', 'paid_at']]\n",
    "error_date.head()"
   ]
  },
  {
   "cell_type": "markdown",
   "metadata": {},
   "source": [
    "1) Даты не выходят за границы эксперимента\n",
    "\n",
    "2) У дат оплаты есть особенность. Везде стоит 11 день месяца. Проверим какие дни месяца и месяца есть в записях"
   ]
  },
  {
   "cell_type": "code",
   "execution_count": 37,
   "metadata": {},
   "outputs": [
    {
     "data": {
      "text/plain": [
       "{11}"
      ]
     },
     "execution_count": 37,
     "metadata": {},
     "output_type": "execute_result"
    }
   ],
   "source": [
    "# Дни месяца в датах оплаты\n",
    "set(error_date.paid_at.dt.day)"
   ]
  },
  {
   "cell_type": "code",
   "execution_count": 38,
   "metadata": {},
   "outputs": [
    {
     "data": {
      "text/plain": [
       "{1, 2, 3, 4, 5, 6, 7, 8, 9, 10}"
      ]
     },
     "execution_count": 38,
     "metadata": {},
     "output_type": "execute_result"
    }
   ],
   "source": [
    "# Месяца там же\n",
    "set(error_date.paid_at.dt.month)"
   ]
  },
  {
   "cell_type": "markdown",
   "metadata": {},
   "source": [
    "Мы видим, что во всех ошибочных записях день месяца 11, а даты месяцов различаются.\n",
    "\n",
    "Посмотрим какие месяцы при в записях о регистрации"
   ]
  },
  {
   "cell_type": "code",
   "execution_count": 39,
   "metadata": {},
   "outputs": [
    {
     "data": {
      "text/plain": [
       "{10}"
      ]
     },
     "execution_count": 39,
     "metadata": {},
     "output_type": "execute_result"
    }
   ],
   "source": [
    "set(error_date.joined_at.dt.month)"
   ]
  },
  {
   "cell_type": "markdown",
   "metadata": {},
   "source": [
    "Итак, судя по всему произошла ошибка, в результате которой месяц и день записывались на место друг друга. Это было в период 2017-11-01 - 2017-11-10. Посмотрим так ли выглядят данные в двух других файлах"
   ]
  },
  {
   "cell_type": "code",
   "execution_count": 40,
   "metadata": {},
   "outputs": [
    {
     "name": "stdout",
     "output_type": "stream",
     "text": [
      "Файл transactions_control_1\n",
      "Дни месяца в датах оплаты {11}\n",
      "Месяц регистрации {10}\n",
      "\n",
      "Файл transactions_control_2\n",
      "Дни месяца в датах оплаты {11}\n",
      "Месяц регистрации {10}\n"
     ]
    }
   ],
   "source": [
    "error_date_ctrl_1 = transactions_control_1.query('joined_at > paid_at')[['joined_at', 'paid_at']]\n",
    "error_date_ctrl_2 = transactions_control_2.query('joined_at > paid_at')[['joined_at', 'paid_at']]\n",
    "\n",
    "print(f'Файл transactions_control_1\\n\\\n",
    "Дни месяца в датах оплаты {set(error_date_ctrl_1.paid_at.dt.day)}\\n\\\n",
    "Месяц регистрации {set(error_date_ctrl_1.joined_at.dt.month)}\\n')\n",
    "\n",
    "print(f'Файл transactions_control_2\\n\\\n",
    "Дни месяца в датах оплаты {set(error_date_ctrl_2.paid_at.dt.day)}\\n\\\n",
    "Месяц регистрации {set(error_date_ctrl_2.joined_at.dt.month)}')"
   ]
  },
  {
   "cell_type": "markdown",
   "metadata": {},
   "source": [
    "Ситуация повторяется в оставшихся файлах. Перезаписывать даты я не буду, так как не планирую вести их анализ"
   ]
  },
  {
   "cell_type": "markdown",
   "metadata": {},
   "source": [
    "##### 2 новые платежные системы"
   ]
  },
  {
   "cell_type": "code",
   "execution_count": 41,
   "metadata": {},
   "outputs": [],
   "source": [
    "# Найдем уникальные идентификаторы в каждом из файлов\n",
    "a = set(transactions_test.payment_id)\n",
    "b = set(transactions_control_1.payment_id.astype(int))\n",
    "c = set(transactions_control_2.payment_id)"
   ]
  },
  {
   "cell_type": "code",
   "execution_count": 42,
   "metadata": {},
   "outputs": [
    {
     "data": {
      "text/plain": [
       "set()"
      ]
     },
     "execution_count": 42,
     "metadata": {},
     "output_type": "execute_result"
    }
   ],
   "source": [
    "# Найдем разность множеств и тем самым увидим элементы, которые есть только в тестовой группе\n",
    "a - b - c"
   ]
  },
  {
   "cell_type": "markdown",
   "metadata": {},
   "source": [
    "Это странно. В тестовой группе нет уникальных платежных систем. Или payment_id не является указателем на платежную систему. Или платежные системы были одинаковы для всех 3 групп, но в тестовой цена менялась при покупке премиум."
   ]
  },
  {
   "cell_type": "markdown",
   "metadata": {},
   "source": [
    "##### Дубли и различие в суммах"
   ]
  },
  {
   "cell_type": "markdown",
   "metadata": {},
   "source": [
    "Мы уже провели некоторое изменение данных. Детально посмотрим что изменилось и как выглядят выручки в таблицах"
   ]
  },
  {
   "cell_type": "code",
   "execution_count": 43,
   "metadata": {},
   "outputs": [],
   "source": [
    "def after_processing(df_u, df_tr, group_name):\n",
    "    users_uids = set(df_u.uid)\n",
    "    trans_uids = set(df_tr.uid)\n",
    "    \n",
    "    result = pd.DataFrame([[df_u.total_revenue.sum()],\n",
    "                           [df_tr.drop_duplicates().revenue.sum()],\n",
    "                           [df_tr.revenue.sum()],\n",
    "                           [df_u.uid.nunique()],\n",
    "                           [df_u.shape[0]],\n",
    "                           [df_tr.uid.nunique()],\n",
    "                           [df_tr.shape[0]],\n",
    "                           [len(trans_uids - users_uids)]],\n",
    "                          index=['Users_sum_revenue', \n",
    "                                 'Transactions_rev_without_dupl', \n",
    "                                 'Transactions_sum_revenue', \n",
    "                                 'Users_uniq_uid', \n",
    "                                 'Users_table_size', \n",
    "                                 'Transactions_uniq_uid', \n",
    "                                 'Transactions_table_size', \n",
    "                                 'Uid_only_in_trans-s'], \n",
    "                          columns=[group_name])\n",
    "                                                         \n",
    "    return result"
   ]
  },
  {
   "cell_type": "code",
   "execution_count": 44,
   "metadata": {},
   "outputs": [
    {
     "data": {
      "text/html": [
       "<div>\n",
       "<style scoped>\n",
       "    .dataframe tbody tr th:only-of-type {\n",
       "        vertical-align: middle;\n",
       "    }\n",
       "\n",
       "    .dataframe tbody tr th {\n",
       "        vertical-align: top;\n",
       "    }\n",
       "\n",
       "    .dataframe thead th {\n",
       "        text-align: right;\n",
       "    }\n",
       "</style>\n",
       "<table border=\"1\" class=\"dataframe\">\n",
       "  <thead>\n",
       "    <tr style=\"text-align: right;\">\n",
       "      <th></th>\n",
       "      <th>test</th>\n",
       "      <th>control_1</th>\n",
       "      <th>control_2</th>\n",
       "      <th>explanation</th>\n",
       "    </tr>\n",
       "  </thead>\n",
       "  <tbody>\n",
       "    <tr>\n",
       "      <th>Users_sum_revenue</th>\n",
       "      <td>2284503</td>\n",
       "      <td>2552186.0</td>\n",
       "      <td>1832818</td>\n",
       "      <td>Общая выручка в файлах users</td>\n",
       "    </tr>\n",
       "    <tr>\n",
       "      <th>Transactions_rev_without_dupl</th>\n",
       "      <td>2316847</td>\n",
       "      <td>2464943.0</td>\n",
       "      <td>1820377</td>\n",
       "      <td>Выручка в trans-s без дубликатов</td>\n",
       "    </tr>\n",
       "    <tr>\n",
       "      <th>Transactions_sum_revenue</th>\n",
       "      <td>2328586</td>\n",
       "      <td>2582450.0</td>\n",
       "      <td>1832818</td>\n",
       "      <td>Общая выручка в файлах trans-s</td>\n",
       "    </tr>\n",
       "    <tr>\n",
       "      <th>Users_uniq_uid</th>\n",
       "      <td>4142</td>\n",
       "      <td>4189.0</td>\n",
       "      <td>4100</td>\n",
       "      <td>Уник. польз-ли в файлах users</td>\n",
       "    </tr>\n",
       "    <tr>\n",
       "      <th>Users_table_size</th>\n",
       "      <td>4142</td>\n",
       "      <td>4189.0</td>\n",
       "      <td>4100</td>\n",
       "      <td>Размер т. users после обработки</td>\n",
       "    </tr>\n",
       "    <tr>\n",
       "      <th>Transactions_uniq_uid</th>\n",
       "      <td>144</td>\n",
       "      <td>188.0</td>\n",
       "      <td>178</td>\n",
       "      <td>Уник. пользователи в файлах trans-s</td>\n",
       "    </tr>\n",
       "    <tr>\n",
       "      <th>Transactions_table_size</th>\n",
       "      <td>267</td>\n",
       "      <td>368.0</td>\n",
       "      <td>310</td>\n",
       "      <td>Размер trans-s после обработки</td>\n",
       "    </tr>\n",
       "    <tr>\n",
       "      <th>Uid_only_in_trans-s</th>\n",
       "      <td>0</td>\n",
       "      <td>0.0</td>\n",
       "      <td>0</td>\n",
       "      <td>Пользователи в trans-s, которых нет в users</td>\n",
       "    </tr>\n",
       "  </tbody>\n",
       "</table>\n",
       "</div>"
      ],
      "text/plain": [
       "                                  test  control_1  control_2  \\\n",
       "Users_sum_revenue              2284503  2552186.0    1832818   \n",
       "Transactions_rev_without_dupl  2316847  2464943.0    1820377   \n",
       "Transactions_sum_revenue       2328586  2582450.0    1832818   \n",
       "Users_uniq_uid                    4142     4189.0       4100   \n",
       "Users_table_size                  4142     4189.0       4100   \n",
       "Transactions_uniq_uid              144      188.0        178   \n",
       "Transactions_table_size            267      368.0        310   \n",
       "Uid_only_in_trans-s                  0        0.0          0   \n",
       "\n",
       "                                                               explanation  \n",
       "Users_sum_revenue                             Общая выручка в файлах users  \n",
       "Transactions_rev_without_dupl             Выручка в trans-s без дубликатов  \n",
       "Transactions_sum_revenue                    Общая выручка в файлах trans-s  \n",
       "Users_uniq_uid                               Уник. польз-ли в файлах users  \n",
       "Users_table_size                           Размер т. users после обработки  \n",
       "Transactions_uniq_uid                  Уник. пользователи в файлах trans-s  \n",
       "Transactions_table_size                     Размер trans-s после обработки  \n",
       "Uid_only_in_trans-s            Пользователи в trans-s, которых нет в users  "
      ]
     },
     "execution_count": 44,
     "metadata": {},
     "output_type": "execute_result"
    }
   ],
   "source": [
    "# Воспользуемся функцией и объединим результаты\n",
    "after_processing_table = after_processing(users_test, transactions_test, 'test')\n",
    "after_processing_table['control_1'] = after_processing(users_control_1, transactions_control_1, 'control_1')\n",
    "after_processing_table['control_2'] = after_processing(users_control_2, transactions_control_2, 'control_2')\n",
    "after_processing_table['explanation'] = pd.DataFrame([['Общая выручка в файлах users'],\n",
    "                                                      ['Выручка в trans-s без дубликатов'],\n",
    "                                                     ['Общая выручка в файлах trans-s'],\n",
    "                                                     ['Уник. польз-ли в файлах users'],\n",
    "                                                     ['Размер т. users после обработки'],\n",
    "                                                      ['Уник. пользователи в файлах trans-s'],\n",
    "                                                      ['Размер trans-s после обработки'],\n",
    "                                                      ['Пользователи в trans-s, которых нет в users']],\n",
    "                                                     index=['Users_sum_revenue',\n",
    "                                                            'Transactions_rev_without_dupl',\n",
    "                                                            'Transactions_sum_revenue',\n",
    "                                                            'Users_uniq_uid',\n",
    "                                                            'Users_table_size',\n",
    "                                                            'Transactions_uniq_uid',\n",
    "                                                            'Transactions_table_size',\n",
    "                                                            'Uid_only_in_trans-s'])\n",
    "\n",
    "after_processing_table"
   ]
  },
  {
   "cell_type": "markdown",
   "metadata": {},
   "source": [
    "1) В первых двух группах в файлах users общая выручка меньше, чем в transactions. В третьей группе выручка изначально равная, но, при удалении дубликатов, выручка в transactions становится меньше. Это сигнал в пользу того, что дубликаты - это на самом деле лишь несколько одинаковых покупок пользователя в течение 1 минуты.\n",
    "\n",
    "2) Размеры users стали, очевидно, меньше и разница в пользователях ужалась.\n",
    "\n",
    "3) Последняя строчка таблицы говорит нам, что в transactions нет таких пользователей, которые бы не встречались в users. Тогда, отложив пока в сторону мысли о дубликатах, можем дать несовпадению выручек следующее объяснение. В total_revenue у некоторых пользователей записано ошибочное число."
   ]
  },
  {
   "cell_type": "markdown",
   "metadata": {},
   "source": [
    "##### Дубликаты"
   ]
  },
  {
   "cell_type": "code",
   "execution_count": 45,
   "metadata": {},
   "outputs": [
    {
     "data": {
      "text/html": [
       "<div>\n",
       "<style scoped>\n",
       "    .dataframe tbody tr th:only-of-type {\n",
       "        vertical-align: middle;\n",
       "    }\n",
       "\n",
       "    .dataframe tbody tr th {\n",
       "        vertical-align: top;\n",
       "    }\n",
       "\n",
       "    .dataframe thead th {\n",
       "        text-align: right;\n",
       "    }\n",
       "</style>\n",
       "<table border=\"1\" class=\"dataframe\">\n",
       "  <thead>\n",
       "    <tr style=\"text-align: right;\">\n",
       "      <th></th>\n",
       "      <th>uid</th>\n",
       "      <th>country</th>\n",
       "      <th>joined_at</th>\n",
       "      <th>paid_at</th>\n",
       "      <th>revenue</th>\n",
       "      <th>payment_id</th>\n",
       "      <th>from_page</th>\n",
       "      <th>product_type</th>\n",
       "    </tr>\n",
       "  </thead>\n",
       "  <tbody>\n",
       "    <tr>\n",
       "      <th>55</th>\n",
       "      <td>892236423</td>\n",
       "      <td>United States of America</td>\n",
       "      <td>2017-10-18 01:09:00</td>\n",
       "      <td>2017-10-23 00:15:00</td>\n",
       "      <td>3783</td>\n",
       "      <td>67</td>\n",
       "      <td>menu</td>\n",
       "      <td>other_type</td>\n",
       "    </tr>\n",
       "    <tr>\n",
       "      <th>96</th>\n",
       "      <td>892050108</td>\n",
       "      <td>Israel</td>\n",
       "      <td>2017-10-22 03:02:00</td>\n",
       "      <td>2017-10-23 02:53:00</td>\n",
       "      <td>1261</td>\n",
       "      <td>19</td>\n",
       "      <td>empty_likes</td>\n",
       "      <td>coins</td>\n",
       "    </tr>\n",
       "    <tr>\n",
       "      <th>127</th>\n",
       "      <td>892236423</td>\n",
       "      <td>United States of America</td>\n",
       "      <td>2017-10-18 01:09:00</td>\n",
       "      <td>2017-10-27 22:38:00</td>\n",
       "      <td>3783</td>\n",
       "      <td>67</td>\n",
       "      <td>menu</td>\n",
       "      <td>other_type</td>\n",
       "    </tr>\n",
       "  </tbody>\n",
       "</table>\n",
       "</div>"
      ],
      "text/plain": [
       "           uid                   country           joined_at  \\\n",
       "55   892236423  United States of America 2017-10-18 01:09:00   \n",
       "96   892050108                    Israel 2017-10-22 03:02:00   \n",
       "127  892236423  United States of America 2017-10-18 01:09:00   \n",
       "\n",
       "                paid_at  revenue  payment_id    from_page product_type  \n",
       "55  2017-10-23 00:15:00     3783          67         menu   other_type  \n",
       "96  2017-10-23 02:53:00     1261          19  empty_likes        coins  \n",
       "127 2017-10-27 22:38:00     3783          67         menu   other_type  "
      ]
     },
     "execution_count": 45,
     "metadata": {},
     "output_type": "execute_result"
    }
   ],
   "source": [
    "# выведем дубли для первой группы\n",
    "transactions_test.loc[transactions_test.duplicated()].head(3)"
   ]
  },
  {
   "cell_type": "markdown",
   "metadata": {},
   "source": [
    "Из всех колонок, которые здесь присутствуют посмотрим на колонку product_type. Остальные, на мой взгляд, не привносят информацию о том являются ли дубли ошибкой или это реальное поведение пользователя."
   ]
  },
  {
   "cell_type": "code",
   "execution_count": 46,
   "metadata": {},
   "outputs": [],
   "source": [
    "# Функция выводит тип продукта в дублируемых строчках\n",
    "def product_type_dupl(df):\n",
    "    result = df.loc[df.duplicated()].product_type.unique()\n",
    "    return result"
   ]
  },
  {
   "cell_type": "code",
   "execution_count": 47,
   "metadata": {},
   "outputs": [
    {
     "name": "stdout",
     "output_type": "stream",
     "text": [
      "Типы продукта в transactions_test      ['other_type' 'coins']\n",
      "типы продукта в transactions_control_1 ['other_type' 'coins']\n",
      "типы продукта в transactions_control_2 ['coins' 'other_type']\n"
     ]
    }
   ],
   "source": [
    "a = product_type_dupl(transactions_test)\n",
    "b = product_type_dupl(transactions_control_1)\n",
    "c = product_type_dupl(transactions_control_2)\n",
    "print(f'Типы продукта в transactions_test      {a}\\n\\\n",
    "типы продукта в transactions_control_1 {b}\\n\\\n",
    "типы продукта в transactions_control_2 {c}')"
   ]
  },
  {
   "cell_type": "markdown",
   "metadata": {},
   "source": [
    "Во всех 3 группах дублируются операции покупки монеток и \"другое\". Если бы это была покупка подписки, можно было бы уверенно сказать, что это ошибка. Вполне можно представить ситуацию, что люди докупают монетки, даже на одинаковую сумму оба раза, в том числе и по ошибке. Но у нас нет информации о возвратах, а также нет других опознавательных факторов, чтобы оценить это. \n",
    "\n",
    "Мы не можем надежно показать ни то, что это ошибка, ни то, что это логично вписывающееся поведение. Поэтому, учитывая небольшое количество дублей, мы их удалим. Иначе нам предстоит проверять гипотезы на таблицах и с дублями и без."
   ]
  },
  {
   "cell_type": "code",
   "execution_count": 48,
   "metadata": {},
   "outputs": [],
   "source": [
    "# Удаление дубликатов\n",
    "transactions_test.drop_duplicates(inplace=True)\n",
    "transactions_control_1.drop_duplicates(inplace=True)\n",
    "transactions_control_2.drop_duplicates(inplace=True)"
   ]
  },
  {
   "cell_type": "markdown",
   "metadata": {},
   "source": [
    "##### Посмотрим стоимость подписки"
   ]
  },
  {
   "cell_type": "code",
   "execution_count": 49,
   "metadata": {},
   "outputs": [],
   "source": [
    "# Функция выводит для 3 групп ценник подписки или медианную цену в зависимости от страны\n",
    "def change_cost(df, func='unique'):\n",
    "    if func == \"median\": \n",
    "        result = df.query('product_type == \"premium_no_trial\"') \\\n",
    "            .groupby('country') \\\n",
    "            .agg(name=('revenue', 'median'))\n",
    "        \n",
    "    else:\n",
    "        result = df.query('product_type == \"premium_no_trial\"') \\\n",
    "            .groupby('country') \\\n",
    "            .agg(name=('revenue', 'unique'))\n",
    "    \n",
    "    return result"
   ]
  },
  {
   "cell_type": "code",
   "execution_count": 50,
   "metadata": {},
   "outputs": [
    {
     "data": {
      "text/html": [
       "<div>\n",
       "<style scoped>\n",
       "    .dataframe tbody tr th:only-of-type {\n",
       "        vertical-align: middle;\n",
       "    }\n",
       "\n",
       "    .dataframe tbody tr th {\n",
       "        vertical-align: top;\n",
       "    }\n",
       "\n",
       "    .dataframe thead th {\n",
       "        text-align: right;\n",
       "    }\n",
       "</style>\n",
       "<table border=\"1\" class=\"dataframe\">\n",
       "  <thead>\n",
       "    <tr style=\"text-align: right;\">\n",
       "      <th></th>\n",
       "      <th>test</th>\n",
       "      <th>control_1</th>\n",
       "      <th>control_2</th>\n",
       "    </tr>\n",
       "    <tr>\n",
       "      <th>country</th>\n",
       "      <th></th>\n",
       "      <th></th>\n",
       "      <th></th>\n",
       "    </tr>\n",
       "  </thead>\n",
       "  <tbody>\n",
       "    <tr>\n",
       "      <th>Argentina</th>\n",
       "      <td>[5330, 12597, 6292]</td>\n",
       "      <td>[5278.0, 6292.0]</td>\n",
       "      <td>[6292, 5278, 5265, 10413]</td>\n",
       "    </tr>\n",
       "    <tr>\n",
       "      <th>Australia</th>\n",
       "      <td>[12597]</td>\n",
       "      <td>[3588.0]</td>\n",
       "      <td>[4719]</td>\n",
       "    </tr>\n",
       "    <tr>\n",
       "      <th>Belgium</th>\n",
       "      <td>[12597]</td>\n",
       "      <td>[3042.0]</td>\n",
       "      <td>[10608, 6292, 6461, 3042]</td>\n",
       "    </tr>\n",
       "  </tbody>\n",
       "</table>\n",
       "</div>"
      ],
      "text/plain": [
       "                          test         control_1                  control_2\n",
       "country                                                                    \n",
       "Argentina  [5330, 12597, 6292]  [5278.0, 6292.0]  [6292, 5278, 5265, 10413]\n",
       "Australia              [12597]          [3588.0]                     [4719]\n",
       "Belgium                [12597]          [3042.0]  [10608, 6292, 6461, 3042]"
      ]
     },
     "execution_count": 50,
     "metadata": {},
     "output_type": "execute_result"
    }
   ],
   "source": [
    "prices = change_cost(transactions_test).rename(columns={'name': 'test'})\n",
    "prices['control_1'] = change_cost(transactions_control_1)\n",
    "prices['control_2'] = change_cost(transactions_control_2)\n",
    "\n",
    "prices.head(3)"
   ]
  },
  {
   "cell_type": "markdown",
   "metadata": {},
   "source": [
    "В рамках одной страны есть несколько стоимостей подписки. Это значит, что четких различий мы не увидим. Более того, нам нужно принять два решения:\n",
    "\n",
    "1) В задании сказано, что стоимость подписки изменилась, при этом не сказано в большую или меньшую сторону. А значит в некоторых странах цена могла уменьшиться, в а в других вырасти. По всей видимости, нам придется взять за основу лишь однонаправленные изменения цены.\n",
    "\n",
    "2) Все цены будут либо возросшими, либо уменьшенными.\n",
    "\n",
    "Кроме этого, стоит оценить есть ли в распределении стоимости подписки выбросы, чтобы понять какую меру центральной тенденции использовать для сравнения"
   ]
  },
  {
   "cell_type": "code",
   "execution_count": 51,
   "metadata": {},
   "outputs": [
    {
     "data": {
      "text/html": [
       "<div>\n",
       "<style scoped>\n",
       "    .dataframe tbody tr th:only-of-type {\n",
       "        vertical-align: middle;\n",
       "    }\n",
       "\n",
       "    .dataframe tbody tr th {\n",
       "        vertical-align: top;\n",
       "    }\n",
       "\n",
       "    .dataframe thead th {\n",
       "        text-align: right;\n",
       "    }\n",
       "</style>\n",
       "<table border=\"1\" class=\"dataframe\">\n",
       "  <thead>\n",
       "    <tr style=\"text-align: right;\">\n",
       "      <th></th>\n",
       "      <th>count</th>\n",
       "      <th>mean</th>\n",
       "      <th>std</th>\n",
       "      <th>min</th>\n",
       "      <th>25%</th>\n",
       "      <th>50%</th>\n",
       "      <th>75%</th>\n",
       "      <th>max</th>\n",
       "    </tr>\n",
       "    <tr>\n",
       "      <th>country</th>\n",
       "      <th></th>\n",
       "      <th></th>\n",
       "      <th></th>\n",
       "      <th></th>\n",
       "      <th></th>\n",
       "      <th></th>\n",
       "      <th></th>\n",
       "      <th></th>\n",
       "    </tr>\n",
       "  </thead>\n",
       "  <tbody>\n",
       "    <tr>\n",
       "      <th>Spain</th>\n",
       "      <td>6.0</td>\n",
       "      <td>24918.833333</td>\n",
       "      <td>43470.135033</td>\n",
       "      <td>5369.0</td>\n",
       "      <td>5629.0</td>\n",
       "      <td>6331.0</td>\n",
       "      <td>11040.25</td>\n",
       "      <td>113477.0</td>\n",
       "    </tr>\n",
       "    <tr>\n",
       "      <th>United Arab Emirates</th>\n",
       "      <td>7.0</td>\n",
       "      <td>23422.285714</td>\n",
       "      <td>39741.671692</td>\n",
       "      <td>4914.0</td>\n",
       "      <td>8957.0</td>\n",
       "      <td>9217.0</td>\n",
       "      <td>9217.00</td>\n",
       "      <td>113477.0</td>\n",
       "    </tr>\n",
       "    <tr>\n",
       "      <th>Australia</th>\n",
       "      <td>1.0</td>\n",
       "      <td>12597.000000</td>\n",
       "      <td>NaN</td>\n",
       "      <td>12597.0</td>\n",
       "      <td>12597.0</td>\n",
       "      <td>12597.0</td>\n",
       "      <td>12597.00</td>\n",
       "      <td>12597.0</td>\n",
       "    </tr>\n",
       "    <tr>\n",
       "      <th>Belgium</th>\n",
       "      <td>1.0</td>\n",
       "      <td>12597.000000</td>\n",
       "      <td>NaN</td>\n",
       "      <td>12597.0</td>\n",
       "      <td>12597.0</td>\n",
       "      <td>12597.0</td>\n",
       "      <td>12597.00</td>\n",
       "      <td>12597.0</td>\n",
       "    </tr>\n",
       "    <tr>\n",
       "      <th>Israel</th>\n",
       "      <td>2.0</td>\n",
       "      <td>12597.000000</td>\n",
       "      <td>0.000000</td>\n",
       "      <td>12597.0</td>\n",
       "      <td>12597.0</td>\n",
       "      <td>12597.0</td>\n",
       "      <td>12597.00</td>\n",
       "      <td>12597.0</td>\n",
       "    </tr>\n",
       "  </tbody>\n",
       "</table>\n",
       "</div>"
      ],
      "text/plain": [
       "                      count          mean           std      min      25%  \\\n",
       "country                                                                     \n",
       "Spain                   6.0  24918.833333  43470.135033   5369.0   5629.0   \n",
       "United Arab Emirates    7.0  23422.285714  39741.671692   4914.0   8957.0   \n",
       "Australia               1.0  12597.000000           NaN  12597.0  12597.0   \n",
       "Belgium                 1.0  12597.000000           NaN  12597.0  12597.0   \n",
       "Israel                  2.0  12597.000000      0.000000  12597.0  12597.0   \n",
       "\n",
       "                          50%       75%       max  \n",
       "country                                            \n",
       "Spain                  6331.0  11040.25  113477.0  \n",
       "United Arab Emirates   9217.0   9217.00  113477.0  \n",
       "Australia             12597.0  12597.00   12597.0  \n",
       "Belgium               12597.0  12597.00   12597.0  \n",
       "Israel                12597.0  12597.00   12597.0  "
      ]
     },
     "execution_count": 51,
     "metadata": {},
     "output_type": "execute_result"
    }
   ],
   "source": [
    "# Распределение стран по выручке\n",
    "transactions_test.query('product_type == \"premium_no_trial\"').groupby('country') \\\n",
    "    .revenue.describe() \\\n",
    "    .sort_values('mean', ascending=False).head()"
   ]
  },
  {
   "cell_type": "markdown",
   "metadata": {},
   "source": [
    "Обратим внимание на первые две строчки, колонку max. Явно выражены выбросы. Значит для сравнения стоимости будем использовать медиану.\n",
    "\n",
    "Проверим оба варианта: и уменьшение и увеличение"
   ]
  },
  {
   "cell_type": "code",
   "execution_count": 52,
   "metadata": {},
   "outputs": [
    {
     "data": {
      "text/plain": [
       "10"
      ]
     },
     "execution_count": 52,
     "metadata": {},
     "output_type": "execute_result"
    }
   ],
   "source": [
    "prices = change_cost(transactions_test, 'median').rename(columns={'name': 'test'})\n",
    "prices['control_1'] = change_cost(transactions_control_1, 'median')\n",
    "prices['control_2'] = change_cost(transactions_control_2, 'median')\n",
    "\n",
    "prices.query('test > control_1 and test > control_2').shape[0]"
   ]
  },
  {
   "cell_type": "code",
   "execution_count": 53,
   "metadata": {},
   "outputs": [
    {
     "data": {
      "text/plain": [
       "0"
      ]
     },
     "execution_count": 53,
     "metadata": {},
     "output_type": "execute_result"
    }
   ],
   "source": [
    "prices.query('test < control_1 and test < control_2').shape[0]"
   ]
  },
  {
   "cell_type": "markdown",
   "metadata": {},
   "source": [
    "В варианте, где уменьшили цену, нет ни одной страны. Соответственно, будем считать, что цены были увеличены"
   ]
  },
  {
   "cell_type": "code",
   "execution_count": 54,
   "metadata": {},
   "outputs": [],
   "source": [
    "# Список стран, в которых изменилась цена подписки\n",
    "countries_final_list = prices.query('test > control_1 and test > control_2').index.to_list()"
   ]
  },
  {
   "cell_type": "markdown",
   "metadata": {},
   "source": [
    "##### После предобработки в transactions\n",
    "\n",
    "1) Убрали пропуски\n",
    "\n",
    "2) Убрали записи, которые выходя за даты эксперимента\n",
    "\n",
    "3) Убрали дубли\n",
    "\n",
    "4) Не нашли 2 новые платежные системы\n",
    "\n",
    "5) Нашли в чем заключается ошибка записи дат\n",
    "\n",
    "6) Отобрали страны, в которых проходил эксперимент"
   ]
  },
  {
   "cell_type": "markdown",
   "metadata": {},
   "source": [
    "### Объединение users и transactions в один df"
   ]
  },
  {
   "cell_type": "code",
   "execution_count": 55,
   "metadata": {},
   "outputs": [],
   "source": [
    "# Объединение df\n",
    "def merge_df(df_u, df_tr):\n",
    "    new_df = df_u.merge(df_tr, how='left', on=['uid', 'country'])\n",
    "    return new_df"
   ]
  },
  {
   "cell_type": "code",
   "execution_count": 56,
   "metadata": {},
   "outputs": [],
   "source": [
    "test_group = merge_df(users_test, transactions_test)\n",
    "control_1_group = merge_df(users_control_1, transactions_control_1)\n",
    "control_2_group = merge_df(users_control_2, transactions_control_2)"
   ]
  },
  {
   "cell_type": "markdown",
   "metadata": {},
   "source": [
    "##### Проверим несовпадение сумм\n",
    "\n",
    "Именно после объединения у нас появилась простая возможность увидеть записи, где есть несовпадание выручек.\n",
    "\n",
    "Выручка несовпадала в тестовой и первой контрольной группах"
   ]
  },
  {
   "cell_type": "code",
   "execution_count": 57,
   "metadata": {},
   "outputs": [
    {
     "data": {
      "text/html": [
       "<div>\n",
       "<style scoped>\n",
       "    .dataframe tbody tr th:only-of-type {\n",
       "        vertical-align: middle;\n",
       "    }\n",
       "\n",
       "    .dataframe tbody tr th {\n",
       "        vertical-align: top;\n",
       "    }\n",
       "\n",
       "    .dataframe thead th {\n",
       "        text-align: right;\n",
       "    }\n",
       "</style>\n",
       "<table border=\"1\" class=\"dataframe\">\n",
       "  <thead>\n",
       "    <tr style=\"text-align: right;\">\n",
       "      <th></th>\n",
       "      <th>uid</th>\n",
       "      <th>total_revenue</th>\n",
       "      <th>sum_rev</th>\n",
       "    </tr>\n",
       "  </thead>\n",
       "  <tbody>\n",
       "    <tr>\n",
       "      <th>3629</th>\n",
       "      <td>892275462</td>\n",
       "      <td>[14885]</td>\n",
       "      <td>58968.0</td>\n",
       "    </tr>\n",
       "  </tbody>\n",
       "</table>\n",
       "</div>"
      ],
      "text/plain": [
       "            uid total_revenue  sum_rev\n",
       "3629  892275462       [14885]  58968.0"
      ]
     },
     "execution_count": 57,
     "metadata": {},
     "output_type": "execute_result"
    }
   ],
   "source": [
    "# Несовпадние в test_group\n",
    "revenue_difference = test_group.groupby('uid', as_index=False) \\\n",
    "    .agg(total_revenue=('total_revenue', 'unique'), sum_rev=('revenue', 'sum')) \\\n",
    "    .query('total_revenue < sum_rev')\n",
    "revenue_difference.head()"
   ]
  },
  {
   "cell_type": "markdown",
   "metadata": {},
   "source": [
    "Получили одного пользователя, у которого в users, судя по всему, неправильно записана выручка"
   ]
  },
  {
   "cell_type": "code",
   "execution_count": 58,
   "metadata": {},
   "outputs": [
    {
     "data": {
      "text/html": [
       "<div>\n",
       "<style scoped>\n",
       "    .dataframe tbody tr th:only-of-type {\n",
       "        vertical-align: middle;\n",
       "    }\n",
       "\n",
       "    .dataframe tbody tr th {\n",
       "        vertical-align: top;\n",
       "    }\n",
       "\n",
       "    .dataframe thead th {\n",
       "        text-align: right;\n",
       "    }\n",
       "</style>\n",
       "<table border=\"1\" class=\"dataframe\">\n",
       "  <thead>\n",
       "    <tr style=\"text-align: right;\">\n",
       "      <th></th>\n",
       "      <th>uid</th>\n",
       "      <th>was_premium</th>\n",
       "      <th>is_premium</th>\n",
       "      <th>total_revenue</th>\n",
       "      <th>revenue</th>\n",
       "      <th>product_type</th>\n",
       "    </tr>\n",
       "  </thead>\n",
       "  <tbody>\n",
       "    <tr>\n",
       "      <th>2066</th>\n",
       "      <td>892275462</td>\n",
       "      <td>1.0</td>\n",
       "      <td>1.0</td>\n",
       "      <td>14885</td>\n",
       "      <td>44083.0</td>\n",
       "      <td>other_type</td>\n",
       "    </tr>\n",
       "    <tr>\n",
       "      <th>2067</th>\n",
       "      <td>892275462</td>\n",
       "      <td>1.0</td>\n",
       "      <td>1.0</td>\n",
       "      <td>14885</td>\n",
       "      <td>14885.0</td>\n",
       "      <td>other_type</td>\n",
       "    </tr>\n",
       "  </tbody>\n",
       "</table>\n",
       "</div>"
      ],
      "text/plain": [
       "            uid  was_premium  is_premium  total_revenue  revenue product_type\n",
       "2066  892275462          1.0         1.0          14885  44083.0   other_type\n",
       "2067  892275462          1.0         1.0          14885  14885.0   other_type"
      ]
     },
     "execution_count": 58,
     "metadata": {},
     "output_type": "execute_result"
    }
   ],
   "source": [
    "# выведем записи пользователя\n",
    "diff_uids = revenue_difference.uid.to_list()\n",
    "test_group.query('uid in @diff_uids')[['uid', 'was_premium', 'is_premium', \n",
    "                                       'total_revenue', 'revenue', 'product_type']]"
   ]
  },
  {
   "cell_type": "markdown",
   "metadata": {},
   "source": [
    "Обратим внимание на колонку revenue, первую строку. Найдено отличие(**44083.0**). Добавим его к общей выручке users и выясним как она будет соотноситься с выручкой в transactions \n",
    "\n",
    "Для напоминания выведем таблицу, по которой мы сравнивали выручки. Напомню, что на данном этапе дубли удалены, но наша задача лишь выяснить как соотносятся выручки с учетом ошибочных записей, поэтому старая таблица подойдет."
   ]
  },
  {
   "cell_type": "code",
   "execution_count": 59,
   "metadata": {},
   "outputs": [
    {
     "data": {
      "text/html": [
       "<div>\n",
       "<style scoped>\n",
       "    .dataframe tbody tr th:only-of-type {\n",
       "        vertical-align: middle;\n",
       "    }\n",
       "\n",
       "    .dataframe tbody tr th {\n",
       "        vertical-align: top;\n",
       "    }\n",
       "\n",
       "    .dataframe thead th {\n",
       "        text-align: right;\n",
       "    }\n",
       "</style>\n",
       "<table border=\"1\" class=\"dataframe\">\n",
       "  <thead>\n",
       "    <tr style=\"text-align: right;\">\n",
       "      <th></th>\n",
       "      <th>test</th>\n",
       "      <th>control_1</th>\n",
       "      <th>control_2</th>\n",
       "      <th>explanation</th>\n",
       "    </tr>\n",
       "  </thead>\n",
       "  <tbody>\n",
       "    <tr>\n",
       "      <th>Users_sum_revenue</th>\n",
       "      <td>2284503</td>\n",
       "      <td>2552186.0</td>\n",
       "      <td>1832818</td>\n",
       "      <td>Общая выручка в файлах users</td>\n",
       "    </tr>\n",
       "    <tr>\n",
       "      <th>Transactions_rev_without_dupl</th>\n",
       "      <td>2316847</td>\n",
       "      <td>2464943.0</td>\n",
       "      <td>1820377</td>\n",
       "      <td>Выручка в trans-s без дубликатов</td>\n",
       "    </tr>\n",
       "    <tr>\n",
       "      <th>Transactions_sum_revenue</th>\n",
       "      <td>2328586</td>\n",
       "      <td>2582450.0</td>\n",
       "      <td>1832818</td>\n",
       "      <td>Общая выручка в файлах trans-s</td>\n",
       "    </tr>\n",
       "  </tbody>\n",
       "</table>\n",
       "</div>"
      ],
      "text/plain": [
       "                                  test  control_1  control_2  \\\n",
       "Users_sum_revenue              2284503  2552186.0    1832818   \n",
       "Transactions_rev_without_dupl  2316847  2464943.0    1820377   \n",
       "Transactions_sum_revenue       2328586  2582450.0    1832818   \n",
       "\n",
       "                                                    explanation  \n",
       "Users_sum_revenue                  Общая выручка в файлах users  \n",
       "Transactions_rev_without_dupl  Выручка в trans-s без дубликатов  \n",
       "Transactions_sum_revenue         Общая выручка в файлах trans-s  "
      ]
     },
     "execution_count": 59,
     "metadata": {},
     "output_type": "execute_result"
    }
   ],
   "source": [
    "after_processing_table.iloc[0:3]"
   ]
  },
  {
   "cell_type": "code",
   "execution_count": 60,
   "metadata": {},
   "outputs": [
    {
     "data": {
      "text/plain": [
       "44083"
      ]
     },
     "execution_count": 60,
     "metadata": {},
     "output_type": "execute_result"
    }
   ],
   "source": [
    "# Возьмем колонку тест. В записях была ошибка 44083.0 \n",
    "2328586 - 2284503"
   ]
  },
  {
   "cell_type": "code",
   "execution_count": 61,
   "metadata": {},
   "outputs": [
    {
     "data": {
      "text/plain": [
       "True"
      ]
     },
     "execution_count": 61,
     "metadata": {},
     "output_type": "execute_result"
    }
   ],
   "source": [
    "# \n",
    "after_processing_table.T.Users_sum_revenue[0] + 44083.0 == after_processing_table.T.Transactions_sum_revenue[0]"
   ]
  },
  {
   "cell_type": "markdown",
   "metadata": {},
   "source": [
    "Сделаем то же для группы control_1"
   ]
  },
  {
   "cell_type": "code",
   "execution_count": 62,
   "metadata": {},
   "outputs": [
    {
     "data": {
      "text/html": [
       "<div>\n",
       "<style scoped>\n",
       "    .dataframe tbody tr th:only-of-type {\n",
       "        vertical-align: middle;\n",
       "    }\n",
       "\n",
       "    .dataframe tbody tr th {\n",
       "        vertical-align: top;\n",
       "    }\n",
       "\n",
       "    .dataframe thead th {\n",
       "        text-align: right;\n",
       "    }\n",
       "</style>\n",
       "<table border=\"1\" class=\"dataframe\">\n",
       "  <thead>\n",
       "    <tr style=\"text-align: right;\">\n",
       "      <th></th>\n",
       "      <th>uid</th>\n",
       "      <th>was_premium</th>\n",
       "      <th>is_premium</th>\n",
       "      <th>total_revenue</th>\n",
       "      <th>revenue</th>\n",
       "      <th>product_type</th>\n",
       "    </tr>\n",
       "  </thead>\n",
       "  <tbody>\n",
       "    <tr>\n",
       "      <th>3391</th>\n",
       "      <td>892355163</td>\n",
       "      <td>1.0</td>\n",
       "      <td>0.0</td>\n",
       "      <td>0</td>\n",
       "      <td>30264.0</td>\n",
       "      <td>other_type</td>\n",
       "    </tr>\n",
       "  </tbody>\n",
       "</table>\n",
       "</div>"
      ],
      "text/plain": [
       "            uid  was_premium  is_premium  total_revenue  revenue product_type\n",
       "3391  892355163          1.0         0.0              0  30264.0   other_type"
      ]
     },
     "execution_count": 62,
     "metadata": {},
     "output_type": "execute_result"
    }
   ],
   "source": [
    "revenue_difference_1 = control_1_group.groupby('uid', as_index=False) \\\n",
    "    .agg(total_revenue=('total_revenue', 'unique'), sum_rev=('revenue', 'sum')) \\\n",
    "    .query('total_revenue < sum_rev')\n",
    "\n",
    "diff_uids = revenue_difference_1.uid.to_list()\n",
    "control_1_group.query('uid in @diff_uids')[['uid', 'was_premium', 'is_premium', \n",
    "                                            'total_revenue', 'revenue', 'product_type']]"
   ]
  },
  {
   "cell_type": "code",
   "execution_count": 63,
   "metadata": {},
   "outputs": [
    {
     "data": {
      "text/plain": [
       "True"
      ]
     },
     "execution_count": 63,
     "metadata": {},
     "output_type": "execute_result"
    }
   ],
   "source": [
    "after_processing_table.T.Users_sum_revenue[1] + 30264.0 == after_processing_table.T.Transactions_sum_revenue[1]"
   ]
  },
  {
   "cell_type": "markdown",
   "metadata": {},
   "source": [
    "В каждой из групп(test, control_1) было найдено по 1 пользователю, для которого было неправильно записано значение общей выручки.\n",
    "\n",
    "Оставим в объединенных df колонку revenue, а total_revenue можно удалить."
   ]
  },
  {
   "cell_type": "code",
   "execution_count": 64,
   "metadata": {},
   "outputs": [],
   "source": [
    "\"\"\"\n",
    "1) Удаление ненужных колонок\n",
    "2) Заполнение пропусков в revenue(образовались при объединении таблиц)\n",
    "3) Оставили только страны, в которых изменена стоимость премиум-подписки\n",
    "\"\"\"\n",
    "def processing_2(df, country_list):\n",
    "    \n",
    "    df = df.drop(columns=['age_filter_start', 'age_filter_end', 'joined_at',\n",
    "                          'paid_at', 'total_revenue', 'payment_id', 'from_page'])\n",
    "    df.revenue.fillna(0, inplace=True)\n",
    "    df = df.query('country in @country_list')\n",
    "    \n",
    "    return df"
   ]
  },
  {
   "cell_type": "code",
   "execution_count": 65,
   "metadata": {},
   "outputs": [],
   "source": [
    "test_group = processing_2(test_group, countries_final_list)\n",
    "control_1_group = processing_2(control_1_group, countries_final_list)\n",
    "control_2_group = processing_2(control_2_group, countries_final_list)"
   ]
  },
  {
   "cell_type": "markdown",
   "metadata": {},
   "source": [
    "#### Проверка независимости групп"
   ]
  },
  {
   "cell_type": "markdown",
   "metadata": {},
   "source": [
    "Одним из обязательных условий в стат. тестах является требование независимости выборок. Проверим, что 3 группы содержат уникальных относительно друг друга пользователей"
   ]
  },
  {
   "cell_type": "code",
   "execution_count": 66,
   "metadata": {},
   "outputs": [
    {
     "data": {
      "text/plain": [
       "set()"
      ]
     },
     "execution_count": 66,
     "metadata": {},
     "output_type": "execute_result"
    }
   ],
   "source": [
    "a = set(test_group.uid)\n",
    "b = set(control_1_group.uid)\n",
    "c = set(control_2_group.uid)\n",
    "a & b & c"
   ]
  },
  {
   "cell_type": "markdown",
   "metadata": {},
   "source": [
    "#### Вывод по разделу\n",
    "1) Есть 3 объединенных датафрейма для каждой экспериментальной группы\n",
    "\n",
    "2) Выяснена и учтена причина несовпадения выручек\n",
    "\n",
    "3) Все три группы являются независимыми"
   ]
  },
  {
   "cell_type": "markdown",
   "metadata": {},
   "source": [
    "## Сравнение групп "
   ]
  },
  {
   "cell_type": "markdown",
   "metadata": {},
   "source": [
    "Итак, мы имеем 3 группы. Но прежде чем приступить к тестам стоит проверить, что группы идентичны по тем показателям, которые не являются целевыми."
   ]
  },
  {
   "cell_type": "markdown",
   "metadata": {},
   "source": [
    "Проверку будем производить не на глаз, а спомощью статистики. Будем рассматривать 2 гипотезы:\n",
    "\n",
    "Н<sub>0</sub>: распределение пользователей по характеристике/метрике не отличается в группах.\n",
    "\n",
    "Н<sub>1</sub>: распределение пользователей отличается.\n",
    "\n",
    "$𝛼 = 0.05$\n",
    "\n",
    "В данном случае, мы хотели бы видеть, что распределения не отличаются по сравнивыемым характеристикам. Это бы показало, что группы распределены \"равномерно\""
   ]
  },
  {
   "cell_type": "code",
   "execution_count": 67,
   "metadata": {},
   "outputs": [
    {
     "data": {
      "text/plain": [
       "10691"
      ]
     },
     "execution_count": 67,
     "metadata": {},
     "output_type": "execute_result"
    }
   ],
   "source": [
    "# Для удобства объединим все 3 df в один.\n",
    "merged_df = pd.concat([test_group, control_1_group, control_2_group], ignore_index=True)\n",
    "merged_df.shape[0]"
   ]
  },
  {
   "cell_type": "markdown",
   "metadata": {},
   "source": [
    "##### Возраст\n",
    "\n",
    "Первая характеристика возраст. Можно считать ее непрерывно распределенной. Здесь можно сравнить средние значения, но групп 3, поэтому воспользуемся дисперсионным анализом. Ранее показана независимость групп и это условие будет соблюдено для всех будущих тестов. \n",
    "\n",
    "В случае же дисперсионного анализа важны: нормальность распределения выборок и небольшая разница дисперсий внутри них(гомогенность дисперсий). Сейчас выборки имеют размеры более 3 тычяч пользователей каждая, это позволяет утверждать, что они рапределены нормально, согласно ЦПТ.\n",
    "\n",
    "А гомогенность дисперсий нам предстоит проверить"
   ]
  },
  {
   "cell_type": "code",
   "execution_count": 68,
   "metadata": {},
   "outputs": [
    {
     "data": {
      "text/html": [
       "<div>\n",
       "<style scoped>\n",
       "    .dataframe tbody tr th:only-of-type {\n",
       "        vertical-align: middle;\n",
       "    }\n",
       "\n",
       "    .dataframe tbody tr th {\n",
       "        vertical-align: top;\n",
       "    }\n",
       "\n",
       "    .dataframe thead th {\n",
       "        text-align: right;\n",
       "    }\n",
       "</style>\n",
       "<table border=\"1\" class=\"dataframe\">\n",
       "  <thead>\n",
       "    <tr style=\"text-align: right;\">\n",
       "      <th></th>\n",
       "      <th>uid</th>\n",
       "      <th>group</th>\n",
       "      <th>age</th>\n",
       "    </tr>\n",
       "  </thead>\n",
       "  <tbody>\n",
       "    <tr>\n",
       "      <th>0</th>\n",
       "      <td>891050916</td>\n",
       "      <td>control_2</td>\n",
       "      <td>34</td>\n",
       "    </tr>\n",
       "    <tr>\n",
       "      <th>1</th>\n",
       "      <td>891050997</td>\n",
       "      <td>control_1</td>\n",
       "      <td>38</td>\n",
       "    </tr>\n",
       "    <tr>\n",
       "      <th>2</th>\n",
       "      <td>891051075</td>\n",
       "      <td>control_2</td>\n",
       "      <td>39</td>\n",
       "    </tr>\n",
       "    <tr>\n",
       "      <th>3</th>\n",
       "      <td>891051147</td>\n",
       "      <td>test</td>\n",
       "      <td>21</td>\n",
       "    </tr>\n",
       "    <tr>\n",
       "      <th>4</th>\n",
       "      <td>891051960</td>\n",
       "      <td>control_2</td>\n",
       "      <td>27</td>\n",
       "    </tr>\n",
       "  </tbody>\n",
       "</table>\n",
       "</div>"
      ],
      "text/plain": [
       "         uid      group  age\n",
       "0  891050916  control_2   34\n",
       "1  891050997  control_1   38\n",
       "2  891051075  control_2   39\n",
       "3  891051147       test   21\n",
       "4  891051960  control_2   27"
      ]
     },
     "execution_count": 68,
     "metadata": {},
     "output_type": "execute_result"
    }
   ],
   "source": [
    "# Отбираем df для проверки \n",
    "merged_age = merged_df.groupby(['uid', 'group'], as_index=False) \\\n",
    "    .agg(age=('age', 'first'))\n",
    "\n",
    "merged_age.head()"
   ]
  },
  {
   "cell_type": "code",
   "execution_count": 69,
   "metadata": {},
   "outputs": [
    {
     "data": {
      "text/html": [
       "<div>\n",
       "<style scoped>\n",
       "    .dataframe tbody tr th:only-of-type {\n",
       "        vertical-align: middle;\n",
       "    }\n",
       "\n",
       "    .dataframe tbody tr th {\n",
       "        vertical-align: top;\n",
       "    }\n",
       "\n",
       "    .dataframe thead th {\n",
       "        text-align: right;\n",
       "    }\n",
       "</style>\n",
       "<table border=\"1\" class=\"dataframe\">\n",
       "  <thead>\n",
       "    <tr style=\"text-align: right;\">\n",
       "      <th></th>\n",
       "      <th>W</th>\n",
       "      <th>pval</th>\n",
       "      <th>equal_var</th>\n",
       "    </tr>\n",
       "  </thead>\n",
       "  <tbody>\n",
       "    <tr>\n",
       "      <th>levene</th>\n",
       "      <td>0.402615</td>\n",
       "      <td>0.66858</td>\n",
       "      <td>True</td>\n",
       "    </tr>\n",
       "  </tbody>\n",
       "</table>\n",
       "</div>"
      ],
      "text/plain": [
       "               W     pval  equal_var\n",
       "levene  0.402615  0.66858       True"
      ]
     },
     "execution_count": 69,
     "metadata": {},
     "output_type": "execute_result"
    }
   ],
   "source": [
    "# Проверка на равенство дисперсий\n",
    "pg.homoscedasticity(data=merged_age, dv='age', group='group')"
   ]
  },
  {
   "cell_type": "markdown",
   "metadata": {},
   "source": [
    "p-value больше порогового значения 𝛼 и это не позволяет нам отвергнуть нулевую гипотезу о равенстве дисперсий. Кроме того сам вывод функции(последняя колонка) говорит нам о равенстве дисперсий 3 групп"
   ]
  },
  {
   "cell_type": "code",
   "execution_count": 70,
   "metadata": {},
   "outputs": [
    {
     "data": {
      "text/html": [
       "<div>\n",
       "<style scoped>\n",
       "    .dataframe tbody tr th:only-of-type {\n",
       "        vertical-align: middle;\n",
       "    }\n",
       "\n",
       "    .dataframe tbody tr th {\n",
       "        vertical-align: top;\n",
       "    }\n",
       "\n",
       "    .dataframe thead th {\n",
       "        text-align: right;\n",
       "    }\n",
       "</style>\n",
       "<table border=\"1\" class=\"dataframe\">\n",
       "  <thead>\n",
       "    <tr style=\"text-align: right;\">\n",
       "      <th></th>\n",
       "      <th>Source</th>\n",
       "      <th>ddof1</th>\n",
       "      <th>ddof2</th>\n",
       "      <th>F</th>\n",
       "      <th>p-unc</th>\n",
       "      <th>np2</th>\n",
       "    </tr>\n",
       "  </thead>\n",
       "  <tbody>\n",
       "    <tr>\n",
       "      <th>0</th>\n",
       "      <td>group</td>\n",
       "      <td>2</td>\n",
       "      <td>10341</td>\n",
       "      <td>0.877626</td>\n",
       "      <td>0.4158</td>\n",
       "      <td>0.00017</td>\n",
       "    </tr>\n",
       "  </tbody>\n",
       "</table>\n",
       "</div>"
      ],
      "text/plain": [
       "  Source  ddof1  ddof2         F   p-unc      np2\n",
       "0  group      2  10341  0.877626  0.4158  0.00017"
      ]
     },
     "execution_count": 70,
     "metadata": {},
     "output_type": "execute_result"
    }
   ],
   "source": [
    "# Дисперсионный анализ\n",
    "pg.anova(data=merged_age, dv='age', between='group')"
   ]
  },
  {
   "cell_type": "markdown",
   "metadata": {},
   "source": [
    "p-value вновь выше порогового значения. Это означает для нас, что группы не отличаются по возрасту."
   ]
  },
  {
   "cell_type": "markdown",
   "metadata": {},
   "source": [
    "##### Коэффициент привлекательности\n",
    "\n",
    "Данную характеристику тоже можно считать непрерывно распределенной. Поэтому проверки далее будут схожи предыдущему пункту"
   ]
  },
  {
   "cell_type": "code",
   "execution_count": 71,
   "metadata": {},
   "outputs": [
    {
     "data": {
      "text/html": [
       "<div>\n",
       "<style scoped>\n",
       "    .dataframe tbody tr th:only-of-type {\n",
       "        vertical-align: middle;\n",
       "    }\n",
       "\n",
       "    .dataframe tbody tr th {\n",
       "        vertical-align: top;\n",
       "    }\n",
       "\n",
       "    .dataframe thead th {\n",
       "        text-align: right;\n",
       "    }\n",
       "</style>\n",
       "<table border=\"1\" class=\"dataframe\">\n",
       "  <thead>\n",
       "    <tr style=\"text-align: right;\">\n",
       "      <th></th>\n",
       "      <th>W</th>\n",
       "      <th>pval</th>\n",
       "      <th>equal_var</th>\n",
       "    </tr>\n",
       "  </thead>\n",
       "  <tbody>\n",
       "    <tr>\n",
       "      <th>levene</th>\n",
       "      <td>1.443397</td>\n",
       "      <td>0.236172</td>\n",
       "      <td>True</td>\n",
       "    </tr>\n",
       "  </tbody>\n",
       "</table>\n",
       "</div>"
      ],
      "text/plain": [
       "               W      pval  equal_var\n",
       "levene  1.443397  0.236172       True"
      ]
     },
     "execution_count": 71,
     "metadata": {},
     "output_type": "execute_result"
    }
   ],
   "source": [
    "merged_attr_coeff = merged_df.groupby(['uid', 'group'], as_index=False) \\\n",
    "    .agg(attraction_coeff=('attraction_coeff', 'first'))\n",
    "\n",
    "pg.homoscedasticity(data=merged_attr_coeff, dv='attraction_coeff', group='group')"
   ]
  },
  {
   "cell_type": "code",
   "execution_count": 72,
   "metadata": {},
   "outputs": [
    {
     "data": {
      "text/html": [
       "<div>\n",
       "<style scoped>\n",
       "    .dataframe tbody tr th:only-of-type {\n",
       "        vertical-align: middle;\n",
       "    }\n",
       "\n",
       "    .dataframe tbody tr th {\n",
       "        vertical-align: top;\n",
       "    }\n",
       "\n",
       "    .dataframe thead th {\n",
       "        text-align: right;\n",
       "    }\n",
       "</style>\n",
       "<table border=\"1\" class=\"dataframe\">\n",
       "  <thead>\n",
       "    <tr style=\"text-align: right;\">\n",
       "      <th></th>\n",
       "      <th>Source</th>\n",
       "      <th>ddof1</th>\n",
       "      <th>ddof2</th>\n",
       "      <th>F</th>\n",
       "      <th>p-unc</th>\n",
       "      <th>np2</th>\n",
       "    </tr>\n",
       "  </thead>\n",
       "  <tbody>\n",
       "    <tr>\n",
       "      <th>0</th>\n",
       "      <td>group</td>\n",
       "      <td>2</td>\n",
       "      <td>10341</td>\n",
       "      <td>1.280151</td>\n",
       "      <td>0.278039</td>\n",
       "      <td>0.000248</td>\n",
       "    </tr>\n",
       "  </tbody>\n",
       "</table>\n",
       "</div>"
      ],
      "text/plain": [
       "  Source  ddof1  ddof2         F     p-unc       np2\n",
       "0  group      2  10341  1.280151  0.278039  0.000248"
      ]
     },
     "execution_count": 72,
     "metadata": {},
     "output_type": "execute_result"
    }
   ],
   "source": [
    "pg.anova(data=merged_attr_coeff, dv='attraction_coeff', between='group')"
   ]
  },
  {
   "cell_type": "markdown",
   "metadata": {},
   "source": [
    "Дисперсии равны и мы смело проверям группы с помощью дисперсионного анализа, который показывает нам, что группы не различаются по коэффициенту привлекательности"
   ]
  },
  {
   "cell_type": "markdown",
   "metadata": {},
   "source": [
    "##### Coins\n",
    "\n",
    "Аналогично считаем ее непрерывно распределнной и проверяем как и выше."
   ]
  },
  {
   "cell_type": "code",
   "execution_count": 73,
   "metadata": {},
   "outputs": [
    {
     "data": {
      "text/html": [
       "<div>\n",
       "<style scoped>\n",
       "    .dataframe tbody tr th:only-of-type {\n",
       "        vertical-align: middle;\n",
       "    }\n",
       "\n",
       "    .dataframe tbody tr th {\n",
       "        vertical-align: top;\n",
       "    }\n",
       "\n",
       "    .dataframe thead th {\n",
       "        text-align: right;\n",
       "    }\n",
       "</style>\n",
       "<table border=\"1\" class=\"dataframe\">\n",
       "  <thead>\n",
       "    <tr style=\"text-align: right;\">\n",
       "      <th></th>\n",
       "      <th>W</th>\n",
       "      <th>pval</th>\n",
       "      <th>equal_var</th>\n",
       "    </tr>\n",
       "  </thead>\n",
       "  <tbody>\n",
       "    <tr>\n",
       "      <th>levene</th>\n",
       "      <td>0.832042</td>\n",
       "      <td>0.435189</td>\n",
       "      <td>True</td>\n",
       "    </tr>\n",
       "  </tbody>\n",
       "</table>\n",
       "</div>"
      ],
      "text/plain": [
       "               W      pval  equal_var\n",
       "levene  0.832042  0.435189       True"
      ]
     },
     "execution_count": 73,
     "metadata": {},
     "output_type": "execute_result"
    }
   ],
   "source": [
    "merged_coins = merged_df.groupby(['uid', 'group'], as_index=False) \\\n",
    "    .agg(coins=('coins', 'first'))\n",
    "\n",
    "pg.homoscedasticity(data=merged_coins, dv='coins', group='group')"
   ]
  },
  {
   "cell_type": "code",
   "execution_count": 74,
   "metadata": {},
   "outputs": [
    {
     "data": {
      "text/html": [
       "<div>\n",
       "<style scoped>\n",
       "    .dataframe tbody tr th:only-of-type {\n",
       "        vertical-align: middle;\n",
       "    }\n",
       "\n",
       "    .dataframe tbody tr th {\n",
       "        vertical-align: top;\n",
       "    }\n",
       "\n",
       "    .dataframe thead th {\n",
       "        text-align: right;\n",
       "    }\n",
       "</style>\n",
       "<table border=\"1\" class=\"dataframe\">\n",
       "  <thead>\n",
       "    <tr style=\"text-align: right;\">\n",
       "      <th></th>\n",
       "      <th>Source</th>\n",
       "      <th>ddof1</th>\n",
       "      <th>ddof2</th>\n",
       "      <th>F</th>\n",
       "      <th>p-unc</th>\n",
       "      <th>np2</th>\n",
       "    </tr>\n",
       "  </thead>\n",
       "  <tbody>\n",
       "    <tr>\n",
       "      <th>0</th>\n",
       "      <td>group</td>\n",
       "      <td>2</td>\n",
       "      <td>10341</td>\n",
       "      <td>0.832042</td>\n",
       "      <td>0.435189</td>\n",
       "      <td>0.000161</td>\n",
       "    </tr>\n",
       "  </tbody>\n",
       "</table>\n",
       "</div>"
      ],
      "text/plain": [
       "  Source  ddof1  ddof2         F     p-unc       np2\n",
       "0  group      2  10341  0.832042  0.435189  0.000161"
      ]
     },
     "execution_count": 74,
     "metadata": {},
     "output_type": "execute_result"
    }
   ],
   "source": [
    "pg.anova(data=merged_coins, dv='coins', between='group')"
   ]
  },
  {
   "cell_type": "markdown",
   "metadata": {},
   "source": [
    "Вновь дисперсионный анализ говорит нам, что мы можем считать наши группы одинаковыми по распределению среднего количества монеток в них"
   ]
  },
  {
   "cell_type": "markdown",
   "metadata": {},
   "source": [
    "##### Страны\n",
    "\n",
    "Страны - это характеристика, которая является категориальной. В данном случае мы будем проверять, что количество пользователей по странам распределено равномерно в каждой группе( соблюдается одинаковая пропорция)"
   ]
  },
  {
   "cell_type": "code",
   "execution_count": 75,
   "metadata": {},
   "outputs": [],
   "source": [
    "merged_countries = merged_df.groupby(['uid', 'group'], as_index=False) \\\n",
    "    .agg(country=('country', 'first'))"
   ]
  },
  {
   "cell_type": "code",
   "execution_count": 76,
   "metadata": {},
   "outputs": [
    {
     "data": {
      "text/html": [
       "<div>\n",
       "<style scoped>\n",
       "    .dataframe tbody tr th:only-of-type {\n",
       "        vertical-align: middle;\n",
       "    }\n",
       "\n",
       "    .dataframe tbody tr th {\n",
       "        vertical-align: top;\n",
       "    }\n",
       "\n",
       "    .dataframe thead th {\n",
       "        text-align: right;\n",
       "    }\n",
       "</style>\n",
       "<table border=\"1\" class=\"dataframe\">\n",
       "  <thead>\n",
       "    <tr style=\"text-align: right;\">\n",
       "      <th>group</th>\n",
       "      <th>control_1</th>\n",
       "      <th>control_2</th>\n",
       "      <th>test</th>\n",
       "    </tr>\n",
       "    <tr>\n",
       "      <th>country</th>\n",
       "      <th></th>\n",
       "      <th></th>\n",
       "      <th></th>\n",
       "    </tr>\n",
       "  </thead>\n",
       "  <tbody>\n",
       "    <tr>\n",
       "      <th>Argentina</th>\n",
       "      <td>389</td>\n",
       "      <td>397</td>\n",
       "      <td>396</td>\n",
       "    </tr>\n",
       "    <tr>\n",
       "      <th>Australia</th>\n",
       "      <td>50</td>\n",
       "      <td>51</td>\n",
       "      <td>62</td>\n",
       "    </tr>\n",
       "    <tr>\n",
       "      <th>Belgium</th>\n",
       "      <td>108</td>\n",
       "      <td>90</td>\n",
       "      <td>92</td>\n",
       "    </tr>\n",
       "    <tr>\n",
       "      <th>Chile</th>\n",
       "      <td>287</td>\n",
       "      <td>286</td>\n",
       "      <td>272</td>\n",
       "    </tr>\n",
       "    <tr>\n",
       "      <th>France</th>\n",
       "      <td>370</td>\n",
       "      <td>376</td>\n",
       "      <td>359</td>\n",
       "    </tr>\n",
       "    <tr>\n",
       "      <th>Israel</th>\n",
       "      <td>109</td>\n",
       "      <td>78</td>\n",
       "      <td>106</td>\n",
       "    </tr>\n",
       "    <tr>\n",
       "      <th>Italy</th>\n",
       "      <td>338</td>\n",
       "      <td>293</td>\n",
       "      <td>323</td>\n",
       "    </tr>\n",
       "    <tr>\n",
       "      <th>United Arab Emirates</th>\n",
       "      <td>207</td>\n",
       "      <td>211</td>\n",
       "      <td>226</td>\n",
       "    </tr>\n",
       "    <tr>\n",
       "      <th>United Kingdom (Great Britain)</th>\n",
       "      <td>146</td>\n",
       "      <td>146</td>\n",
       "      <td>169</td>\n",
       "    </tr>\n",
       "    <tr>\n",
       "      <th>United States of America</th>\n",
       "      <td>1471</td>\n",
       "      <td>1486</td>\n",
       "      <td>1450</td>\n",
       "    </tr>\n",
       "  </tbody>\n",
       "</table>\n",
       "</div>"
      ],
      "text/plain": [
       "group                           control_1  control_2  test\n",
       "country                                                   \n",
       "Argentina                             389        397   396\n",
       "Australia                              50         51    62\n",
       "Belgium                               108         90    92\n",
       "Chile                                 287        286   272\n",
       "France                                370        376   359\n",
       "Israel                                109         78   106\n",
       "Italy                                 338        293   323\n",
       "United Arab Emirates                  207        211   226\n",
       "United Kingdom (Great Britain)        146        146   169\n",
       "United States of America             1471       1486  1450"
      ]
     },
     "execution_count": 76,
     "metadata": {},
     "output_type": "execute_result"
    }
   ],
   "source": [
    "# Построим таблицу, которая покажет нам количество пользоватлей в отобранных странах\n",
    "pd.crosstab(merged_countries.country, merged_countries.group)"
   ]
  },
  {
   "cell_type": "markdown",
   "metadata": {},
   "source": [
    "Тест хи-квадрат, который применяется ниже, повзолит проверить является ли наше распределение пользователей равномерным в зависимости от страны"
   ]
  },
  {
   "cell_type": "code",
   "execution_count": 77,
   "metadata": {},
   "outputs": [
    {
     "data": {
      "text/html": [
       "<div>\n",
       "<style scoped>\n",
       "    .dataframe tbody tr th:only-of-type {\n",
       "        vertical-align: middle;\n",
       "    }\n",
       "\n",
       "    .dataframe tbody tr th {\n",
       "        vertical-align: top;\n",
       "    }\n",
       "\n",
       "    .dataframe thead th {\n",
       "        text-align: right;\n",
       "    }\n",
       "</style>\n",
       "<table border=\"1\" class=\"dataframe\">\n",
       "  <thead>\n",
       "    <tr style=\"text-align: right;\">\n",
       "      <th></th>\n",
       "      <th>test</th>\n",
       "      <th>lambda</th>\n",
       "      <th>chi2</th>\n",
       "      <th>dof</th>\n",
       "      <th>pval</th>\n",
       "      <th>cramer</th>\n",
       "      <th>power</th>\n",
       "    </tr>\n",
       "  </thead>\n",
       "  <tbody>\n",
       "    <tr>\n",
       "      <th>0</th>\n",
       "      <td>pearson</td>\n",
       "      <td>1.000000</td>\n",
       "      <td>17.070640</td>\n",
       "      <td>18.0</td>\n",
       "      <td>0.518253</td>\n",
       "      <td>0.028725</td>\n",
       "      <td>0.355872</td>\n",
       "    </tr>\n",
       "    <tr>\n",
       "      <th>1</th>\n",
       "      <td>cressie-read</td>\n",
       "      <td>0.666667</td>\n",
       "      <td>17.108442</td>\n",
       "      <td>18.0</td>\n",
       "      <td>0.515661</td>\n",
       "      <td>0.028757</td>\n",
       "      <td>0.356729</td>\n",
       "    </tr>\n",
       "    <tr>\n",
       "      <th>2</th>\n",
       "      <td>log-likelihood</td>\n",
       "      <td>0.000000</td>\n",
       "      <td>17.197592</td>\n",
       "      <td>18.0</td>\n",
       "      <td>0.509562</td>\n",
       "      <td>0.028832</td>\n",
       "      <td>0.358753</td>\n",
       "    </tr>\n",
       "    <tr>\n",
       "      <th>3</th>\n",
       "      <td>freeman-tukey</td>\n",
       "      <td>-0.500000</td>\n",
       "      <td>17.276748</td>\n",
       "      <td>18.0</td>\n",
       "      <td>0.504161</td>\n",
       "      <td>0.028898</td>\n",
       "      <td>0.360551</td>\n",
       "    </tr>\n",
       "    <tr>\n",
       "      <th>4</th>\n",
       "      <td>mod-log-likelihood</td>\n",
       "      <td>-1.000000</td>\n",
       "      <td>17.366903</td>\n",
       "      <td>18.0</td>\n",
       "      <td>0.498030</td>\n",
       "      <td>0.028974</td>\n",
       "      <td>0.362599</td>\n",
       "    </tr>\n",
       "    <tr>\n",
       "      <th>5</th>\n",
       "      <td>neyman</td>\n",
       "      <td>-2.000000</td>\n",
       "      <td>17.582077</td>\n",
       "      <td>18.0</td>\n",
       "      <td>0.483486</td>\n",
       "      <td>0.029153</td>\n",
       "      <td>0.367490</td>\n",
       "    </tr>\n",
       "  </tbody>\n",
       "</table>\n",
       "</div>"
      ],
      "text/plain": [
       "                 test    lambda       chi2   dof      pval    cramer     power\n",
       "0             pearson  1.000000  17.070640  18.0  0.518253  0.028725  0.355872\n",
       "1        cressie-read  0.666667  17.108442  18.0  0.515661  0.028757  0.356729\n",
       "2      log-likelihood  0.000000  17.197592  18.0  0.509562  0.028832  0.358753\n",
       "3       freeman-tukey -0.500000  17.276748  18.0  0.504161  0.028898  0.360551\n",
       "4  mod-log-likelihood -1.000000  17.366903  18.0  0.498030  0.028974  0.362599\n",
       "5              neyman -2.000000  17.582077  18.0  0.483486  0.029153  0.367490"
      ]
     },
     "execution_count": 77,
     "metadata": {},
     "output_type": "execute_result"
    }
   ],
   "source": [
    "exp, obs, stats = pg.chi2_independence(data=merged_countries, x=\"group\", y=\"country\")\n",
    "stats"
   ]
  },
  {
   "cell_type": "markdown",
   "metadata": {},
   "source": [
    "Здесь функция выводит несколько значений p-value, но все они больше порогового. Это в свою оцередь значит, мы не можем отвергнуть нулевую гипотезу и распределение по странам равномерно."
   ]
  },
  {
   "cell_type": "markdown",
   "metadata": {},
   "source": [
    "##### Количество дней в приложении\n",
    "\n",
    "Эту характеристику будем считать непрерывной и сравнивать будем средние"
   ]
  },
  {
   "cell_type": "code",
   "execution_count": 78,
   "metadata": {},
   "outputs": [
    {
     "data": {
      "text/html": [
       "<div>\n",
       "<style scoped>\n",
       "    .dataframe tbody tr th:only-of-type {\n",
       "        vertical-align: middle;\n",
       "    }\n",
       "\n",
       "    .dataframe tbody tr th {\n",
       "        vertical-align: top;\n",
       "    }\n",
       "\n",
       "    .dataframe thead th {\n",
       "        text-align: right;\n",
       "    }\n",
       "</style>\n",
       "<table border=\"1\" class=\"dataframe\">\n",
       "  <thead>\n",
       "    <tr style=\"text-align: right;\">\n",
       "      <th></th>\n",
       "      <th>W</th>\n",
       "      <th>pval</th>\n",
       "      <th>equal_var</th>\n",
       "    </tr>\n",
       "  </thead>\n",
       "  <tbody>\n",
       "    <tr>\n",
       "      <th>levene</th>\n",
       "      <td>0.964325</td>\n",
       "      <td>0.381275</td>\n",
       "      <td>True</td>\n",
       "    </tr>\n",
       "  </tbody>\n",
       "</table>\n",
       "</div>"
      ],
      "text/plain": [
       "               W      pval  equal_var\n",
       "levene  0.964325  0.381275       True"
      ]
     },
     "execution_count": 78,
     "metadata": {},
     "output_type": "execute_result"
    }
   ],
   "source": [
    "merged_visit_days = merged_df.groupby(['uid', 'group'], as_index=False) \\\n",
    "    .agg(visit_days=('visit_days', 'first'))\n",
    "\n",
    "pg.homoscedasticity(data=merged_visit_days, dv='visit_days', group='group')"
   ]
  },
  {
   "cell_type": "code",
   "execution_count": 79,
   "metadata": {},
   "outputs": [
    {
     "data": {
      "text/html": [
       "<div>\n",
       "<style scoped>\n",
       "    .dataframe tbody tr th:only-of-type {\n",
       "        vertical-align: middle;\n",
       "    }\n",
       "\n",
       "    .dataframe tbody tr th {\n",
       "        vertical-align: top;\n",
       "    }\n",
       "\n",
       "    .dataframe thead th {\n",
       "        text-align: right;\n",
       "    }\n",
       "</style>\n",
       "<table border=\"1\" class=\"dataframe\">\n",
       "  <thead>\n",
       "    <tr style=\"text-align: right;\">\n",
       "      <th></th>\n",
       "      <th>Source</th>\n",
       "      <th>ddof1</th>\n",
       "      <th>ddof2</th>\n",
       "      <th>F</th>\n",
       "      <th>p-unc</th>\n",
       "      <th>np2</th>\n",
       "    </tr>\n",
       "  </thead>\n",
       "  <tbody>\n",
       "    <tr>\n",
       "      <th>0</th>\n",
       "      <td>group</td>\n",
       "      <td>2</td>\n",
       "      <td>10341</td>\n",
       "      <td>1.528432</td>\n",
       "      <td>0.216924</td>\n",
       "      <td>0.000296</td>\n",
       "    </tr>\n",
       "  </tbody>\n",
       "</table>\n",
       "</div>"
      ],
      "text/plain": [
       "  Source  ddof1  ddof2         F     p-unc       np2\n",
       "0  group      2  10341  1.528432  0.216924  0.000296"
      ]
     },
     "execution_count": 79,
     "metadata": {},
     "output_type": "execute_result"
    }
   ],
   "source": [
    "pg.anova(data=merged_visit_days, dv='visit_days', between='group')"
   ]
  },
  {
   "cell_type": "markdown",
   "metadata": {},
   "source": [
    "Пользователи во всех группах в среднем проводили одинаковое количество дней в приложении"
   ]
  },
  {
   "cell_type": "markdown",
   "metadata": {},
   "source": [
    "##### Пол\n",
    "\n",
    "Эта характеристика имеет две градации и как и страны является категориальной. Будем использовать Хи-квадрат"
   ]
  },
  {
   "cell_type": "code",
   "execution_count": 80,
   "metadata": {},
   "outputs": [
    {
     "data": {
      "text/html": [
       "<div>\n",
       "<style scoped>\n",
       "    .dataframe tbody tr th:only-of-type {\n",
       "        vertical-align: middle;\n",
       "    }\n",
       "\n",
       "    .dataframe tbody tr th {\n",
       "        vertical-align: top;\n",
       "    }\n",
       "\n",
       "    .dataframe thead th {\n",
       "        text-align: right;\n",
       "    }\n",
       "</style>\n",
       "<table border=\"1\" class=\"dataframe\">\n",
       "  <thead>\n",
       "    <tr style=\"text-align: right;\">\n",
       "      <th>group</th>\n",
       "      <th>control_1</th>\n",
       "      <th>control_2</th>\n",
       "      <th>test</th>\n",
       "    </tr>\n",
       "    <tr>\n",
       "      <th>gender</th>\n",
       "      <th></th>\n",
       "      <th></th>\n",
       "      <th></th>\n",
       "    </tr>\n",
       "  </thead>\n",
       "  <tbody>\n",
       "    <tr>\n",
       "      <th>female</th>\n",
       "      <td>169</td>\n",
       "      <td>175</td>\n",
       "      <td>175</td>\n",
       "    </tr>\n",
       "    <tr>\n",
       "      <th>male</th>\n",
       "      <td>3306</td>\n",
       "      <td>3239</td>\n",
       "      <td>3280</td>\n",
       "    </tr>\n",
       "  </tbody>\n",
       "</table>\n",
       "</div>"
      ],
      "text/plain": [
       "group   control_1  control_2  test\n",
       "gender                            \n",
       "female        169        175   175\n",
       "male         3306       3239  3280"
      ]
     },
     "execution_count": 80,
     "metadata": {},
     "output_type": "execute_result"
    }
   ],
   "source": [
    "merged_gender = merged_df.groupby(['uid', 'group'], as_index=False) \\\n",
    "    .agg(gender=('gender', 'first'))\n",
    "\n",
    "pd.crosstab(merged_gender.gender, merged_gender.group)"
   ]
  },
  {
   "cell_type": "code",
   "execution_count": 81,
   "metadata": {},
   "outputs": [
    {
     "data": {
      "text/html": [
       "<div>\n",
       "<style scoped>\n",
       "    .dataframe tbody tr th:only-of-type {\n",
       "        vertical-align: middle;\n",
       "    }\n",
       "\n",
       "    .dataframe tbody tr th {\n",
       "        vertical-align: top;\n",
       "    }\n",
       "\n",
       "    .dataframe thead th {\n",
       "        text-align: right;\n",
       "    }\n",
       "</style>\n",
       "<table border=\"1\" class=\"dataframe\">\n",
       "  <thead>\n",
       "    <tr style=\"text-align: right;\">\n",
       "      <th></th>\n",
       "      <th>test</th>\n",
       "      <th>lambda</th>\n",
       "      <th>chi2</th>\n",
       "      <th>dof</th>\n",
       "      <th>pval</th>\n",
       "      <th>cramer</th>\n",
       "      <th>power</th>\n",
       "    </tr>\n",
       "  </thead>\n",
       "  <tbody>\n",
       "    <tr>\n",
       "      <th>0</th>\n",
       "      <td>pearson</td>\n",
       "      <td>1.000000</td>\n",
       "      <td>0.274060</td>\n",
       "      <td>2.0</td>\n",
       "      <td>0.871944</td>\n",
       "      <td>0.005147</td>\n",
       "      <td>0.071194</td>\n",
       "    </tr>\n",
       "    <tr>\n",
       "      <th>1</th>\n",
       "      <td>cressie-read</td>\n",
       "      <td>0.666667</td>\n",
       "      <td>0.274419</td>\n",
       "      <td>2.0</td>\n",
       "      <td>0.871788</td>\n",
       "      <td>0.005151</td>\n",
       "      <td>0.071222</td>\n",
       "    </tr>\n",
       "    <tr>\n",
       "      <th>2</th>\n",
       "      <td>log-likelihood</td>\n",
       "      <td>0.000000</td>\n",
       "      <td>0.275146</td>\n",
       "      <td>2.0</td>\n",
       "      <td>0.871471</td>\n",
       "      <td>0.005157</td>\n",
       "      <td>0.071280</td>\n",
       "    </tr>\n",
       "    <tr>\n",
       "      <th>3</th>\n",
       "      <td>freeman-tukey</td>\n",
       "      <td>-0.500000</td>\n",
       "      <td>0.275701</td>\n",
       "      <td>2.0</td>\n",
       "      <td>0.871229</td>\n",
       "      <td>0.005163</td>\n",
       "      <td>0.071324</td>\n",
       "    </tr>\n",
       "    <tr>\n",
       "      <th>4</th>\n",
       "      <td>mod-log-likelihood</td>\n",
       "      <td>-1.000000</td>\n",
       "      <td>0.276264</td>\n",
       "      <td>2.0</td>\n",
       "      <td>0.870984</td>\n",
       "      <td>0.005168</td>\n",
       "      <td>0.071369</td>\n",
       "    </tr>\n",
       "    <tr>\n",
       "      <th>5</th>\n",
       "      <td>neyman</td>\n",
       "      <td>-2.000000</td>\n",
       "      <td>0.277417</td>\n",
       "      <td>2.0</td>\n",
       "      <td>0.870482</td>\n",
       "      <td>0.005179</td>\n",
       "      <td>0.071461</td>\n",
       "    </tr>\n",
       "  </tbody>\n",
       "</table>\n",
       "</div>"
      ],
      "text/plain": [
       "                 test    lambda      chi2  dof      pval    cramer     power\n",
       "0             pearson  1.000000  0.274060  2.0  0.871944  0.005147  0.071194\n",
       "1        cressie-read  0.666667  0.274419  2.0  0.871788  0.005151  0.071222\n",
       "2      log-likelihood  0.000000  0.275146  2.0  0.871471  0.005157  0.071280\n",
       "3       freeman-tukey -0.500000  0.275701  2.0  0.871229  0.005163  0.071324\n",
       "4  mod-log-likelihood -1.000000  0.276264  2.0  0.870984  0.005168  0.071369\n",
       "5              neyman -2.000000  0.277417  2.0  0.870482  0.005179  0.071461"
      ]
     },
     "execution_count": 81,
     "metadata": {},
     "output_type": "execute_result"
    }
   ],
   "source": [
    "exp, obs, stats = pg.chi2_independence(data=merged_gender, x=\"group\", y=\"gender\")\n",
    "stats"
   ]
  },
  {
   "cell_type": "markdown",
   "metadata": {},
   "source": [
    "По полу пользователи распределены равномерно"
   ]
  },
  {
   "cell_type": "markdown",
   "metadata": {},
   "source": [
    "##### views_count\n",
    "\n",
    "Считаем эту величину непрерывно распределенной, сравниваем средние"
   ]
  },
  {
   "cell_type": "code",
   "execution_count": 82,
   "metadata": {},
   "outputs": [
    {
     "data": {
      "text/html": [
       "<div>\n",
       "<style scoped>\n",
       "    .dataframe tbody tr th:only-of-type {\n",
       "        vertical-align: middle;\n",
       "    }\n",
       "\n",
       "    .dataframe tbody tr th {\n",
       "        vertical-align: top;\n",
       "    }\n",
       "\n",
       "    .dataframe thead th {\n",
       "        text-align: right;\n",
       "    }\n",
       "</style>\n",
       "<table border=\"1\" class=\"dataframe\">\n",
       "  <thead>\n",
       "    <tr style=\"text-align: right;\">\n",
       "      <th></th>\n",
       "      <th>W</th>\n",
       "      <th>pval</th>\n",
       "      <th>equal_var</th>\n",
       "    </tr>\n",
       "  </thead>\n",
       "  <tbody>\n",
       "    <tr>\n",
       "      <th>levene</th>\n",
       "      <td>0.156712</td>\n",
       "      <td>0.854952</td>\n",
       "      <td>True</td>\n",
       "    </tr>\n",
       "  </tbody>\n",
       "</table>\n",
       "</div>"
      ],
      "text/plain": [
       "               W      pval  equal_var\n",
       "levene  0.156712  0.854952       True"
      ]
     },
     "execution_count": 82,
     "metadata": {},
     "output_type": "execute_result"
    }
   ],
   "source": [
    "merged_views_count = merged_df.groupby(['uid', 'group'], as_index=False) \\\n",
    "    .agg(views_count=('views_count', 'first'))\n",
    "\n",
    "pg.homoscedasticity(data=merged_views_count, dv='views_count', group='group')"
   ]
  },
  {
   "cell_type": "code",
   "execution_count": 83,
   "metadata": {},
   "outputs": [
    {
     "data": {
      "text/html": [
       "<div>\n",
       "<style scoped>\n",
       "    .dataframe tbody tr th:only-of-type {\n",
       "        vertical-align: middle;\n",
       "    }\n",
       "\n",
       "    .dataframe tbody tr th {\n",
       "        vertical-align: top;\n",
       "    }\n",
       "\n",
       "    .dataframe thead th {\n",
       "        text-align: right;\n",
       "    }\n",
       "</style>\n",
       "<table border=\"1\" class=\"dataframe\">\n",
       "  <thead>\n",
       "    <tr style=\"text-align: right;\">\n",
       "      <th></th>\n",
       "      <th>Source</th>\n",
       "      <th>ddof1</th>\n",
       "      <th>ddof2</th>\n",
       "      <th>F</th>\n",
       "      <th>p-unc</th>\n",
       "      <th>np2</th>\n",
       "    </tr>\n",
       "  </thead>\n",
       "  <tbody>\n",
       "    <tr>\n",
       "      <th>0</th>\n",
       "      <td>group</td>\n",
       "      <td>2</td>\n",
       "      <td>10341</td>\n",
       "      <td>0.162989</td>\n",
       "      <td>0.849603</td>\n",
       "      <td>0.000032</td>\n",
       "    </tr>\n",
       "  </tbody>\n",
       "</table>\n",
       "</div>"
      ],
      "text/plain": [
       "  Source  ddof1  ddof2         F     p-unc       np2\n",
       "0  group      2  10341  0.162989  0.849603  0.000032"
      ]
     },
     "execution_count": 83,
     "metadata": {},
     "output_type": "execute_result"
    }
   ],
   "source": [
    "pg.anova(data=merged_views_count, dv='views_count', between='group')"
   ]
  },
  {
   "cell_type": "markdown",
   "metadata": {},
   "source": [
    "И по этому показателю пользователи в среднем не отличаются"
   ]
  },
  {
   "cell_type": "markdown",
   "metadata": {},
   "source": [
    "##### Выручка заработанная не от премиум-подписки\n",
    "\n",
    "В приложении выручка суммируется из 4 продуктов. Проверим различается ли суммарная выручка от всех продуктов кроме премиум-подписки. Это денежная величина - мы считаем ее непрерывно распределенной. Будем проверять средние"
   ]
  },
  {
   "cell_type": "code",
   "execution_count": 84,
   "metadata": {},
   "outputs": [
    {
     "data": {
      "text/plain": [
       "control_1    116\n",
       "control_2    102\n",
       "test          80\n",
       "Name: group, dtype: int64"
      ]
     },
     "execution_count": 84,
     "metadata": {},
     "output_type": "execute_result"
    }
   ],
   "source": [
    "merged_revenue = merged_df.query('product_type != \"premium_no_trial\" and revenue > 0') \\\n",
    "    .groupby(['uid', 'group'], as_index=False) \\\n",
    "    .agg(revenue=('revenue', 'sum'))\n",
    "\n",
    "merged_revenue.group.value_counts()"
   ]
  },
  {
   "cell_type": "markdown",
   "metadata": {},
   "source": [
    "Количество пользователей все еще достаточно велико(>30), условие нормальности распределения сохраняется"
   ]
  },
  {
   "cell_type": "code",
   "execution_count": 85,
   "metadata": {},
   "outputs": [
    {
     "data": {
      "text/html": [
       "<div>\n",
       "<style scoped>\n",
       "    .dataframe tbody tr th:only-of-type {\n",
       "        vertical-align: middle;\n",
       "    }\n",
       "\n",
       "    .dataframe tbody tr th {\n",
       "        vertical-align: top;\n",
       "    }\n",
       "\n",
       "    .dataframe thead th {\n",
       "        text-align: right;\n",
       "    }\n",
       "</style>\n",
       "<table border=\"1\" class=\"dataframe\">\n",
       "  <thead>\n",
       "    <tr style=\"text-align: right;\">\n",
       "      <th></th>\n",
       "      <th>W</th>\n",
       "      <th>pval</th>\n",
       "      <th>equal_var</th>\n",
       "    </tr>\n",
       "  </thead>\n",
       "  <tbody>\n",
       "    <tr>\n",
       "      <th>levene</th>\n",
       "      <td>0.579443</td>\n",
       "      <td>0.560846</td>\n",
       "      <td>True</td>\n",
       "    </tr>\n",
       "  </tbody>\n",
       "</table>\n",
       "</div>"
      ],
      "text/plain": [
       "               W      pval  equal_var\n",
       "levene  0.579443  0.560846       True"
      ]
     },
     "execution_count": 85,
     "metadata": {},
     "output_type": "execute_result"
    }
   ],
   "source": [
    "pg.homoscedasticity(data=merged_revenue, dv='revenue', group='group')"
   ]
  },
  {
   "cell_type": "code",
   "execution_count": 86,
   "metadata": {},
   "outputs": [
    {
     "data": {
      "text/html": [
       "<div>\n",
       "<style scoped>\n",
       "    .dataframe tbody tr th:only-of-type {\n",
       "        vertical-align: middle;\n",
       "    }\n",
       "\n",
       "    .dataframe tbody tr th {\n",
       "        vertical-align: top;\n",
       "    }\n",
       "\n",
       "    .dataframe thead th {\n",
       "        text-align: right;\n",
       "    }\n",
       "</style>\n",
       "<table border=\"1\" class=\"dataframe\">\n",
       "  <thead>\n",
       "    <tr style=\"text-align: right;\">\n",
       "      <th></th>\n",
       "      <th>Source</th>\n",
       "      <th>ddof1</th>\n",
       "      <th>ddof2</th>\n",
       "      <th>F</th>\n",
       "      <th>p-unc</th>\n",
       "      <th>np2</th>\n",
       "    </tr>\n",
       "  </thead>\n",
       "  <tbody>\n",
       "    <tr>\n",
       "      <th>0</th>\n",
       "      <td>group</td>\n",
       "      <td>2</td>\n",
       "      <td>295</td>\n",
       "      <td>2.016094</td>\n",
       "      <td>0.135006</td>\n",
       "      <td>0.013484</td>\n",
       "    </tr>\n",
       "  </tbody>\n",
       "</table>\n",
       "</div>"
      ],
      "text/plain": [
       "  Source  ddof1  ddof2         F     p-unc       np2\n",
       "0  group      2    295  2.016094  0.135006  0.013484"
      ]
     },
     "execution_count": 86,
     "metadata": {},
     "output_type": "execute_result"
    }
   ],
   "source": [
    "pg.anova(data=merged_revenue, dv='revenue', between='group')"
   ]
  },
  {
   "cell_type": "markdown",
   "metadata": {},
   "source": [
    "Выручка не от премиум-подписки в группах в среднем равная"
   ]
  },
  {
   "cell_type": "markdown",
   "metadata": {},
   "source": [
    "#####  выводы\n",
    "\n",
    "По всем характеристикам за исключением целевой(стоимости премиум-подписки) пользователи в группах не различаются"
   ]
  },
  {
   "cell_type": "markdown",
   "metadata": {},
   "source": [
    "### A/A тест двух контрольных групп\n",
    "\n",
    "Если контрольные группы не различаются целевым метрикам - это будет значить, что группы были разбиты равномерно во всем. А это в свою очередь говорит о том, что тест организован корректно, согласно методологии."
   ]
  },
  {
   "cell_type": "markdown",
   "metadata": {},
   "source": [
    "#####  Целевые метрики\n",
    "\n",
    "Я не буду менять те метрики, которые выбрал изначально( доля премиум-подписок относительно всех пользователей, выручка на пользователя, выручка владельца премиум-подписки)"
   ]
  },
  {
   "cell_type": "markdown",
   "metadata": {},
   "source": [
    "##### Доля платных премиум от общего количества пользователей в группе"
   ]
  },
  {
   "cell_type": "code",
   "execution_count": 87,
   "metadata": {},
   "outputs": [],
   "source": [
    "# Добавим новую колонку, сообщающую нам является ли пользователь обладателем премиум-подписки\n",
    "merged_df['premium_no_trial'] = merged_df['product_type'].apply(lambda x: 'yes' if x == \"premium_no_trial\" else 'no')\n",
    "\n",
    "# Две группы для сравнения\n",
    "groups = ['control_1', 'control_2']"
   ]
  },
  {
   "cell_type": "markdown",
   "metadata": {},
   "source": [
    "Данная метрика является категориальной и проверять мы ее будем с помощью теста Хи-квадрат"
   ]
  },
  {
   "cell_type": "code",
   "execution_count": 88,
   "metadata": {},
   "outputs": [
    {
     "data": {
      "text/html": [
       "<div>\n",
       "<style scoped>\n",
       "    .dataframe tbody tr th:only-of-type {\n",
       "        vertical-align: middle;\n",
       "    }\n",
       "\n",
       "    .dataframe tbody tr th {\n",
       "        vertical-align: top;\n",
       "    }\n",
       "\n",
       "    .dataframe thead th {\n",
       "        text-align: right;\n",
       "    }\n",
       "</style>\n",
       "<table border=\"1\" class=\"dataframe\">\n",
       "  <thead>\n",
       "    <tr style=\"text-align: right;\">\n",
       "      <th></th>\n",
       "      <th>uid</th>\n",
       "      <th>group</th>\n",
       "      <th>premium_no_trial</th>\n",
       "    </tr>\n",
       "  </thead>\n",
       "  <tbody>\n",
       "    <tr>\n",
       "      <th>0</th>\n",
       "      <td>891050916</td>\n",
       "      <td>control_2</td>\n",
       "      <td>no</td>\n",
       "    </tr>\n",
       "    <tr>\n",
       "      <th>1</th>\n",
       "      <td>891050997</td>\n",
       "      <td>control_1</td>\n",
       "      <td>no</td>\n",
       "    </tr>\n",
       "    <tr>\n",
       "      <th>2</th>\n",
       "      <td>891051075</td>\n",
       "      <td>control_2</td>\n",
       "      <td>no</td>\n",
       "    </tr>\n",
       "    <tr>\n",
       "      <th>3</th>\n",
       "      <td>891051960</td>\n",
       "      <td>control_2</td>\n",
       "      <td>no</td>\n",
       "    </tr>\n",
       "    <tr>\n",
       "      <th>4</th>\n",
       "      <td>891052698</td>\n",
       "      <td>control_1</td>\n",
       "      <td>no</td>\n",
       "    </tr>\n",
       "  </tbody>\n",
       "</table>\n",
       "</div>"
      ],
      "text/plain": [
       "         uid      group premium_no_trial\n",
       "0  891050916  control_2               no\n",
       "1  891050997  control_1               no\n",
       "2  891051075  control_2               no\n",
       "3  891051960  control_2               no\n",
       "4  891052698  control_1               no"
      ]
     },
     "execution_count": 88,
     "metadata": {},
     "output_type": "execute_result"
    }
   ],
   "source": [
    "AA_first_metric = merged_df.query('group in @groups') \\\n",
    "    .groupby(['uid', 'group'], as_index=False) \\\n",
    "    .agg(premium_no_trial=('premium_no_trial', 'first'))\n",
    "\n",
    "AA_first_metric.head()"
   ]
  },
  {
   "cell_type": "code",
   "execution_count": 89,
   "metadata": {},
   "outputs": [
    {
     "data": {
      "text/html": [
       "<div>\n",
       "<style scoped>\n",
       "    .dataframe tbody tr th:only-of-type {\n",
       "        vertical-align: middle;\n",
       "    }\n",
       "\n",
       "    .dataframe tbody tr th {\n",
       "        vertical-align: top;\n",
       "    }\n",
       "\n",
       "    .dataframe thead th {\n",
       "        text-align: right;\n",
       "    }\n",
       "</style>\n",
       "<table border=\"1\" class=\"dataframe\">\n",
       "  <thead>\n",
       "    <tr style=\"text-align: right;\">\n",
       "      <th>group</th>\n",
       "      <th>control_1</th>\n",
       "      <th>control_2</th>\n",
       "    </tr>\n",
       "    <tr>\n",
       "      <th>premium_no_trial</th>\n",
       "      <th></th>\n",
       "      <th></th>\n",
       "    </tr>\n",
       "  </thead>\n",
       "  <tbody>\n",
       "    <tr>\n",
       "      <th>no</th>\n",
       "      <td>3422</td>\n",
       "      <td>3353</td>\n",
       "    </tr>\n",
       "    <tr>\n",
       "      <th>yes</th>\n",
       "      <td>53</td>\n",
       "      <td>61</td>\n",
       "    </tr>\n",
       "  </tbody>\n",
       "</table>\n",
       "</div>"
      ],
      "text/plain": [
       "group             control_1  control_2\n",
       "premium_no_trial                      \n",
       "no                     3422       3353\n",
       "yes                      53         61"
      ]
     },
     "execution_count": 89,
     "metadata": {},
     "output_type": "execute_result"
    }
   ],
   "source": [
    "pd.crosstab(AA_first_metric.premium_no_trial, AA_first_metric.group)"
   ]
  },
  {
   "cell_type": "code",
   "execution_count": 90,
   "metadata": {},
   "outputs": [
    {
     "data": {
      "text/html": [
       "<div>\n",
       "<style scoped>\n",
       "    .dataframe tbody tr th:only-of-type {\n",
       "        vertical-align: middle;\n",
       "    }\n",
       "\n",
       "    .dataframe tbody tr th {\n",
       "        vertical-align: top;\n",
       "    }\n",
       "\n",
       "    .dataframe thead th {\n",
       "        text-align: right;\n",
       "    }\n",
       "</style>\n",
       "<table border=\"1\" class=\"dataframe\">\n",
       "  <thead>\n",
       "    <tr style=\"text-align: right;\">\n",
       "      <th></th>\n",
       "      <th>test</th>\n",
       "      <th>lambda</th>\n",
       "      <th>chi2</th>\n",
       "      <th>dof</th>\n",
       "      <th>pval</th>\n",
       "      <th>cramer</th>\n",
       "      <th>power</th>\n",
       "    </tr>\n",
       "  </thead>\n",
       "  <tbody>\n",
       "    <tr>\n",
       "      <th>0</th>\n",
       "      <td>pearson</td>\n",
       "      <td>1.000000</td>\n",
       "      <td>0.572242</td>\n",
       "      <td>1.0</td>\n",
       "      <td>0.449369</td>\n",
       "      <td>0.009114</td>\n",
       "      <td>0.117692</td>\n",
       "    </tr>\n",
       "    <tr>\n",
       "      <th>1</th>\n",
       "      <td>cressie-read</td>\n",
       "      <td>0.666667</td>\n",
       "      <td>0.572267</td>\n",
       "      <td>1.0</td>\n",
       "      <td>0.449359</td>\n",
       "      <td>0.009114</td>\n",
       "      <td>0.117695</td>\n",
       "    </tr>\n",
       "    <tr>\n",
       "      <th>2</th>\n",
       "      <td>log-likelihood</td>\n",
       "      <td>0.000000</td>\n",
       "      <td>0.572472</td>\n",
       "      <td>1.0</td>\n",
       "      <td>0.449278</td>\n",
       "      <td>0.009116</td>\n",
       "      <td>0.117719</td>\n",
       "    </tr>\n",
       "    <tr>\n",
       "      <th>3</th>\n",
       "      <td>freeman-tukey</td>\n",
       "      <td>-0.500000</td>\n",
       "      <td>0.572761</td>\n",
       "      <td>1.0</td>\n",
       "      <td>0.449164</td>\n",
       "      <td>0.009118</td>\n",
       "      <td>0.117754</td>\n",
       "    </tr>\n",
       "    <tr>\n",
       "      <th>4</th>\n",
       "      <td>mod-log-likelihood</td>\n",
       "      <td>-1.000000</td>\n",
       "      <td>0.573167</td>\n",
       "      <td>1.0</td>\n",
       "      <td>0.449003</td>\n",
       "      <td>0.009121</td>\n",
       "      <td>0.117804</td>\n",
       "    </tr>\n",
       "    <tr>\n",
       "      <th>5</th>\n",
       "      <td>neyman</td>\n",
       "      <td>-2.000000</td>\n",
       "      <td>0.574328</td>\n",
       "      <td>1.0</td>\n",
       "      <td>0.448544</td>\n",
       "      <td>0.009131</td>\n",
       "      <td>0.117944</td>\n",
       "    </tr>\n",
       "  </tbody>\n",
       "</table>\n",
       "</div>"
      ],
      "text/plain": [
       "                 test    lambda      chi2  dof      pval    cramer     power\n",
       "0             pearson  1.000000  0.572242  1.0  0.449369  0.009114  0.117692\n",
       "1        cressie-read  0.666667  0.572267  1.0  0.449359  0.009114  0.117695\n",
       "2      log-likelihood  0.000000  0.572472  1.0  0.449278  0.009116  0.117719\n",
       "3       freeman-tukey -0.500000  0.572761  1.0  0.449164  0.009118  0.117754\n",
       "4  mod-log-likelihood -1.000000  0.573167  1.0  0.449003  0.009121  0.117804\n",
       "5              neyman -2.000000  0.574328  1.0  0.448544  0.009131  0.117944"
      ]
     },
     "execution_count": 90,
     "metadata": {},
     "output_type": "execute_result"
    }
   ],
   "source": [
    "exp, obs, stats = pg.chi2_independence(data=AA_first_metric, x=\"group\", y=\"premium_no_trial\")\n",
    "stats"
   ]
  },
  {
   "cell_type": "markdown",
   "metadata": {},
   "source": [
    "Значение p-value больше чем 0.05, значит статистически значимых различий мы не обнаружили. В контрольных группах равное количество обладателей премиум-подписок"
   ]
  },
  {
   "cell_type": "markdown",
   "metadata": {},
   "source": [
    "##### arpu"
   ]
  },
  {
   "cell_type": "markdown",
   "metadata": {},
   "source": [
    "Здесь мы будем считать общую выручку( в том числе и не отпремиум-подписки), деленную на всех пользователей в группе. \n",
    "Общая выручка = выручка от премиум + остальная выручка. Мы показали выше, что остальная выручка не отличается в группах. Можно сказать, что мы сравниваем выручку от премиум + константу. Поэтому такая метрика для оценивания изменений кореектна\n",
    "\n",
    "Самая метрика непрерывная. Будем сравнивать средние значения и использовать будем t-тест, так как групп 2 и сам тест в данном случае дает более точные результаты"
   ]
  },
  {
   "cell_type": "code",
   "execution_count": 91,
   "metadata": {},
   "outputs": [
    {
     "data": {
      "text/html": [
       "<div>\n",
       "<style scoped>\n",
       "    .dataframe tbody tr th:only-of-type {\n",
       "        vertical-align: middle;\n",
       "    }\n",
       "\n",
       "    .dataframe tbody tr th {\n",
       "        vertical-align: top;\n",
       "    }\n",
       "\n",
       "    .dataframe thead th {\n",
       "        text-align: right;\n",
       "    }\n",
       "</style>\n",
       "<table border=\"1\" class=\"dataframe\">\n",
       "  <thead>\n",
       "    <tr style=\"text-align: right;\">\n",
       "      <th></th>\n",
       "      <th>W</th>\n",
       "      <th>pval</th>\n",
       "      <th>equal_var</th>\n",
       "    </tr>\n",
       "  </thead>\n",
       "  <tbody>\n",
       "    <tr>\n",
       "      <th>levene</th>\n",
       "      <td>1.790747</td>\n",
       "      <td>0.180879</td>\n",
       "      <td>True</td>\n",
       "    </tr>\n",
       "  </tbody>\n",
       "</table>\n",
       "</div>"
      ],
      "text/plain": [
       "               W      pval  equal_var\n",
       "levene  1.790747  0.180879       True"
      ]
     },
     "execution_count": 91,
     "metadata": {},
     "output_type": "execute_result"
    }
   ],
   "source": [
    "AA_second_metric = merged_df.query('group in @groups') \\\n",
    "    .groupby(['uid', 'group'], as_index=False) \\\n",
    "    .agg(sum_rev=('revenue', 'sum'))\n",
    "\n",
    "pg.homoscedasticity(data=AA_second_metric, dv='sum_rev', group='group')"
   ]
  },
  {
   "cell_type": "code",
   "execution_count": 92,
   "metadata": {},
   "outputs": [
    {
     "data": {
      "text/html": [
       "<div>\n",
       "<style scoped>\n",
       "    .dataframe tbody tr th:only-of-type {\n",
       "        vertical-align: middle;\n",
       "    }\n",
       "\n",
       "    .dataframe tbody tr th {\n",
       "        vertical-align: top;\n",
       "    }\n",
       "\n",
       "    .dataframe thead th {\n",
       "        text-align: right;\n",
       "    }\n",
       "</style>\n",
       "<table border=\"1\" class=\"dataframe\">\n",
       "  <thead>\n",
       "    <tr style=\"text-align: right;\">\n",
       "      <th></th>\n",
       "      <th>T</th>\n",
       "      <th>dof</th>\n",
       "      <th>alternative</th>\n",
       "      <th>p-val</th>\n",
       "      <th>CI95%</th>\n",
       "      <th>cohen-d</th>\n",
       "      <th>BF10</th>\n",
       "      <th>power</th>\n",
       "    </tr>\n",
       "  </thead>\n",
       "  <tbody>\n",
       "    <tr>\n",
       "      <th>T-test</th>\n",
       "      <td>1.347441</td>\n",
       "      <td>4341.249212</td>\n",
       "      <td>two-sided</td>\n",
       "      <td>0.177908</td>\n",
       "      <td>[-82.77, 446.63]</td>\n",
       "      <td>0.032247</td>\n",
       "      <td>0.067</td>\n",
       "      <td>0.26747</td>\n",
       "    </tr>\n",
       "  </tbody>\n",
       "</table>\n",
       "</div>"
      ],
      "text/plain": [
       "               T          dof alternative     p-val             CI95%  \\\n",
       "T-test  1.347441  4341.249212   two-sided  0.177908  [-82.77, 446.63]   \n",
       "\n",
       "         cohen-d   BF10    power  \n",
       "T-test  0.032247  0.067  0.26747  "
      ]
     },
     "execution_count": 92,
     "metadata": {},
     "output_type": "execute_result"
    }
   ],
   "source": [
    "x = AA_second_metric.query('group == \"control_1\"').sum_rev\n",
    "y = AA_second_metric.query('group == \"control_2\"').sum_rev\n",
    "\n",
    "pg.ttest(x, y)"
   ]
  },
  {
   "cell_type": "markdown",
   "metadata": {},
   "source": [
    "Мы не можем отклонить нулевую гипотезу, следовательно, по этому показателю контольные группы распределены равномерно"
   ]
  },
  {
   "cell_type": "markdown",
   "metadata": {},
   "source": [
    "#### arppu \n",
    "\n",
    "метрика представляет из себя величину, которая показывает какая выручка в среднем приходится на покупателя премиум-подписки. Величина непрерывная. Будем использовать t-тест"
   ]
  },
  {
   "cell_type": "code",
   "execution_count": 93,
   "metadata": {},
   "outputs": [
    {
     "data": {
      "text/html": [
       "<div>\n",
       "<style scoped>\n",
       "    .dataframe tbody tr th:only-of-type {\n",
       "        vertical-align: middle;\n",
       "    }\n",
       "\n",
       "    .dataframe tbody tr th {\n",
       "        vertical-align: top;\n",
       "    }\n",
       "\n",
       "    .dataframe thead th {\n",
       "        text-align: right;\n",
       "    }\n",
       "</style>\n",
       "<table border=\"1\" class=\"dataframe\">\n",
       "  <thead>\n",
       "    <tr style=\"text-align: right;\">\n",
       "      <th></th>\n",
       "      <th>W</th>\n",
       "      <th>pval</th>\n",
       "      <th>equal_var</th>\n",
       "    </tr>\n",
       "  </thead>\n",
       "  <tbody>\n",
       "    <tr>\n",
       "      <th>levene</th>\n",
       "      <td>0.506432</td>\n",
       "      <td>0.477757</td>\n",
       "      <td>True</td>\n",
       "    </tr>\n",
       "  </tbody>\n",
       "</table>\n",
       "</div>"
      ],
      "text/plain": [
       "               W      pval  equal_var\n",
       "levene  0.506432  0.477757       True"
      ]
     },
     "execution_count": 93,
     "metadata": {},
     "output_type": "execute_result"
    }
   ],
   "source": [
    "AA_third_metric = merged_df.query('group in @groups and product_type == \"premium_no_trial\"') \\\n",
    "    .groupby(['uid', 'group'], as_index=False) \\\n",
    "    .agg(sum_rev=('revenue', 'sum'))\n",
    "\n",
    "pg.homoscedasticity(data=AA_third_metric, dv='sum_rev', group='group')"
   ]
  },
  {
   "cell_type": "code",
   "execution_count": 94,
   "metadata": {},
   "outputs": [
    {
     "data": {
      "text/html": [
       "<div>\n",
       "<style scoped>\n",
       "    .dataframe tbody tr th:only-of-type {\n",
       "        vertical-align: middle;\n",
       "    }\n",
       "\n",
       "    .dataframe tbody tr th {\n",
       "        vertical-align: top;\n",
       "    }\n",
       "\n",
       "    .dataframe thead th {\n",
       "        text-align: right;\n",
       "    }\n",
       "</style>\n",
       "<table border=\"1\" class=\"dataframe\">\n",
       "  <thead>\n",
       "    <tr style=\"text-align: right;\">\n",
       "      <th></th>\n",
       "      <th>T</th>\n",
       "      <th>dof</th>\n",
       "      <th>alternative</th>\n",
       "      <th>p-val</th>\n",
       "      <th>CI95%</th>\n",
       "      <th>cohen-d</th>\n",
       "      <th>BF10</th>\n",
       "      <th>power</th>\n",
       "    </tr>\n",
       "  </thead>\n",
       "  <tbody>\n",
       "    <tr>\n",
       "      <th>T-test</th>\n",
       "      <td>0.48552</td>\n",
       "      <td>151.685897</td>\n",
       "      <td>two-sided</td>\n",
       "      <td>0.628008</td>\n",
       "      <td>[-2281.5, 3768.15]</td>\n",
       "      <td>0.077419</td>\n",
       "      <td>0.192</td>\n",
       "      <td>0.077015</td>\n",
       "    </tr>\n",
       "  </tbody>\n",
       "</table>\n",
       "</div>"
      ],
      "text/plain": [
       "              T         dof alternative     p-val               CI95%  \\\n",
       "T-test  0.48552  151.685897   two-sided  0.628008  [-2281.5, 3768.15]   \n",
       "\n",
       "         cohen-d   BF10     power  \n",
       "T-test  0.077419  0.192  0.077015  "
      ]
     },
     "execution_count": 94,
     "metadata": {},
     "output_type": "execute_result"
    }
   ],
   "source": [
    "x = AA_third_metric.query('group == \"control_1\"').sum_rev\n",
    "y = AA_third_metric.query('group == \"control_2\"').sum_rev\n",
    "\n",
    "pg.ttest(x, y)"
   ]
  },
  {
   "cell_type": "markdown",
   "metadata": {},
   "source": [
    "Группы не различаются по этой метрике\n",
    "\n",
    "Ни по одной из 3 целевых метрик контрольные группы не отличаются. Теперь мы можем их объединить и объединенную группу сравнивать с тестовой по этим же метрикам."
   ]
  },
  {
   "cell_type": "markdown",
   "metadata": {},
   "source": [
    "##### Объединим группы"
   ]
  },
  {
   "cell_type": "code",
   "execution_count": 95,
   "metadata": {},
   "outputs": [
    {
     "data": {
      "text/plain": [
       "A    7138\n",
       "B    3553\n",
       "Name: group, dtype: int64"
      ]
     },
     "execution_count": 95,
     "metadata": {},
     "output_type": "execute_result"
    }
   ],
   "source": [
    "merged_df['group'] = merged_df['group'].apply(lambda x: 'B' if x == \"test\" else 'A')\n",
    "merged_df.group.value_counts()"
   ]
  },
  {
   "cell_type": "markdown",
   "metadata": {},
   "source": [
    "### A/B тест\n",
    "\n",
    "Сравниваем объединенную группу A с тестовой группой B по тем же целевым метрикам, теми же тестами, если условия применения тестов удовлетворены"
   ]
  },
  {
   "cell_type": "markdown",
   "metadata": {},
   "source": [
    "##### Конверсия "
   ]
  },
  {
   "cell_type": "code",
   "execution_count": 96,
   "metadata": {},
   "outputs": [
    {
     "data": {
      "text/html": [
       "<div>\n",
       "<style scoped>\n",
       "    .dataframe tbody tr th:only-of-type {\n",
       "        vertical-align: middle;\n",
       "    }\n",
       "\n",
       "    .dataframe tbody tr th {\n",
       "        vertical-align: top;\n",
       "    }\n",
       "\n",
       "    .dataframe thead th {\n",
       "        text-align: right;\n",
       "    }\n",
       "</style>\n",
       "<table border=\"1\" class=\"dataframe\">\n",
       "  <thead>\n",
       "    <tr style=\"text-align: right;\">\n",
       "      <th>group</th>\n",
       "      <th>A</th>\n",
       "      <th>B</th>\n",
       "    </tr>\n",
       "    <tr>\n",
       "      <th>premium_no_trial</th>\n",
       "      <th></th>\n",
       "      <th></th>\n",
       "    </tr>\n",
       "  </thead>\n",
       "  <tbody>\n",
       "    <tr>\n",
       "      <th>no</th>\n",
       "      <td>6775</td>\n",
       "      <td>3416</td>\n",
       "    </tr>\n",
       "    <tr>\n",
       "      <th>yes</th>\n",
       "      <td>114</td>\n",
       "      <td>39</td>\n",
       "    </tr>\n",
       "  </tbody>\n",
       "</table>\n",
       "</div>"
      ],
      "text/plain": [
       "group                A     B\n",
       "premium_no_trial            \n",
       "no                6775  3416\n",
       "yes                114    39"
      ]
     },
     "execution_count": 96,
     "metadata": {},
     "output_type": "execute_result"
    }
   ],
   "source": [
    "AB_first_metric = merged_df \\\n",
    "    .groupby(['uid', 'group'], as_index=False) \\\n",
    "    .agg(premium_no_trial=('premium_no_trial', 'first'))\n",
    "\n",
    "pd.crosstab(AB_first_metric.premium_no_trial, AB_first_metric.group)"
   ]
  },
  {
   "cell_type": "code",
   "execution_count": 97,
   "metadata": {},
   "outputs": [
    {
     "data": {
      "text/html": [
       "<div>\n",
       "<style scoped>\n",
       "    .dataframe tbody tr th:only-of-type {\n",
       "        vertical-align: middle;\n",
       "    }\n",
       "\n",
       "    .dataframe tbody tr th {\n",
       "        vertical-align: top;\n",
       "    }\n",
       "\n",
       "    .dataframe thead th {\n",
       "        text-align: right;\n",
       "    }\n",
       "</style>\n",
       "<table border=\"1\" class=\"dataframe\">\n",
       "  <thead>\n",
       "    <tr style=\"text-align: right;\">\n",
       "      <th></th>\n",
       "      <th>test</th>\n",
       "      <th>lambda</th>\n",
       "      <th>chi2</th>\n",
       "      <th>dof</th>\n",
       "      <th>pval</th>\n",
       "      <th>cramer</th>\n",
       "      <th>power</th>\n",
       "    </tr>\n",
       "  </thead>\n",
       "  <tbody>\n",
       "    <tr>\n",
       "      <th>0</th>\n",
       "      <td>pearson</td>\n",
       "      <td>1.000000</td>\n",
       "      <td>4.015447</td>\n",
       "      <td>1.0</td>\n",
       "      <td>0.045085</td>\n",
       "      <td>0.019703</td>\n",
       "      <td>0.517542</td>\n",
       "    </tr>\n",
       "    <tr>\n",
       "      <th>1</th>\n",
       "      <td>cressie-read</td>\n",
       "      <td>0.666667</td>\n",
       "      <td>4.071433</td>\n",
       "      <td>1.0</td>\n",
       "      <td>0.043614</td>\n",
       "      <td>0.019839</td>\n",
       "      <td>0.523087</td>\n",
       "    </tr>\n",
       "    <tr>\n",
       "      <th>2</th>\n",
       "      <td>log-likelihood</td>\n",
       "      <td>0.000000</td>\n",
       "      <td>4.193623</td>\n",
       "      <td>1.0</td>\n",
       "      <td>0.040576</td>\n",
       "      <td>0.020135</td>\n",
       "      <td>0.535041</td>\n",
       "    </tr>\n",
       "    <tr>\n",
       "      <th>3</th>\n",
       "      <td>freeman-tukey</td>\n",
       "      <td>-0.500000</td>\n",
       "      <td>4.294834</td>\n",
       "      <td>1.0</td>\n",
       "      <td>0.038228</td>\n",
       "      <td>0.020376</td>\n",
       "      <td>0.544788</td>\n",
       "    </tr>\n",
       "    <tr>\n",
       "      <th>4</th>\n",
       "      <td>mod-log-likelihood</td>\n",
       "      <td>-1.000000</td>\n",
       "      <td>4.404898</td>\n",
       "      <td>1.0</td>\n",
       "      <td>0.035836</td>\n",
       "      <td>0.020636</td>\n",
       "      <td>0.555229</td>\n",
       "    </tr>\n",
       "    <tr>\n",
       "      <th>5</th>\n",
       "      <td>neyman</td>\n",
       "      <td>-2.000000</td>\n",
       "      <td>4.654228</td>\n",
       "      <td>1.0</td>\n",
       "      <td>0.030977</td>\n",
       "      <td>0.021212</td>\n",
       "      <td>0.578263</td>\n",
       "    </tr>\n",
       "  </tbody>\n",
       "</table>\n",
       "</div>"
      ],
      "text/plain": [
       "                 test    lambda      chi2  dof      pval    cramer     power\n",
       "0             pearson  1.000000  4.015447  1.0  0.045085  0.019703  0.517542\n",
       "1        cressie-read  0.666667  4.071433  1.0  0.043614  0.019839  0.523087\n",
       "2      log-likelihood  0.000000  4.193623  1.0  0.040576  0.020135  0.535041\n",
       "3       freeman-tukey -0.500000  4.294834  1.0  0.038228  0.020376  0.544788\n",
       "4  mod-log-likelihood -1.000000  4.404898  1.0  0.035836  0.020636  0.555229\n",
       "5              neyman -2.000000  4.654228  1.0  0.030977  0.021212  0.578263"
      ]
     },
     "execution_count": 97,
     "metadata": {},
     "output_type": "execute_result"
    }
   ],
   "source": [
    "exp, obs, stats = pg.chi2_independence(data=AB_first_metric, x=\"group\", y=\"premium_no_trial\")\n",
    "stats"
   ]
  },
  {
   "cell_type": "markdown",
   "metadata": {},
   "source": [
    "p-value меньше порогового значения. Значит мы может отклонить нулевую гипотезу и считать, что наши группы различаются по этому показателю. А именно, в тестовой группе стало меньше премиум-подписок в сравнении с контрольной"
   ]
  },
  {
   "cell_type": "markdown",
   "metadata": {},
   "source": [
    "#### ARPU "
   ]
  },
  {
   "cell_type": "code",
   "execution_count": 98,
   "metadata": {},
   "outputs": [
    {
     "data": {
      "text/html": [
       "<div>\n",
       "<style scoped>\n",
       "    .dataframe tbody tr th:only-of-type {\n",
       "        vertical-align: middle;\n",
       "    }\n",
       "\n",
       "    .dataframe tbody tr th {\n",
       "        vertical-align: top;\n",
       "    }\n",
       "\n",
       "    .dataframe thead th {\n",
       "        text-align: right;\n",
       "    }\n",
       "</style>\n",
       "<table border=\"1\" class=\"dataframe\">\n",
       "  <thead>\n",
       "    <tr style=\"text-align: right;\">\n",
       "      <th></th>\n",
       "      <th>W</th>\n",
       "      <th>pval</th>\n",
       "      <th>equal_var</th>\n",
       "    </tr>\n",
       "  </thead>\n",
       "  <tbody>\n",
       "    <tr>\n",
       "      <th>levene</th>\n",
       "      <td>0.003039</td>\n",
       "      <td>0.956035</td>\n",
       "      <td>True</td>\n",
       "    </tr>\n",
       "  </tbody>\n",
       "</table>\n",
       "</div>"
      ],
      "text/plain": [
       "               W      pval  equal_var\n",
       "levene  0.003039  0.956035       True"
      ]
     },
     "execution_count": 98,
     "metadata": {},
     "output_type": "execute_result"
    }
   ],
   "source": [
    "AB_second_metric = merged_df \\\n",
    "    .groupby(['uid', 'group'], as_index=False) \\\n",
    "    .agg(sum_rev=('revenue', 'sum'))\n",
    "\n",
    "pg.homoscedasticity(data=AB_second_metric, dv='sum_rev', group='group')"
   ]
  },
  {
   "cell_type": "code",
   "execution_count": 99,
   "metadata": {},
   "outputs": [
    {
     "data": {
      "text/html": [
       "<div>\n",
       "<style scoped>\n",
       "    .dataframe tbody tr th:only-of-type {\n",
       "        vertical-align: middle;\n",
       "    }\n",
       "\n",
       "    .dataframe tbody tr th {\n",
       "        vertical-align: top;\n",
       "    }\n",
       "\n",
       "    .dataframe thead th {\n",
       "        text-align: right;\n",
       "    }\n",
       "</style>\n",
       "<table border=\"1\" class=\"dataframe\">\n",
       "  <thead>\n",
       "    <tr style=\"text-align: right;\">\n",
       "      <th></th>\n",
       "      <th>T</th>\n",
       "      <th>dof</th>\n",
       "      <th>alternative</th>\n",
       "      <th>p-val</th>\n",
       "      <th>CI95%</th>\n",
       "      <th>cohen-d</th>\n",
       "      <th>BF10</th>\n",
       "      <th>power</th>\n",
       "    </tr>\n",
       "  </thead>\n",
       "  <tbody>\n",
       "    <tr>\n",
       "      <th>T-test</th>\n",
       "      <td>-0.060593</td>\n",
       "      <td>8862.700002</td>\n",
       "      <td>two-sided</td>\n",
       "      <td>0.951685</td>\n",
       "      <td>[-199.66, 187.69]</td>\n",
       "      <td>0.001149</td>\n",
       "      <td>0.024</td>\n",
       "      <td>0.050348</td>\n",
       "    </tr>\n",
       "  </tbody>\n",
       "</table>\n",
       "</div>"
      ],
      "text/plain": [
       "               T          dof alternative     p-val              CI95%  \\\n",
       "T-test -0.060593  8862.700002   two-sided  0.951685  [-199.66, 187.69]   \n",
       "\n",
       "         cohen-d   BF10     power  \n",
       "T-test  0.001149  0.024  0.050348  "
      ]
     },
     "execution_count": 99,
     "metadata": {},
     "output_type": "execute_result"
    }
   ],
   "source": [
    "x = AB_second_metric.query('group == \"A\"').sum_rev\n",
    "y = AB_second_metric.query('group == \"B\"').sum_rev\n",
    "\n",
    "pg.ttest(x, y)"
   ]
  },
  {
   "cell_type": "markdown",
   "metadata": {},
   "source": [
    "А вот по метрике ARPU наши группы не различаются. Это значит, что наша выручка, как бизнеса в пересчете на одного пользователя не изменилась"
   ]
  },
  {
   "cell_type": "markdown",
   "metadata": {},
   "source": [
    "#### ARPPU "
   ]
  },
  {
   "cell_type": "code",
   "execution_count": 100,
   "metadata": {},
   "outputs": [
    {
     "data": {
      "text/html": [
       "<div>\n",
       "<style scoped>\n",
       "    .dataframe tbody tr th:only-of-type {\n",
       "        vertical-align: middle;\n",
       "    }\n",
       "\n",
       "    .dataframe tbody tr th {\n",
       "        vertical-align: top;\n",
       "    }\n",
       "\n",
       "    .dataframe thead th {\n",
       "        text-align: right;\n",
       "    }\n",
       "</style>\n",
       "<table border=\"1\" class=\"dataframe\">\n",
       "  <thead>\n",
       "    <tr style=\"text-align: right;\">\n",
       "      <th></th>\n",
       "      <th>W</th>\n",
       "      <th>pval</th>\n",
       "      <th>equal_var</th>\n",
       "    </tr>\n",
       "  </thead>\n",
       "  <tbody>\n",
       "    <tr>\n",
       "      <th>levene</th>\n",
       "      <td>1.656367</td>\n",
       "      <td>0.199525</td>\n",
       "      <td>True</td>\n",
       "    </tr>\n",
       "  </tbody>\n",
       "</table>\n",
       "</div>"
      ],
      "text/plain": [
       "               W      pval  equal_var\n",
       "levene  1.656367  0.199525       True"
      ]
     },
     "execution_count": 100,
     "metadata": {},
     "output_type": "execute_result"
    }
   ],
   "source": [
    "AB_third_metric = merged_df.query('product_type == \"premium_no_trial\"') \\\n",
    "    .groupby(['uid', 'group'], as_index=False) \\\n",
    "    .agg(sum_rev=('revenue', 'sum'))\n",
    "\n",
    "pg.homoscedasticity(data=AB_third_metric, dv='sum_rev', group='group')"
   ]
  },
  {
   "cell_type": "code",
   "execution_count": 101,
   "metadata": {},
   "outputs": [
    {
     "data": {
      "text/html": [
       "<div>\n",
       "<style scoped>\n",
       "    .dataframe tbody tr th:only-of-type {\n",
       "        vertical-align: middle;\n",
       "    }\n",
       "\n",
       "    .dataframe tbody tr th {\n",
       "        vertical-align: top;\n",
       "    }\n",
       "\n",
       "    .dataframe thead th {\n",
       "        text-align: right;\n",
       "    }\n",
       "</style>\n",
       "<table border=\"1\" class=\"dataframe\">\n",
       "  <thead>\n",
       "    <tr style=\"text-align: right;\">\n",
       "      <th></th>\n",
       "      <th>T</th>\n",
       "      <th>dof</th>\n",
       "      <th>alternative</th>\n",
       "      <th>p-val</th>\n",
       "      <th>CI95%</th>\n",
       "      <th>cohen-d</th>\n",
       "      <th>BF10</th>\n",
       "      <th>power</th>\n",
       "    </tr>\n",
       "  </thead>\n",
       "  <tbody>\n",
       "    <tr>\n",
       "      <th>T-test</th>\n",
       "      <td>1.884713</td>\n",
       "      <td>67.167479</td>\n",
       "      <td>two-sided</td>\n",
       "      <td>0.063796</td>\n",
       "      <td>[-242.38, 8458.17]</td>\n",
       "      <td>0.368894</td>\n",
       "      <td>0.875</td>\n",
       "      <td>0.637366</td>\n",
       "    </tr>\n",
       "  </tbody>\n",
       "</table>\n",
       "</div>"
      ],
      "text/plain": [
       "               T        dof alternative     p-val               CI95%  \\\n",
       "T-test  1.884713  67.167479   two-sided  0.063796  [-242.38, 8458.17]   \n",
       "\n",
       "         cohen-d   BF10     power  \n",
       "T-test  0.368894  0.875  0.637366  "
      ]
     },
     "execution_count": 101,
     "metadata": {},
     "output_type": "execute_result"
    }
   ],
   "source": [
    "x = AB_third_metric.query('group == \"B\"').sum_rev\n",
    "y = AB_third_metric.query('group == \"A\"').sum_rev\n",
    "\n",
    "pg.ttest(x, y)"
   ]
  },
  {
   "cell_type": "markdown",
   "metadata": {},
   "source": [
    "Здесь мы тоже не можем отклонить нулевую гипотезу. Группы не различаются по выручке принесенной нам владельцами премиум-подписок"
   ]
  },
  {
   "cell_type": "markdown",
   "metadata": {},
   "source": [
    "## Выводы:\n",
    "\n",
    "1) Мы можем утверждать, что владельцев премиум-подписок стало статистически меньше\n",
    "\n",
    "2) Выручка в пересчете на всех пользователей не изменилась\n",
    "\n",
    "3) Выручка с каждого владельца премиум-подписки не изменилась\n",
    "\n",
    "Эксперимент стоит считать неуспешным"
   ]
  }
 ],
 "metadata": {
  "kernelspec": {
   "display_name": "Python 3",
   "language": "python",
   "name": "python3"
  },
  "language_info": {
   "codemirror_mode": {
    "name": "ipython",
    "version": 3
   },
   "file_extension": ".py",
   "mimetype": "text/x-python",
   "name": "python",
   "nbconvert_exporter": "python",
   "pygments_lexer": "ipython3",
   "version": "3.7.3"
  }
 },
 "nbformat": 4,
 "nbformat_minor": 4
}
